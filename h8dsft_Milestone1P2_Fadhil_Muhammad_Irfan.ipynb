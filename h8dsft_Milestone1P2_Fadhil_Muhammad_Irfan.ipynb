{
  "cells": [
    {
      "cell_type": "markdown",
      "metadata": {
        "id": "-_fXLDFgGVXW"
      },
      "source": [
        "# Phase 2 - Milestone 1"
      ]
    },
    {
      "cell_type": "markdown",
      "metadata": {
        "id": "pQxLIYk_GbpD"
      },
      "source": [
        "## 1 - Perkenalan\n",
        "\n",
        "- Nama : Fadhil Muhammad Irfan\n",
        "- Batch : FTDS-10\n",
        "- Link Heroku : https://fadhil-ml1-telco.herokuapp.com/\n",
        "\n",
        "### Attribute Information\n",
        "\n",
        "Each row represents a customer, each column contains customer’s attributes.\n",
        "\n",
        "The data set includes information about:\n",
        "\n",
        "- Customers who left within the last month – the column is called Churn\n",
        "- Services that each customer has signed up for – phone, multiple lines, internet, online security, online backup, device protection, tech support, and streaming TV and movies\n",
        "- Customer account information – how long they’ve been a customer, contract, payment method, paperless billing, monthly charges, and total charges\n",
        "- Demographic info about customers – gender, age range, and if they have partners and dependents\n",
        "\n",
        "### Objective\n",
        "\n",
        "- To make a deep learning model for predicting whether a telco customer will Churn"
      ]
    },
    {
      "cell_type": "markdown",
      "metadata": {
        "id": "eP-4bs26Hwu8"
      },
      "source": [
        "## 2 - Import Libraries"
      ]
    },
    {
      "cell_type": "code",
      "execution_count": 188,
      "metadata": {
        "id": "_etPIvEmGKuU"
      },
      "outputs": [],
      "source": [
        "import pandas as pd\n",
        "import numpy as np\n",
        "import matplotlib.pyplot as plt\n",
        "import seaborn as sns\n",
        "from sklearn.model_selection import train_test_split # splitting train test set\n",
        "from sklearn.compose import make_column_transformer, ColumnTransformer # column transformer\n",
        "from sklearn.preprocessing import OneHotEncoder, StandardScaler, LabelEncoder # data normalisation\n",
        "from sklearn.metrics import classification_report, confusion_matrix # metrics\n",
        "import tensorflow as tf\n",
        "from tensorflow import keras\n",
        "import joblib"
      ]
    },
    {
      "cell_type": "markdown",
      "metadata": {
        "id": "QbYqfVW1JhYo"
      },
      "source": [
        "## 3 - Data Loading"
      ]
    },
    {
      "cell_type": "code",
      "execution_count": 174,
      "metadata": {
        "colab": {
          "base_uri": "https://localhost:8080/",
          "height": 386
        },
        "id": "zUWDTFfMIniR",
        "outputId": "94959599-7358-49e8-f356-d77b09e56cf9"
      },
      "outputs": [
        {
          "data": {
            "text/html": [
              "\n",
              "  <div id=\"df-73b02abd-be93-43fd-b538-faf99c02fb78\">\n",
              "    <div class=\"colab-df-container\">\n",
              "      <div>\n",
              "<style scoped>\n",
              "    .dataframe tbody tr th:only-of-type {\n",
              "        vertical-align: middle;\n",
              "    }\n",
              "\n",
              "    .dataframe tbody tr th {\n",
              "        vertical-align: top;\n",
              "    }\n",
              "\n",
              "    .dataframe thead th {\n",
              "        text-align: right;\n",
              "    }\n",
              "</style>\n",
              "<table border=\"1\" class=\"dataframe\">\n",
              "  <thead>\n",
              "    <tr style=\"text-align: right;\">\n",
              "      <th></th>\n",
              "      <th>customerID</th>\n",
              "      <th>gender</th>\n",
              "      <th>SeniorCitizen</th>\n",
              "      <th>Partner</th>\n",
              "      <th>Dependents</th>\n",
              "      <th>tenure</th>\n",
              "      <th>PhoneService</th>\n",
              "      <th>MultipleLines</th>\n",
              "      <th>InternetService</th>\n",
              "      <th>OnlineSecurity</th>\n",
              "      <th>...</th>\n",
              "      <th>DeviceProtection</th>\n",
              "      <th>TechSupport</th>\n",
              "      <th>StreamingTV</th>\n",
              "      <th>StreamingMovies</th>\n",
              "      <th>Contract</th>\n",
              "      <th>PaperlessBilling</th>\n",
              "      <th>PaymentMethod</th>\n",
              "      <th>MonthlyCharges</th>\n",
              "      <th>TotalCharges</th>\n",
              "      <th>Churn</th>\n",
              "    </tr>\n",
              "  </thead>\n",
              "  <tbody>\n",
              "    <tr>\n",
              "      <th>0</th>\n",
              "      <td>7590-VHVEG</td>\n",
              "      <td>Female</td>\n",
              "      <td>0</td>\n",
              "      <td>Yes</td>\n",
              "      <td>No</td>\n",
              "      <td>1</td>\n",
              "      <td>No</td>\n",
              "      <td>No phone service</td>\n",
              "      <td>DSL</td>\n",
              "      <td>No</td>\n",
              "      <td>...</td>\n",
              "      <td>No</td>\n",
              "      <td>No</td>\n",
              "      <td>No</td>\n",
              "      <td>No</td>\n",
              "      <td>Month-to-month</td>\n",
              "      <td>Yes</td>\n",
              "      <td>Electronic check</td>\n",
              "      <td>29.85</td>\n",
              "      <td>29.85</td>\n",
              "      <td>No</td>\n",
              "    </tr>\n",
              "    <tr>\n",
              "      <th>1</th>\n",
              "      <td>5575-GNVDE</td>\n",
              "      <td>Male</td>\n",
              "      <td>0</td>\n",
              "      <td>No</td>\n",
              "      <td>No</td>\n",
              "      <td>34</td>\n",
              "      <td>Yes</td>\n",
              "      <td>No</td>\n",
              "      <td>DSL</td>\n",
              "      <td>Yes</td>\n",
              "      <td>...</td>\n",
              "      <td>Yes</td>\n",
              "      <td>No</td>\n",
              "      <td>No</td>\n",
              "      <td>No</td>\n",
              "      <td>One year</td>\n",
              "      <td>No</td>\n",
              "      <td>Mailed check</td>\n",
              "      <td>56.95</td>\n",
              "      <td>1889.5</td>\n",
              "      <td>No</td>\n",
              "    </tr>\n",
              "    <tr>\n",
              "      <th>2</th>\n",
              "      <td>3668-QPYBK</td>\n",
              "      <td>Male</td>\n",
              "      <td>0</td>\n",
              "      <td>No</td>\n",
              "      <td>No</td>\n",
              "      <td>2</td>\n",
              "      <td>Yes</td>\n",
              "      <td>No</td>\n",
              "      <td>DSL</td>\n",
              "      <td>Yes</td>\n",
              "      <td>...</td>\n",
              "      <td>No</td>\n",
              "      <td>No</td>\n",
              "      <td>No</td>\n",
              "      <td>No</td>\n",
              "      <td>Month-to-month</td>\n",
              "      <td>Yes</td>\n",
              "      <td>Mailed check</td>\n",
              "      <td>53.85</td>\n",
              "      <td>108.15</td>\n",
              "      <td>Yes</td>\n",
              "    </tr>\n",
              "    <tr>\n",
              "      <th>3</th>\n",
              "      <td>7795-CFOCW</td>\n",
              "      <td>Male</td>\n",
              "      <td>0</td>\n",
              "      <td>No</td>\n",
              "      <td>No</td>\n",
              "      <td>45</td>\n",
              "      <td>No</td>\n",
              "      <td>No phone service</td>\n",
              "      <td>DSL</td>\n",
              "      <td>Yes</td>\n",
              "      <td>...</td>\n",
              "      <td>Yes</td>\n",
              "      <td>Yes</td>\n",
              "      <td>No</td>\n",
              "      <td>No</td>\n",
              "      <td>One year</td>\n",
              "      <td>No</td>\n",
              "      <td>Bank transfer (automatic)</td>\n",
              "      <td>42.30</td>\n",
              "      <td>1840.75</td>\n",
              "      <td>No</td>\n",
              "    </tr>\n",
              "    <tr>\n",
              "      <th>4</th>\n",
              "      <td>9237-HQITU</td>\n",
              "      <td>Female</td>\n",
              "      <td>0</td>\n",
              "      <td>No</td>\n",
              "      <td>No</td>\n",
              "      <td>2</td>\n",
              "      <td>Yes</td>\n",
              "      <td>No</td>\n",
              "      <td>Fiber optic</td>\n",
              "      <td>No</td>\n",
              "      <td>...</td>\n",
              "      <td>No</td>\n",
              "      <td>No</td>\n",
              "      <td>No</td>\n",
              "      <td>No</td>\n",
              "      <td>Month-to-month</td>\n",
              "      <td>Yes</td>\n",
              "      <td>Electronic check</td>\n",
              "      <td>70.70</td>\n",
              "      <td>151.65</td>\n",
              "      <td>Yes</td>\n",
              "    </tr>\n",
              "  </tbody>\n",
              "</table>\n",
              "<p>5 rows × 21 columns</p>\n",
              "</div>\n",
              "      <button class=\"colab-df-convert\" onclick=\"convertToInteractive('df-73b02abd-be93-43fd-b538-faf99c02fb78')\"\n",
              "              title=\"Convert this dataframe to an interactive table.\"\n",
              "              style=\"display:none;\">\n",
              "        \n",
              "  <svg xmlns=\"http://www.w3.org/2000/svg\" height=\"24px\"viewBox=\"0 0 24 24\"\n",
              "       width=\"24px\">\n",
              "    <path d=\"M0 0h24v24H0V0z\" fill=\"none\"/>\n",
              "    <path d=\"M18.56 5.44l.94 2.06.94-2.06 2.06-.94-2.06-.94-.94-2.06-.94 2.06-2.06.94zm-11 1L8.5 8.5l.94-2.06 2.06-.94-2.06-.94L8.5 2.5l-.94 2.06-2.06.94zm10 10l.94 2.06.94-2.06 2.06-.94-2.06-.94-.94-2.06-.94 2.06-2.06.94z\"/><path d=\"M17.41 7.96l-1.37-1.37c-.4-.4-.92-.59-1.43-.59-.52 0-1.04.2-1.43.59L10.3 9.45l-7.72 7.72c-.78.78-.78 2.05 0 2.83L4 21.41c.39.39.9.59 1.41.59.51 0 1.02-.2 1.41-.59l7.78-7.78 2.81-2.81c.8-.78.8-2.07 0-2.86zM5.41 20L4 18.59l7.72-7.72 1.47 1.35L5.41 20z\"/>\n",
              "  </svg>\n",
              "      </button>\n",
              "      \n",
              "  <style>\n",
              "    .colab-df-container {\n",
              "      display:flex;\n",
              "      flex-wrap:wrap;\n",
              "      gap: 12px;\n",
              "    }\n",
              "\n",
              "    .colab-df-convert {\n",
              "      background-color: #E8F0FE;\n",
              "      border: none;\n",
              "      border-radius: 50%;\n",
              "      cursor: pointer;\n",
              "      display: none;\n",
              "      fill: #1967D2;\n",
              "      height: 32px;\n",
              "      padding: 0 0 0 0;\n",
              "      width: 32px;\n",
              "    }\n",
              "\n",
              "    .colab-df-convert:hover {\n",
              "      background-color: #E2EBFA;\n",
              "      box-shadow: 0px 1px 2px rgba(60, 64, 67, 0.3), 0px 1px 3px 1px rgba(60, 64, 67, 0.15);\n",
              "      fill: #174EA6;\n",
              "    }\n",
              "\n",
              "    [theme=dark] .colab-df-convert {\n",
              "      background-color: #3B4455;\n",
              "      fill: #D2E3FC;\n",
              "    }\n",
              "\n",
              "    [theme=dark] .colab-df-convert:hover {\n",
              "      background-color: #434B5C;\n",
              "      box-shadow: 0px 1px 3px 1px rgba(0, 0, 0, 0.15);\n",
              "      filter: drop-shadow(0px 1px 2px rgba(0, 0, 0, 0.3));\n",
              "      fill: #FFFFFF;\n",
              "    }\n",
              "  </style>\n",
              "\n",
              "      <script>\n",
              "        const buttonEl =\n",
              "          document.querySelector('#df-73b02abd-be93-43fd-b538-faf99c02fb78 button.colab-df-convert');\n",
              "        buttonEl.style.display =\n",
              "          google.colab.kernel.accessAllowed ? 'block' : 'none';\n",
              "\n",
              "        async function convertToInteractive(key) {\n",
              "          const element = document.querySelector('#df-73b02abd-be93-43fd-b538-faf99c02fb78');\n",
              "          const dataTable =\n",
              "            await google.colab.kernel.invokeFunction('convertToInteractive',\n",
              "                                                     [key], {});\n",
              "          if (!dataTable) return;\n",
              "\n",
              "          const docLinkHtml = 'Like what you see? Visit the ' +\n",
              "            '<a target=\"_blank\" href=https://colab.research.google.com/notebooks/data_table.ipynb>data table notebook</a>'\n",
              "            + ' to learn more about interactive tables.';\n",
              "          element.innerHTML = '';\n",
              "          dataTable['output_type'] = 'display_data';\n",
              "          await google.colab.output.renderOutput(dataTable, element);\n",
              "          const docLink = document.createElement('div');\n",
              "          docLink.innerHTML = docLinkHtml;\n",
              "          element.appendChild(docLink);\n",
              "        }\n",
              "      </script>\n",
              "    </div>\n",
              "  </div>\n",
              "  "
            ],
            "text/plain": [
              "   customerID  gender  SeniorCitizen Partner Dependents  tenure PhoneService  \\\n",
              "0  7590-VHVEG  Female              0     Yes         No       1           No   \n",
              "1  5575-GNVDE    Male              0      No         No      34          Yes   \n",
              "2  3668-QPYBK    Male              0      No         No       2          Yes   \n",
              "3  7795-CFOCW    Male              0      No         No      45           No   \n",
              "4  9237-HQITU  Female              0      No         No       2          Yes   \n",
              "\n",
              "      MultipleLines InternetService OnlineSecurity  ... DeviceProtection  \\\n",
              "0  No phone service             DSL             No  ...               No   \n",
              "1                No             DSL            Yes  ...              Yes   \n",
              "2                No             DSL            Yes  ...               No   \n",
              "3  No phone service             DSL            Yes  ...              Yes   \n",
              "4                No     Fiber optic             No  ...               No   \n",
              "\n",
              "  TechSupport StreamingTV StreamingMovies        Contract PaperlessBilling  \\\n",
              "0          No          No              No  Month-to-month              Yes   \n",
              "1          No          No              No        One year               No   \n",
              "2          No          No              No  Month-to-month              Yes   \n",
              "3         Yes          No              No        One year               No   \n",
              "4          No          No              No  Month-to-month              Yes   \n",
              "\n",
              "               PaymentMethod MonthlyCharges  TotalCharges Churn  \n",
              "0           Electronic check          29.85         29.85    No  \n",
              "1               Mailed check          56.95        1889.5    No  \n",
              "2               Mailed check          53.85        108.15   Yes  \n",
              "3  Bank transfer (automatic)          42.30       1840.75    No  \n",
              "4           Electronic check          70.70        151.65   Yes  \n",
              "\n",
              "[5 rows x 21 columns]"
            ]
          },
          "execution_count": 174,
          "metadata": {},
          "output_type": "execute_result"
        }
      ],
      "source": [
        "data = pd.read_csv('https://raw.githubusercontent.com/4dhil/Learning_Journal/main/Phase_1/Week_1/WA_Fn-UseC_-Telco-Customer-Churn.csv')\n",
        "data_copy = data.copy()\n",
        "\n",
        "data.head()"
      ]
    },
    {
      "cell_type": "markdown",
      "metadata": {
        "id": "yRDLa70RKIbr"
      },
      "source": [
        "## 4 - Exploratory Data Analysis"
      ]
    },
    {
      "cell_type": "markdown",
      "metadata": {
        "id": "jGqC6FsybXa-"
      },
      "source": [
        "**CEK MISSING VALUES**"
      ]
    },
    {
      "cell_type": "code",
      "execution_count": 175,
      "metadata": {
        "colab": {
          "base_uri": "https://localhost:8080/"
        },
        "id": "GR9xzMmbKBlq",
        "outputId": "87967860-96c2-4bd9-9356-3626f81a0170"
      },
      "outputs": [
        {
          "name": "stdout",
          "output_type": "stream",
          "text": [
            "<class 'pandas.core.frame.DataFrame'>\n",
            "RangeIndex: 7043 entries, 0 to 7042\n",
            "Data columns (total 21 columns):\n",
            " #   Column            Non-Null Count  Dtype  \n",
            "---  ------            --------------  -----  \n",
            " 0   customerID        7043 non-null   object \n",
            " 1   gender            7043 non-null   object \n",
            " 2   SeniorCitizen     7043 non-null   int64  \n",
            " 3   Partner           7043 non-null   object \n",
            " 4   Dependents        7043 non-null   object \n",
            " 5   tenure            7043 non-null   int64  \n",
            " 6   PhoneService      7043 non-null   object \n",
            " 7   MultipleLines     7043 non-null   object \n",
            " 8   InternetService   7043 non-null   object \n",
            " 9   OnlineSecurity    7043 non-null   object \n",
            " 10  OnlineBackup      7043 non-null   object \n",
            " 11  DeviceProtection  7043 non-null   object \n",
            " 12  TechSupport       7043 non-null   object \n",
            " 13  StreamingTV       7043 non-null   object \n",
            " 14  StreamingMovies   7043 non-null   object \n",
            " 15  Contract          7043 non-null   object \n",
            " 16  PaperlessBilling  7043 non-null   object \n",
            " 17  PaymentMethod     7043 non-null   object \n",
            " 18  MonthlyCharges    7043 non-null   float64\n",
            " 19  TotalCharges      7043 non-null   object \n",
            " 20  Churn             7043 non-null   object \n",
            "dtypes: float64(1), int64(2), object(18)\n",
            "memory usage: 1.1+ MB\n"
          ]
        }
      ],
      "source": [
        "data.info()"
      ]
    },
    {
      "cell_type": "markdown",
      "metadata": {
        "id": "MdOlLedqK7UT"
      },
      "source": [
        "Berdasarkan `.info()`:\n",
        "- Terdapat 7043 data entries\n",
        "- Dimana masing-masing kolom tidak memiliki missing values dikarenakan non null count sesuai atau sama dengan total data entries\n",
        "- Berdasarkan Dtype, kebanyakan datanya merupakan data object\n",
        "- Dtype yang merupakan kolom numerik adalah `'SeniorCitizen, 'tenure', 'MonthlyCharges'`\n",
        "- Akan tetapi, jika diperhatikan, kolom `TotalCharges` seharusnya adalah data numerik. Tetapi, terdeteksi sebagai objek. Ada kemungkinan jika terdapat missing values"
      ]
    },
    {
      "cell_type": "markdown",
      "metadata": {
        "id": "dD4mkk13QobC"
      },
      "source": [
        "Cek data dengan tipe string di kolom `TotalCharges`"
      ]
    },
    {
      "cell_type": "code",
      "execution_count": 176,
      "metadata": {
        "colab": {
          "base_uri": "https://localhost:8080/"
        },
        "id": "hwAy81BdMPlq",
        "outputId": "f348e925-0efc-48f5-c121-f5005d08e477"
      },
      "outputs": [
        {
          "name": "stdout",
          "output_type": "stream",
          "text": [
            "data yang merupakan alphabet di dalam satu cell =  0\n",
            "data yang merupakan alphabet dan numerikal didalam satu cell =  324\n",
            "data yang merupakan whitespace atau kosong =  11\n"
          ]
        }
      ],
      "source": [
        "print('data yang merupakan alphabet di dalam satu cell = ', data['TotalCharges'].str.isalpha().sum())\n",
        "print('data yang merupakan alphabet dan numerikal didalam satu cell = ', data['TotalCharges'].str.isalnum().sum())\n",
        "print('data yang merupakan whitespace atau kosong = ', data['TotalCharges'].str.isspace().sum())\n"
      ]
    },
    {
      "cell_type": "markdown",
      "metadata": {
        "id": "O8jxmox-Rjxh"
      },
      "source": [
        "Berdasarkan `.isalpha()`, `isalnum()`, dan `isspace()`:\n",
        "- Tidak ada data yang berisi kolom alphabet\n",
        "- Terdapat 324 data yang memiliki alphabet dan numerik didalam satu cell\n",
        "- Terdapat 11 data yang diisi kosong"
      ]
    },
    {
      "cell_type": "markdown",
      "metadata": {
        "id": "vlYTtoMYSD00"
      },
      "source": [
        "Cek apakah benar dugaan diatas"
      ]
    },
    {
      "cell_type": "code",
      "execution_count": 177,
      "metadata": {
        "colab": {
          "base_uri": "https://localhost:8080/"
        },
        "id": "JF9XCGekNfIQ",
        "outputId": "e992f426-f32c-4bfc-e5cd-104e5213b558"
      },
      "outputs": [
        {
          "name": "stdout",
          "output_type": "stream",
          "text": [
            "488      \n",
            "753      \n",
            "936      \n",
            "1082     \n",
            "1340     \n",
            "3331     \n",
            "3826     \n",
            "4380     \n",
            "5218     \n",
            "6670     \n",
            "6754     \n",
            "Name: TotalCharges, dtype: object\n"
          ]
        }
      ],
      "source": [
        "whitespace_index = data[data['TotalCharges'].apply(lambda x: x.isspace())==True].index\n",
        "print(data.iloc[whitespace_index,19])"
      ]
    },
    {
      "cell_type": "markdown",
      "metadata": {
        "id": "ejlKrjtRSMOq"
      },
      "source": [
        "Berdasarkan pembuktian diatas index yang tampak oleh gambar diatas menunjukkan bahwa datanya terdapat missing values sehingga diisi kosong."
      ]
    },
    {
      "cell_type": "code",
      "execution_count": 178,
      "metadata": {
        "colab": {
          "base_uri": "https://localhost:8080/"
        },
        "id": "MRnpISudPnhs",
        "outputId": "feebe2a4-9103-4223-bcb5-ae1930911418"
      },
      "outputs": [
        {
          "name": "stdout",
          "output_type": "stream",
          "text": [
            "46        97\n",
            "62      2962\n",
            "72      7099\n",
            "87      1057\n",
            "93      7107\n",
            "        ... \n",
            "6936     385\n",
            "6942    1396\n",
            "6959    3342\n",
            "7019     826\n",
            "7020     239\n",
            "Name: TotalCharges, Length: 324, dtype: object\n"
          ]
        }
      ],
      "source": [
        "alphanum_index = data[data['TotalCharges'].apply(lambda x: x.isalnum())==True].index\n",
        "print(data.iloc[alphanum_index,19])"
      ]
    },
    {
      "cell_type": "markdown",
      "metadata": {
        "id": "6h_BBUSASYgG"
      },
      "source": [
        "Berdasarkan pembuktian diatas, ternyata datanya adalah data integer sehingga terdeteksi oleh `isalnum()` sebagai alpha numerical. Sedangkan bila datanya diubah sebagai float dia tidak akan terdeteksi oleh `isalnum()`.\n",
        "\n",
        "Oleh karena itu data yang terdeteksi kosong akan diubah menjadi np.nan sehingga akan terdeteksi sebagai missing values. \n",
        "Untuk data lainnya akan diubah dtypesnya menjadi float."
      ]
    },
    {
      "cell_type": "code",
      "execution_count": 179,
      "metadata": {
        "colab": {
          "base_uri": "https://localhost:8080/"
        },
        "id": "JqgrQKvYVb_y",
        "outputId": "520daf4f-84c9-4a25-bc80-0354ccecbc68"
      },
      "outputs": [
        {
          "name": "stdout",
          "output_type": "stream",
          "text": [
            "tipe data =  float64\n",
            "missing values =  11\n"
          ]
        }
      ],
      "source": [
        "data['TotalCharges'] = data['TotalCharges'].replace(' ', np.nan).astype(float)\n",
        "print('tipe data = ', data['TotalCharges'].dtype)\n",
        "print('missing values = ', data.isnull().sum().sum())"
      ]
    },
    {
      "cell_type": "markdown",
      "metadata": {
        "id": "3SOG5asXXFc0"
      },
      "source": [
        "- Tipe data di kolom total charges sudah berubah menjadi float\n",
        "- Missing values diseluruh dataset ada 11"
      ]
    },
    {
      "cell_type": "markdown",
      "metadata": {
        "id": "K-lhbDaqbSiP"
      },
      "source": [
        "**CEK DISTRIBUSI DATA NUMERIK**"
      ]
    },
    {
      "cell_type": "code",
      "execution_count": null,
      "metadata": {
        "colab": {
          "base_uri": "https://localhost:8080/",
          "height": 175
        },
        "id": "BT6atOKmVtC8",
        "outputId": "bb8d7904-c3bf-4f61-9705-54d5bdd3c330"
      },
      "outputs": [
        {
          "data": {
            "text/html": [
              "\n",
              "  <div id=\"df-afc57f70-0709-4d2a-ac4c-9ca9d9c784a1\">\n",
              "    <div class=\"colab-df-container\">\n",
              "      <div>\n",
              "<style scoped>\n",
              "    .dataframe tbody tr th:only-of-type {\n",
              "        vertical-align: middle;\n",
              "    }\n",
              "\n",
              "    .dataframe tbody tr th {\n",
              "        vertical-align: top;\n",
              "    }\n",
              "\n",
              "    .dataframe thead th {\n",
              "        text-align: right;\n",
              "    }\n",
              "</style>\n",
              "<table border=\"1\" class=\"dataframe\">\n",
              "  <thead>\n",
              "    <tr style=\"text-align: right;\">\n",
              "      <th></th>\n",
              "      <th>count</th>\n",
              "      <th>mean</th>\n",
              "      <th>std</th>\n",
              "      <th>min</th>\n",
              "      <th>25%</th>\n",
              "      <th>50%</th>\n",
              "      <th>75%</th>\n",
              "      <th>max</th>\n",
              "    </tr>\n",
              "  </thead>\n",
              "  <tbody>\n",
              "    <tr>\n",
              "      <th>SeniorCitizen</th>\n",
              "      <td>7043.0</td>\n",
              "      <td>0.162147</td>\n",
              "      <td>0.368612</td>\n",
              "      <td>0.00</td>\n",
              "      <td>0.00</td>\n",
              "      <td>0.000</td>\n",
              "      <td>0.0000</td>\n",
              "      <td>1.00</td>\n",
              "    </tr>\n",
              "    <tr>\n",
              "      <th>tenure</th>\n",
              "      <td>7043.0</td>\n",
              "      <td>32.371149</td>\n",
              "      <td>24.559481</td>\n",
              "      <td>0.00</td>\n",
              "      <td>9.00</td>\n",
              "      <td>29.000</td>\n",
              "      <td>55.0000</td>\n",
              "      <td>72.00</td>\n",
              "    </tr>\n",
              "    <tr>\n",
              "      <th>MonthlyCharges</th>\n",
              "      <td>7043.0</td>\n",
              "      <td>64.761692</td>\n",
              "      <td>30.090047</td>\n",
              "      <td>18.25</td>\n",
              "      <td>35.50</td>\n",
              "      <td>70.350</td>\n",
              "      <td>89.8500</td>\n",
              "      <td>118.75</td>\n",
              "    </tr>\n",
              "    <tr>\n",
              "      <th>TotalCharges</th>\n",
              "      <td>7032.0</td>\n",
              "      <td>2283.300441</td>\n",
              "      <td>2266.771362</td>\n",
              "      <td>18.80</td>\n",
              "      <td>401.45</td>\n",
              "      <td>1397.475</td>\n",
              "      <td>3794.7375</td>\n",
              "      <td>8684.80</td>\n",
              "    </tr>\n",
              "  </tbody>\n",
              "</table>\n",
              "</div>\n",
              "      <button class=\"colab-df-convert\" onclick=\"convertToInteractive('df-afc57f70-0709-4d2a-ac4c-9ca9d9c784a1')\"\n",
              "              title=\"Convert this dataframe to an interactive table.\"\n",
              "              style=\"display:none;\">\n",
              "        \n",
              "  <svg xmlns=\"http://www.w3.org/2000/svg\" height=\"24px\"viewBox=\"0 0 24 24\"\n",
              "       width=\"24px\">\n",
              "    <path d=\"M0 0h24v24H0V0z\" fill=\"none\"/>\n",
              "    <path d=\"M18.56 5.44l.94 2.06.94-2.06 2.06-.94-2.06-.94-.94-2.06-.94 2.06-2.06.94zm-11 1L8.5 8.5l.94-2.06 2.06-.94-2.06-.94L8.5 2.5l-.94 2.06-2.06.94zm10 10l.94 2.06.94-2.06 2.06-.94-2.06-.94-.94-2.06-.94 2.06-2.06.94z\"/><path d=\"M17.41 7.96l-1.37-1.37c-.4-.4-.92-.59-1.43-.59-.52 0-1.04.2-1.43.59L10.3 9.45l-7.72 7.72c-.78.78-.78 2.05 0 2.83L4 21.41c.39.39.9.59 1.41.59.51 0 1.02-.2 1.41-.59l7.78-7.78 2.81-2.81c.8-.78.8-2.07 0-2.86zM5.41 20L4 18.59l7.72-7.72 1.47 1.35L5.41 20z\"/>\n",
              "  </svg>\n",
              "      </button>\n",
              "      \n",
              "  <style>\n",
              "    .colab-df-container {\n",
              "      display:flex;\n",
              "      flex-wrap:wrap;\n",
              "      gap: 12px;\n",
              "    }\n",
              "\n",
              "    .colab-df-convert {\n",
              "      background-color: #E8F0FE;\n",
              "      border: none;\n",
              "      border-radius: 50%;\n",
              "      cursor: pointer;\n",
              "      display: none;\n",
              "      fill: #1967D2;\n",
              "      height: 32px;\n",
              "      padding: 0 0 0 0;\n",
              "      width: 32px;\n",
              "    }\n",
              "\n",
              "    .colab-df-convert:hover {\n",
              "      background-color: #E2EBFA;\n",
              "      box-shadow: 0px 1px 2px rgba(60, 64, 67, 0.3), 0px 1px 3px 1px rgba(60, 64, 67, 0.15);\n",
              "      fill: #174EA6;\n",
              "    }\n",
              "\n",
              "    [theme=dark] .colab-df-convert {\n",
              "      background-color: #3B4455;\n",
              "      fill: #D2E3FC;\n",
              "    }\n",
              "\n",
              "    [theme=dark] .colab-df-convert:hover {\n",
              "      background-color: #434B5C;\n",
              "      box-shadow: 0px 1px 3px 1px rgba(0, 0, 0, 0.15);\n",
              "      filter: drop-shadow(0px 1px 2px rgba(0, 0, 0, 0.3));\n",
              "      fill: #FFFFFF;\n",
              "    }\n",
              "  </style>\n",
              "\n",
              "      <script>\n",
              "        const buttonEl =\n",
              "          document.querySelector('#df-afc57f70-0709-4d2a-ac4c-9ca9d9c784a1 button.colab-df-convert');\n",
              "        buttonEl.style.display =\n",
              "          google.colab.kernel.accessAllowed ? 'block' : 'none';\n",
              "\n",
              "        async function convertToInteractive(key) {\n",
              "          const element = document.querySelector('#df-afc57f70-0709-4d2a-ac4c-9ca9d9c784a1');\n",
              "          const dataTable =\n",
              "            await google.colab.kernel.invokeFunction('convertToInteractive',\n",
              "                                                     [key], {});\n",
              "          if (!dataTable) return;\n",
              "\n",
              "          const docLinkHtml = 'Like what you see? Visit the ' +\n",
              "            '<a target=\"_blank\" href=https://colab.research.google.com/notebooks/data_table.ipynb>data table notebook</a>'\n",
              "            + ' to learn more about interactive tables.';\n",
              "          element.innerHTML = '';\n",
              "          dataTable['output_type'] = 'display_data';\n",
              "          await google.colab.output.renderOutput(dataTable, element);\n",
              "          const docLink = document.createElement('div');\n",
              "          docLink.innerHTML = docLinkHtml;\n",
              "          element.appendChild(docLink);\n",
              "        }\n",
              "      </script>\n",
              "    </div>\n",
              "  </div>\n",
              "  "
            ],
            "text/plain": [
              "                 count         mean          std    min     25%       50%  \\\n",
              "SeniorCitizen   7043.0     0.162147     0.368612   0.00    0.00     0.000   \n",
              "tenure          7043.0    32.371149    24.559481   0.00    9.00    29.000   \n",
              "MonthlyCharges  7043.0    64.761692    30.090047  18.25   35.50    70.350   \n",
              "TotalCharges    7032.0  2283.300441  2266.771362  18.80  401.45  1397.475   \n",
              "\n",
              "                      75%      max  \n",
              "SeniorCitizen      0.0000     1.00  \n",
              "tenure            55.0000    72.00  \n",
              "MonthlyCharges    89.8500   118.75  \n",
              "TotalCharges    3794.7375  8684.80  "
            ]
          },
          "execution_count": 127,
          "metadata": {},
          "output_type": "execute_result"
        }
      ],
      "source": [
        "data.describe().T"
      ]
    },
    {
      "cell_type": "markdown",
      "metadata": {
        "id": "9YfOEYjwXhZ0"
      },
      "source": [
        "Berdasarkan `.describe()` kita dapat melihat distribusi datanya:\n",
        "- kolom `SeniorCitizen` merupakan kolom kategorikal dimana 1 adalah Senior(Lansia) dan 0 adalah Bukan Senior. Maka kolomnya akan dirubah menjadi string\n",
        "- Jika dilihar dari perbedaan antara kuadran 3 ke kuadran 4, kolom `TotalCharges` perbedaannya paling ekstrim. Ada kemungkinan jika adanya outlier didalam datanya."
      ]
    },
    {
      "cell_type": "code",
      "execution_count": null,
      "metadata": {
        "colab": {
          "base_uri": "https://localhost:8080/",
          "height": 750
        },
        "id": "ThSGTfkUXWA0",
        "outputId": "60cef460-d25c-4092-b561-6bc0ea2a017c"
      },
      "outputs": [
        {
          "data": {
            "image/png": "[encoded data removed]",
            "text/plain": [
              "<Figure size 1440x720 with 4 Axes>"
            ]
          },
          "metadata": {
            "needs_background": "light"
          },
          "output_type": "display_data"
        },
        {
          "name": "stdout",
          "output_type": "stream",
          "text": [
            "skew value :\n",
            " tenure            0.239540\n",
            "MonthlyCharges   -0.220524\n",
            "TotalCharges      0.961642\n",
            "dtype: float64\n"
          ]
        },
        {
          "name": "stderr",
          "output_type": "stream",
          "text": [
            "/usr/local/lib/python3.7/dist-packages/ipykernel_launcher.py:4: FutureWarning: Dropping of nuisance columns in DataFrame reductions (with 'numeric_only=None') is deprecated; in a future version this will raise TypeError.  Select only valid columns before calling the reduction.\n",
            "  after removing the cwd from sys.path.\n"
          ]
        }
      ],
      "source": [
        "data.drop(['SeniorCitizen'],axis=1).hist(bins=30, figsize=(20,10), density = True)\n",
        "plt.show()\n",
        "\n",
        "print('skew value :\\n', data.drop(['SeniorCitizen'],axis=1).skew())"
      ]
    },
    {
      "cell_type": "markdown",
      "metadata": {
        "id": "2UUg1xVzbiNT"
      },
      "source": [
        "Berdasarkan grafik histogram:\n",
        "- Tenure dan MonthlyCharges terdistribusi normal\n",
        "- TotalCharges terdistribusi right skewed"
      ]
    },
    {
      "cell_type": "code",
      "execution_count": null,
      "metadata": {
        "colab": {
          "base_uri": "https://localhost:8080/",
          "height": 351
        },
        "id": "_TsWu6VvZnay",
        "outputId": "738ee4d3-10fe-4320-c2f7-4f6940c2d219"
      },
      "outputs": [
        {
          "data": {
            "text/plain": [
              "<matplotlib.axes._subplots.AxesSubplot at 0x7f84f19ef610>"
            ]
          },
          "execution_count": 129,
          "metadata": {},
          "output_type": "execute_result"
        },
        {
          "data": {
            "image/png": "[encoded data removed]",
            "text/plain": [
              "<Figure size 1440x360 with 3 Axes>"
            ]
          },
          "metadata": {
            "needs_background": "light"
          },
          "output_type": "display_data"
        }
      ],
      "source": [
        "plt.figure(figsize=(20, 5))\n",
        "\n",
        "plt.subplot(1, 3, 1)\n",
        "sns.boxplot(data=data, x='tenure')\n",
        "\n",
        "plt.subplot(1, 3, 2)\n",
        "sns.boxplot(data=data, x='MonthlyCharges')\n",
        "\n",
        "plt.subplot(1, 3, 3)\n",
        "sns.boxplot(data=data, x='TotalCharges')"
      ]
    },
    {
      "cell_type": "markdown",
      "metadata": {
        "id": "RQekCbYJbfSr"
      },
      "source": [
        "Berdasarkan Boxplot:\n",
        "- Tidak ada data outlier"
      ]
    },
    {
      "cell_type": "markdown",
      "metadata": {
        "id": "jJu_wHBNb_lK"
      },
      "source": [
        "**CEK DISTRIBUSI KOLOM KATEGORIK**"
      ]
    },
    {
      "cell_type": "code",
      "execution_count": null,
      "metadata": {
        "colab": {
          "base_uri": "https://localhost:8080/",
          "height": 296
        },
        "id": "ATya69KdZ-xh",
        "outputId": "5f6f5200-31ae-4da7-b0eb-9555b3fc70b6"
      },
      "outputs": [
        {
          "data": {
            "text/plain": [
              "<matplotlib.axes._subplots.AxesSubplot at 0x7f84e96fd9d0>"
            ]
          },
          "execution_count": 130,
          "metadata": {},
          "output_type": "execute_result"
        },
        {
          "data": {
            "image/png": "[encoded data removed]",
            "text/plain": [
              "<Figure size 432x288 with 1 Axes>"
            ]
          },
          "metadata": {
            "needs_background": "light"
          },
          "output_type": "display_data"
        }
      ],
      "source": [
        "sns.countplot(data=data, x='Churn')"
      ]
    },
    {
      "cell_type": "markdown",
      "metadata": {
        "id": "yydwOrVzcWjm"
      },
      "source": [
        "Berdasarkan barchart diatas, perbandingan data No:Yes adalah 5:2. Sehingga datanya cukup imbalance. Sehingga, kemungkinan besar model akan lebih bisa memprediksi data yang tidak churn"
      ]
    },
    {
      "cell_type": "code",
      "execution_count": null,
      "metadata": {
        "colab": {
          "base_uri": "https://localhost:8080/",
          "height": 354
        },
        "id": "Cz6k6TwpjdUI",
        "outputId": "7d7e4ae1-8544-4d89-ecd9-3975ede538ca"
      },
      "outputs": [
        {
          "data": {
            "text/plain": [
              "<matplotlib.axes._subplots.AxesSubplot at 0x7f84e969efd0>"
            ]
          },
          "execution_count": 131,
          "metadata": {},
          "output_type": "execute_result"
        },
        {
          "data": {
            "image/png": "[encoded data removed]",
            "text/plain": [
              "<Figure size 1440x360 with 3 Axes>"
            ]
          },
          "metadata": {
            "needs_background": "light"
          },
          "output_type": "display_data"
        }
      ],
      "source": [
        "plt.figure(figsize=(20, 5))\n",
        "\n",
        "plt.subplot(1, 3, 1)\n",
        "sns.barplot(data=data, x='Churn', y='tenure')\n",
        "\n",
        "plt.subplot(1, 3, 2)\n",
        "sns.barplot(data=data, x='Churn', y='MonthlyCharges')\n",
        "\n",
        "plt.subplot(1, 3, 3)\n",
        "sns.barplot(data=data, x='Churn', y='TotalCharges')"
      ]
    },
    {
      "cell_type": "markdown",
      "metadata": {
        "id": "UgxjGF-aCPeN"
      },
      "source": [
        "Berdasarkan Barplot diatas mengenai kolom numerik terhadap churn rate adalah:\n",
        "- Semakin rendah tenure, berarti semakin tinggi kemungkinan seseorang untuk Churn. Hal ini bisa jadi dikarenakan masa pembayaran yang lebih cepat, membuat pengguna lebih sering atau mudah untuk tidak melanjutkan penggunaan jasa\n",
        "- Semakin tinggi monthly charges, maka kemungkinan churn rate lebih tinggi.\n",
        "- Semakin tinggi total charges, maka kemungkinan tidak churn lebih tinggi. "
      ]
    },
    {
      "cell_type": "code",
      "execution_count": 180,
      "metadata": {
        "colab": {
          "base_uri": "https://localhost:8080/",
          "height": 351
        },
        "id": "JlN_mo0ll0X5",
        "outputId": "6ddeca2a-7ab1-4a5c-e19f-8c825d9b4842"
      },
      "outputs": [
        {
          "data": {
            "text/plain": [
              "<matplotlib.axes._subplots.AxesSubplot at 0x7f84f91b4f50>"
            ]
          },
          "execution_count": 180,
          "metadata": {},
          "output_type": "execute_result"
        },
        {
          "data": {
            "image/png": "[encoded data removed]",
            "text/plain": [
              "<Figure size 1800x360 with 4 Axes>"
            ]
          },
          "metadata": {
            "needs_background": "light"
          },
          "output_type": "display_data"
        }
      ],
      "source": [
        "plt.figure(figsize=(25, 5))\n",
        "\n",
        "plt.subplot(1, 4, 1)\n",
        "sns.countplot(data=data, x='gender', hue='Churn')\n",
        "\n",
        "plt.subplot(1, 4, 2)\n",
        "sns.countplot(data=data, x='SeniorCitizen', hue='Churn')\n",
        "\n",
        "plt.subplot(1, 4, 3)\n",
        "sns.countplot(data=data, x='Partner', hue='Churn')\n",
        "\n",
        "plt.subplot(1, 4, 4)\n",
        "sns.countplot(data=data, x='Dependents', hue='Churn')"
      ]
    },
    {
      "cell_type": "markdown",
      "metadata": {
        "id": "8gg8JqVKDtmk"
      },
      "source": [
        "Berdasarkan Countplot diatas mengenai kolom kategorik terhadap churn adalah:\n",
        "- Gender tidak mempengaruhi churnrate, dikarenakan jumlah churn dan tidak churn antara female dan male adalah sama.\n",
        "- Jika seseorang merupakan Senior citizen, maka kemungkinan churn lebih tinggi\n",
        "- Jika seseorang tidak memiliki partner selama penggunaan jasa, maka kemungkinan churn lebih tinggi\n",
        "- Jika seseorang adalah dependents (mempunyai tanggungan atau keluarga), maka churn rate lebih rendah"
      ]
    },
    {
      "cell_type": "code",
      "execution_count": 187,
      "metadata": {
        "colab": {
          "base_uri": "https://localhost:8080/",
          "height": 351
        },
        "id": "R0iE6XbPA4RA",
        "outputId": "87968657-d7f6-4187-c645-42bba4098533"
      },
      "outputs": [
        {
          "data": {
            "text/plain": [
              "<matplotlib.axes._subplots.AxesSubplot at 0x7f84f2ba5f50>"
            ]
          },
          "execution_count": 187,
          "metadata": {},
          "output_type": "execute_result"
        },
        {
          "data": {
            "image/png": "[encoded data removed]",
            "text/plain": [
              "<Figure size 1440x360 with 3 Axes>"
            ]
          },
          "metadata": {
            "needs_background": "light"
          },
          "output_type": "display_data"
        }
      ],
      "source": [
        "plt.figure(figsize=(20, 5))\n",
        "\n",
        "plt.subplot(1, 3, 1)\n",
        "sns.countplot(data=data, x='PhoneService', hue='Churn')\n",
        "\n",
        "plt.subplot(1, 3, 2)\n",
        "sns.countplot(data=data, x='MultipleLines', hue='Churn')\n",
        "\n",
        "plt.subplot(1, 3, 3)\n",
        "sns.countplot(data=data, x='InternetService', hue='Churn')\n",
        "\n"
      ]
    },
    {
      "cell_type": "markdown",
      "metadata": {
        "id": "TgVidkTjFFLs"
      },
      "source": [
        "Berdasarkan Countplot diatas mengenai kolom kategorik terhadap churn adalah:\n",
        "- Churnrate tidak terlalu terpengaruhi oleh PhoneService\n",
        "- Churnrate tidak terlalu terpengaruhi oleh MultipleLines\n",
        "- Jika seseorang menggunakan fiber optic, maka kemungkinan churn lebih tinggi\n"
      ]
    },
    {
      "cell_type": "code",
      "execution_count": 185,
      "metadata": {
        "colab": {
          "base_uri": "https://localhost:8080/",
          "height": 355
        },
        "id": "M4AveqPoBk3f",
        "outputId": "4e8fb326-3c5c-4732-eeea-6e2eeabc2427"
      },
      "outputs": [
        {
          "data": {
            "text/plain": [
              "<matplotlib.axes._subplots.AxesSubplot at 0x7f84f3ac9390>"
            ]
          },
          "execution_count": 185,
          "metadata": {},
          "output_type": "execute_result"
        },
        {
          "data": {
            "image/png": "[encoded data removed]",
            "text/plain": [
              "<Figure size 1800x360 with 4 Axes>"
            ]
          },
          "metadata": {
            "needs_background": "light"
          },
          "output_type": "display_data"
        }
      ],
      "source": [
        "plt.figure(figsize=(25, 5))\n",
        "\n",
        "plt.subplot(1, 4, 1)\n",
        "sns.countplot(data=data, x='OnlineSecurity', hue='Churn')\n",
        "\n",
        "plt.subplot(1, 4, 2)\n",
        "sns.countplot(data=data, x='OnlineBackup', hue='Churn')\n",
        "\n",
        "plt.subplot(1, 4, 3)\n",
        "sns.countplot(data=data, x='DeviceProtection', hue='Churn')\n",
        "\n",
        "plt.subplot(1, 4, 4)\n",
        "sns.countplot(data=data, x='TechSupport', hue='Churn')"
      ]
    },
    {
      "cell_type": "markdown",
      "metadata": {
        "id": "aKlA4aHSG_1G"
      },
      "source": [
        "Berdasarkan Countplot diatas mengenai kolom kategorik terhadap churn adalah:\n",
        "- Jika seseorang tidak memiliki OnlineSecurity maka kemungkinan churn lebih tinggi\n",
        "- Jika seseorang tidak memiliki OnlineBackup, maka churn rate lebih tinggi\n",
        "- Jika seseorang tidak memiliki device protection, maka churn rate lebih tinggi\n",
        "- Jika seseorang tidak memiliki tech support, maka churn rate lebih tinggi\n",
        "- Bisa disimpulkan dari keempat grafik diatas jika seseorang tidak memiliki pengamanan, maka kemungkinan churn lebih tinggi"
      ]
    },
    {
      "cell_type": "code",
      "execution_count": 186,
      "metadata": {
        "colab": {
          "base_uri": "https://localhost:8080/",
          "height": 353
        },
        "id": "nE1B3kMKBw8X",
        "outputId": "de7d9355-114f-48a5-dfdb-e6e901cef534"
      },
      "outputs": [
        {
          "data": {
            "text/plain": [
              "<matplotlib.axes._subplots.AxesSubplot at 0x7f84f2cc7f90>"
            ]
          },
          "execution_count": 186,
          "metadata": {},
          "output_type": "execute_result"
        },
        {
          "data": {
            "image/png": "[encoded data removed]",
            "text/plain": [
              "<Figure size 1800x360 with 4 Axes>"
            ]
          },
          "metadata": {
            "needs_background": "light"
          },
          "output_type": "display_data"
        }
      ],
      "source": [
        "plt.figure(figsize=(25, 5))\n",
        "\n",
        "plt.subplot(1, 4, 1)\n",
        "sns.countplot(data=data, x='StreamingTV', hue='Churn')\n",
        "\n",
        "plt.subplot(1, 4, 2)\n",
        "sns.countplot(data=data, x='StreamingMovies', hue='Churn')\n",
        "\n",
        "plt.subplot(1, 4, 3)\n",
        "sns.countplot(data=data, x='Contract', hue='Churn')\n",
        "\n",
        "plt.subplot(1, 4, 4)\n",
        "sns.countplot(data=data, x='PaperlessBilling', hue='Churn')"
      ]
    },
    {
      "cell_type": "markdown",
      "metadata": {
        "id": "0AhuRUs1Ijb5"
      },
      "source": [
        "Berdasarkan Countplot diatas mengenai kolom kategorik terhadap churn adalah:\n",
        "- StreamingTV atau movies tidak memilki pengaruh terhadap churn rate\n",
        "- Tipe kontrak atau pembayaran perbulan, memilki churn rate yang tinggi bisa dikarenakan client lebih mudah untuk mengcancel subscription\n",
        "- Jika seseorang menggunakan paperless billing, maka churnrate lebih tinggi hal ini kemungkinan dikarenakan pengguna lebih jarang menggunakan atau membaca email mereka|"
      ]
    },
    {
      "cell_type": "markdown",
      "metadata": {
        "id": "nipv9OTNc9Gj"
      },
      "source": [
        "## 5 - Data Preprocessing"
      ]
    },
    {
      "cell_type": "markdown",
      "metadata": {
        "id": "oH931BgS6sI4"
      },
      "source": [
        "Mengubah kolom `SeniorCitizen` menjadi kategorikal dan encoding kolom target"
      ]
    },
    {
      "cell_type": "code",
      "execution_count": null,
      "metadata": {
        "id": "1-va2npE6UWN"
      },
      "outputs": [],
      "source": [
        "data['SeniorCitizen'] = data['SeniorCitizen'].map({0:\"no\", 1:\"yes\"})\n",
        "data['Churn'] = data['Churn'].map({\"No\":0, \"Yes\":1})"
      ]
    },
    {
      "cell_type": "markdown",
      "metadata": {
        "id": "c6Bzvu7k6z-b"
      },
      "source": [
        "Split Data Inference"
      ]
    },
    {
      "cell_type": "code",
      "execution_count": null,
      "metadata": {
        "colab": {
          "base_uri": "https://localhost:8080/",
          "height": 386
        },
        "id": "HazFwtmgdI5w",
        "outputId": "bfb66bc8-a273-4ad5-a658-2952ffdeb977"
      },
      "outputs": [
        {
          "data": {
            "text/html": [
              "\n",
              "  <div id=\"df-5c66420d-63c9-4ebe-9587-169b9b370490\">\n",
              "    <div class=\"colab-df-container\">\n",
              "      <div>\n",
              "<style scoped>\n",
              "    .dataframe tbody tr th:only-of-type {\n",
              "        vertical-align: middle;\n",
              "    }\n",
              "\n",
              "    .dataframe tbody tr th {\n",
              "        vertical-align: top;\n",
              "    }\n",
              "\n",
              "    .dataframe thead th {\n",
              "        text-align: right;\n",
              "    }\n",
              "</style>\n",
              "<table border=\"1\" class=\"dataframe\">\n",
              "  <thead>\n",
              "    <tr style=\"text-align: right;\">\n",
              "      <th></th>\n",
              "      <th>customerID</th>\n",
              "      <th>gender</th>\n",
              "      <th>SeniorCitizen</th>\n",
              "      <th>Partner</th>\n",
              "      <th>Dependents</th>\n",
              "      <th>tenure</th>\n",
              "      <th>PhoneService</th>\n",
              "      <th>MultipleLines</th>\n",
              "      <th>InternetService</th>\n",
              "      <th>OnlineSecurity</th>\n",
              "      <th>...</th>\n",
              "      <th>DeviceProtection</th>\n",
              "      <th>TechSupport</th>\n",
              "      <th>StreamingTV</th>\n",
              "      <th>StreamingMovies</th>\n",
              "      <th>Contract</th>\n",
              "      <th>PaperlessBilling</th>\n",
              "      <th>PaymentMethod</th>\n",
              "      <th>MonthlyCharges</th>\n",
              "      <th>TotalCharges</th>\n",
              "      <th>Churn</th>\n",
              "    </tr>\n",
              "  </thead>\n",
              "  <tbody>\n",
              "    <tr>\n",
              "      <th>0</th>\n",
              "      <td>2486-WYVVE</td>\n",
              "      <td>Male</td>\n",
              "      <td>no</td>\n",
              "      <td>Yes</td>\n",
              "      <td>No</td>\n",
              "      <td>31</td>\n",
              "      <td>Yes</td>\n",
              "      <td>Yes</td>\n",
              "      <td>DSL</td>\n",
              "      <td>No</td>\n",
              "      <td>...</td>\n",
              "      <td>Yes</td>\n",
              "      <td>Yes</td>\n",
              "      <td>Yes</td>\n",
              "      <td>Yes</td>\n",
              "      <td>One year</td>\n",
              "      <td>Yes</td>\n",
              "      <td>Mailed check</td>\n",
              "      <td>79.30</td>\n",
              "      <td>2484.00</td>\n",
              "      <td>0</td>\n",
              "    </tr>\n",
              "    <tr>\n",
              "      <th>1</th>\n",
              "      <td>8183-ONMXC</td>\n",
              "      <td>Female</td>\n",
              "      <td>no</td>\n",
              "      <td>No</td>\n",
              "      <td>No</td>\n",
              "      <td>2</td>\n",
              "      <td>Yes</td>\n",
              "      <td>No</td>\n",
              "      <td>Fiber optic</td>\n",
              "      <td>No</td>\n",
              "      <td>...</td>\n",
              "      <td>No</td>\n",
              "      <td>No</td>\n",
              "      <td>No</td>\n",
              "      <td>Yes</td>\n",
              "      <td>Month-to-month</td>\n",
              "      <td>No</td>\n",
              "      <td>Electronic check</td>\n",
              "      <td>80.75</td>\n",
              "      <td>159.45</td>\n",
              "      <td>1</td>\n",
              "    </tr>\n",
              "    <tr>\n",
              "      <th>2</th>\n",
              "      <td>0575-CUQOV</td>\n",
              "      <td>Male</td>\n",
              "      <td>yes</td>\n",
              "      <td>Yes</td>\n",
              "      <td>No</td>\n",
              "      <td>60</td>\n",
              "      <td>Yes</td>\n",
              "      <td>No</td>\n",
              "      <td>Fiber optic</td>\n",
              "      <td>No</td>\n",
              "      <td>...</td>\n",
              "      <td>Yes</td>\n",
              "      <td>No</td>\n",
              "      <td>Yes</td>\n",
              "      <td>Yes</td>\n",
              "      <td>One year</td>\n",
              "      <td>Yes</td>\n",
              "      <td>Electronic check</td>\n",
              "      <td>97.95</td>\n",
              "      <td>5867.00</td>\n",
              "      <td>0</td>\n",
              "    </tr>\n",
              "    <tr>\n",
              "      <th>3</th>\n",
              "      <td>8627-ZYGSZ</td>\n",
              "      <td>Male</td>\n",
              "      <td>no</td>\n",
              "      <td>Yes</td>\n",
              "      <td>No</td>\n",
              "      <td>47</td>\n",
              "      <td>Yes</td>\n",
              "      <td>Yes</td>\n",
              "      <td>Fiber optic</td>\n",
              "      <td>No</td>\n",
              "      <td>...</td>\n",
              "      <td>No</td>\n",
              "      <td>No</td>\n",
              "      <td>No</td>\n",
              "      <td>No</td>\n",
              "      <td>One year</td>\n",
              "      <td>Yes</td>\n",
              "      <td>Electronic check</td>\n",
              "      <td>78.90</td>\n",
              "      <td>3650.35</td>\n",
              "      <td>0</td>\n",
              "    </tr>\n",
              "    <tr>\n",
              "      <th>4</th>\n",
              "      <td>4918-FYJNT</td>\n",
              "      <td>Female</td>\n",
              "      <td>yes</td>\n",
              "      <td>Yes</td>\n",
              "      <td>No</td>\n",
              "      <td>55</td>\n",
              "      <td>Yes</td>\n",
              "      <td>Yes</td>\n",
              "      <td>Fiber optic</td>\n",
              "      <td>No</td>\n",
              "      <td>...</td>\n",
              "      <td>Yes</td>\n",
              "      <td>Yes</td>\n",
              "      <td>No</td>\n",
              "      <td>No</td>\n",
              "      <td>Month-to-month</td>\n",
              "      <td>No</td>\n",
              "      <td>Electronic check</td>\n",
              "      <td>90.45</td>\n",
              "      <td>5044.80</td>\n",
              "      <td>0</td>\n",
              "    </tr>\n",
              "  </tbody>\n",
              "</table>\n",
              "<p>5 rows × 21 columns</p>\n",
              "</div>\n",
              "      <button class=\"colab-df-convert\" onclick=\"convertToInteractive('df-5c66420d-63c9-4ebe-9587-169b9b370490')\"\n",
              "              title=\"Convert this dataframe to an interactive table.\"\n",
              "              style=\"display:none;\">\n",
              "        \n",
              "  <svg xmlns=\"http://www.w3.org/2000/svg\" height=\"24px\"viewBox=\"0 0 24 24\"\n",
              "       width=\"24px\">\n",
              "    <path d=\"M0 0h24v24H0V0z\" fill=\"none\"/>\n",
              "    <path d=\"M18.56 5.44l.94 2.06.94-2.06 2.06-.94-2.06-.94-.94-2.06-.94 2.06-2.06.94zm-11 1L8.5 8.5l.94-2.06 2.06-.94-2.06-.94L8.5 2.5l-.94 2.06-2.06.94zm10 10l.94 2.06.94-2.06 2.06-.94-2.06-.94-.94-2.06-.94 2.06-2.06.94z\"/><path d=\"M17.41 7.96l-1.37-1.37c-.4-.4-.92-.59-1.43-.59-.52 0-1.04.2-1.43.59L10.3 9.45l-7.72 7.72c-.78.78-.78 2.05 0 2.83L4 21.41c.39.39.9.59 1.41.59.51 0 1.02-.2 1.41-.59l7.78-7.78 2.81-2.81c.8-.78.8-2.07 0-2.86zM5.41 20L4 18.59l7.72-7.72 1.47 1.35L5.41 20z\"/>\n",
              "  </svg>\n",
              "      </button>\n",
              "      \n",
              "  <style>\n",
              "    .colab-df-container {\n",
              "      display:flex;\n",
              "      flex-wrap:wrap;\n",
              "      gap: 12px;\n",
              "    }\n",
              "\n",
              "    .colab-df-convert {\n",
              "      background-color: #E8F0FE;\n",
              "      border: none;\n",
              "      border-radius: 50%;\n",
              "      cursor: pointer;\n",
              "      display: none;\n",
              "      fill: #1967D2;\n",
              "      height: 32px;\n",
              "      padding: 0 0 0 0;\n",
              "      width: 32px;\n",
              "    }\n",
              "\n",
              "    .colab-df-convert:hover {\n",
              "      background-color: #E2EBFA;\n",
              "      box-shadow: 0px 1px 2px rgba(60, 64, 67, 0.3), 0px 1px 3px 1px rgba(60, 64, 67, 0.15);\n",
              "      fill: #174EA6;\n",
              "    }\n",
              "\n",
              "    [theme=dark] .colab-df-convert {\n",
              "      background-color: #3B4455;\n",
              "      fill: #D2E3FC;\n",
              "    }\n",
              "\n",
              "    [theme=dark] .colab-df-convert:hover {\n",
              "      background-color: #434B5C;\n",
              "      box-shadow: 0px 1px 3px 1px rgba(0, 0, 0, 0.15);\n",
              "      filter: drop-shadow(0px 1px 2px rgba(0, 0, 0, 0.3));\n",
              "      fill: #FFFFFF;\n",
              "    }\n",
              "  </style>\n",
              "\n",
              "      <script>\n",
              "        const buttonEl =\n",
              "          document.querySelector('#df-5c66420d-63c9-4ebe-9587-169b9b370490 button.colab-df-convert');\n",
              "        buttonEl.style.display =\n",
              "          google.colab.kernel.accessAllowed ? 'block' : 'none';\n",
              "\n",
              "        async function convertToInteractive(key) {\n",
              "          const element = document.querySelector('#df-5c66420d-63c9-4ebe-9587-169b9b370490');\n",
              "          const dataTable =\n",
              "            await google.colab.kernel.invokeFunction('convertToInteractive',\n",
              "                                                     [key], {});\n",
              "          if (!dataTable) return;\n",
              "\n",
              "          const docLinkHtml = 'Like what you see? Visit the ' +\n",
              "            '<a target=\"_blank\" href=https://colab.research.google.com/notebooks/data_table.ipynb>data table notebook</a>'\n",
              "            + ' to learn more about interactive tables.';\n",
              "          element.innerHTML = '';\n",
              "          dataTable['output_type'] = 'display_data';\n",
              "          await google.colab.output.renderOutput(dataTable, element);\n",
              "          const docLink = document.createElement('div');\n",
              "          docLink.innerHTML = docLinkHtml;\n",
              "          element.appendChild(docLink);\n",
              "        }\n",
              "      </script>\n",
              "    </div>\n",
              "  </div>\n",
              "  "
            ],
            "text/plain": [
              "   customerID  gender SeniorCitizen Partner Dependents  tenure PhoneService  \\\n",
              "0  2486-WYVVE    Male            no     Yes         No      31          Yes   \n",
              "1  8183-ONMXC  Female            no      No         No       2          Yes   \n",
              "2  0575-CUQOV    Male           yes     Yes         No      60          Yes   \n",
              "3  8627-ZYGSZ    Male            no     Yes         No      47          Yes   \n",
              "4  4918-FYJNT  Female           yes     Yes         No      55          Yes   \n",
              "\n",
              "  MultipleLines InternetService OnlineSecurity  ... DeviceProtection  \\\n",
              "0           Yes             DSL             No  ...              Yes   \n",
              "1            No     Fiber optic             No  ...               No   \n",
              "2            No     Fiber optic             No  ...              Yes   \n",
              "3           Yes     Fiber optic             No  ...               No   \n",
              "4           Yes     Fiber optic             No  ...              Yes   \n",
              "\n",
              "  TechSupport StreamingTV StreamingMovies        Contract PaperlessBilling  \\\n",
              "0         Yes         Yes             Yes        One year              Yes   \n",
              "1          No          No             Yes  Month-to-month               No   \n",
              "2          No         Yes             Yes        One year              Yes   \n",
              "3          No          No              No        One year              Yes   \n",
              "4         Yes          No              No  Month-to-month               No   \n",
              "\n",
              "      PaymentMethod MonthlyCharges  TotalCharges  Churn  \n",
              "0      Mailed check          79.30       2484.00      0  \n",
              "1  Electronic check          80.75        159.45      1  \n",
              "2  Electronic check          97.95       5867.00      0  \n",
              "3  Electronic check          78.90       3650.35      0  \n",
              "4  Electronic check          90.45       5044.80      0  \n",
              "\n",
              "[5 rows x 21 columns]"
            ]
          },
          "execution_count": 134,
          "metadata": {},
          "output_type": "execute_result"
        }
      ],
      "source": [
        "data_inf = data.sample(10, random_state=10)\n",
        "data_train_test = data.drop(data_inf.index)\n",
        "data_train_test.reset_index(drop = True, inplace=True)\n",
        "data_inf.reset_index(drop = True, inplace=True)\n",
        "data_inf.head()"
      ]
    },
    {
      "cell_type": "markdown",
      "metadata": {
        "id": "97YoRjXSGc2l"
      },
      "source": [
        "### Split Data Train, Validation, and Test"
      ]
    },
    {
      "cell_type": "code",
      "execution_count": null,
      "metadata": {
        "id": "MQsgGkajddTQ"
      },
      "outputs": [],
      "source": [
        "X = data_train_test.drop(['Churn'],axis=1)\n",
        "y = data_train_test['Churn']"
      ]
    },
    {
      "cell_type": "code",
      "execution_count": null,
      "metadata": {
        "id": "ji51itmtGxYP"
      },
      "outputs": [],
      "source": [
        "X_train, X_test, y_train, y_test = train_test_split(X, y, test_size=0.2, random_state=46)\n",
        "X_train, X_val, y_train, y_val = train_test_split(X_train, y_train, test_size=0.3, random_state=46)"
      ]
    },
    {
      "cell_type": "markdown",
      "metadata": {
        "id": "ULUAud5zrr4l"
      },
      "source": [
        "### Handling Missing Values"
      ]
    },
    {
      "cell_type": "markdown",
      "metadata": {
        "id": "T82IG-YXtxS1"
      },
      "source": [
        "Mengisi missing values dengan median"
      ]
    },
    {
      "cell_type": "code",
      "execution_count": null,
      "metadata": {
        "id": "DH1YJ7urrk-8"
      },
      "outputs": [],
      "source": [
        "med = data['TotalCharges'].median()\n",
        "X_train['TotalCharges'] = X_train['TotalCharges'].fillna(med)\n",
        "X_val['TotalCharges'] = X_val['TotalCharges'].fillna(med)\n",
        "X_test['TotalCharges'] = X_test['TotalCharges'].fillna(med)"
      ]
    },
    {
      "cell_type": "markdown",
      "metadata": {
        "id": "4gdWxfH_t4YR"
      },
      "source": [
        "### Feature Selection"
      ]
    },
    {
      "cell_type": "markdown",
      "metadata": {
        "id": "uhKDbxRQ7cB3"
      },
      "source": [
        "Drop features customerID dikarenakan valuenya unik untuk setiap sample, sehingga dia tidak memiliki keterkaitan terhadap target"
      ]
    },
    {
      "cell_type": "code",
      "execution_count": null,
      "metadata": {
        "id": "W5Lf1W-l7c_k"
      },
      "outputs": [],
      "source": [
        "X_train.drop(['customerID'], axis=1, inplace=True)\n",
        "X_val.drop(['customerID'], axis=1, inplace=True)\n",
        "X_test.drop(['customerID'], axis=1, inplace=True)"
      ]
    },
    {
      "cell_type": "markdown",
      "metadata": {
        "id": "gf6PHykV-KFe"
      },
      "source": [
        "Cek korelasi pada kolom numerikal dengan pearson correlation"
      ]
    },
    {
      "cell_type": "code",
      "execution_count": null,
      "metadata": {
        "colab": {
          "base_uri": "https://localhost:8080/",
          "height": 672
        },
        "id": "TKwGnS0DAVr8",
        "outputId": "7af11bec-fea6-41f0-8ead-df3e29745316"
      },
      "outputs": [
        {
          "data": {
            "image/png": "[encoded data removed]",
            "text/plain": [
              "<Figure size 1440x720 with 2 Axes>"
            ]
          },
          "metadata": {
            "needs_background": "light"
          },
          "output_type": "display_data"
        }
      ],
      "source": [
        "data_corr = data.drop(['customerID'],axis=1)\n",
        "encoder = LabelEncoder() \n",
        "\n",
        "for i in data_corr:\n",
        "    if data_corr[i].dtypes == 'object':\n",
        "        data_corr[i] = encoder.fit_transform(data_corr[i])\n",
        "\n",
        "corr = data_corr.corr()\n",
        "plt.figure(figsize=(20, 10))\n",
        "sns.heatmap(corr, annot= True, vmin=0, vmax=1)\n",
        "plt.show()"
      ]
    },
    {
      "cell_type": "markdown",
      "metadata": {
        "id": "7LISgJM0CAo-"
      },
      "source": [
        "Mengambil kolom yang mempunyai korelasi diatas 0.1"
      ]
    },
    {
      "cell_type": "code",
      "execution_count": null,
      "metadata": {
        "colab": {
          "base_uri": "https://localhost:8080/"
        },
        "id": "hE2mw6weBpgm",
        "outputId": "30c1e3af-5948-4aed-89f9-6d5d0a185334"
      },
      "outputs": [
        {
          "name": "stdout",
          "output_type": "stream",
          "text": [
            "SeniorCitizen       0.150889\n",
            "Partner             0.150448\n",
            "Dependents          0.164221\n",
            "tenure              0.352229\n",
            "OnlineSecurity      0.289309\n",
            "OnlineBackup        0.195525\n",
            "DeviceProtection    0.178134\n",
            "TechSupport         0.282492\n",
            "Contract            0.396713\n",
            "PaperlessBilling    0.191825\n",
            "PaymentMethod       0.107062\n",
            "MonthlyCharges      0.193356\n",
            "TotalCharges        0.199484\n",
            "Churn               1.000000\n",
            "Name: Churn, dtype: float64\n",
            "Index(['SeniorCitizen', 'Partner', 'Dependents', 'tenure', 'OnlineSecurity',\n",
            "       'OnlineBackup', 'DeviceProtection', 'TechSupport', 'Contract',\n",
            "       'PaperlessBilling', 'PaymentMethod', 'MonthlyCharges', 'TotalCharges',\n",
            "       'Churn'],\n",
            "      dtype='object')\n"
          ]
        }
      ],
      "source": [
        "cor_target = abs(corr[\"Churn\"])\n",
        "\n",
        "#Selecting highly correlated features\n",
        "relevant_features = cor_target[cor_target>0.1]\n",
        "print(relevant_features)\n",
        "print(relevant_features.keys())"
      ]
    },
    {
      "cell_type": "markdown",
      "metadata": {
        "id": "cbvxFWR6So6l"
      },
      "source": [
        "Mengurangi jumlah kolom sesuai dengan fitur terpilih didalan train, val, dan test set"
      ]
    },
    {
      "cell_type": "code",
      "execution_count": null,
      "metadata": {
        "id": "j6DhAlhzB3s7"
      },
      "outputs": [],
      "source": [
        "features = ['SeniorCitizen', 'Partner', 'Dependents', 'tenure', 'OnlineSecurity',\n",
        "       'OnlineBackup', 'DeviceProtection', 'TechSupport', 'Contract',\n",
        "       'PaperlessBilling', 'PaymentMethod', 'MonthlyCharges', 'TotalCharges']\n",
        "\n",
        "X_train_selected = X_train[features]\n",
        "X_val_selected = X_val[features]\n",
        "X_test_selected = X_test[features]"
      ]
    },
    {
      "cell_type": "markdown",
      "metadata": {
        "id": "KHTy-z4EDcv8"
      },
      "source": [
        "### Data Normalisation"
      ]
    },
    {
      "cell_type": "markdown",
      "metadata": {
        "id": "qVn5ciekNyTs"
      },
      "source": [
        "Pisahkan kolom numerikal dan kategorikal"
      ]
    },
    {
      "cell_type": "code",
      "execution_count": null,
      "metadata": {
        "colab": {
          "base_uri": "https://localhost:8080/"
        },
        "id": "lOFzLDMgDEK5",
        "outputId": "9d0ccf80-9baa-4de0-da8f-3b6feb25b6ae"
      },
      "outputs": [
        {
          "name": "stdout",
          "output_type": "stream",
          "text": [
            "Numerical col:  ['tenure', 'MonthlyCharges', 'TotalCharges']\n",
            "Categorical col:  ['SeniorCitizen', 'Partner', 'Dependents', 'OnlineSecurity', 'OnlineBackup', 'DeviceProtection', 'TechSupport', 'Contract', 'PaperlessBilling', 'PaymentMethod']\n"
          ]
        }
      ],
      "source": [
        "num_columns = X_train_selected.select_dtypes(include=np.number).columns.tolist()\n",
        "cat_columns = X_train_selected.select_dtypes(include=['object']).columns.tolist()\n",
        "\n",
        "print('Numerical col: ', num_columns)\n",
        "print('Categorical col: ', cat_columns)"
      ]
    },
    {
      "cell_type": "markdown",
      "metadata": {
        "id": "KcbBsnPHN37K"
      },
      "source": [
        "normalisasi data:\n",
        "- Numerikal dengan `StandardScaler()`\n",
        "- Categorikal dengan `OneHotEncoder()`"
      ]
    },
    {
      "cell_type": "code",
      "execution_count": null,
      "metadata": {
        "id": "mN7yk4jPhO82"
      },
      "outputs": [],
      "source": [
        "scaler = StandardScaler()\n",
        "ohe = OneHotEncoder()"
      ]
    },
    {
      "cell_type": "code",
      "execution_count": null,
      "metadata": {
        "id": "ZXzo6_VWgvq5"
      },
      "outputs": [],
      "source": [
        "transformer = ColumnTransformer([\n",
        "    ('scaler', scaler, num_columns),\n",
        "    ('ohe', ohe, cat_columns)\n",
        "])"
      ]
    },
    {
      "cell_type": "code",
      "execution_count": null,
      "metadata": {
        "id": "DJBtKTUPhKFF"
      },
      "outputs": [],
      "source": [
        "X_train_trans = transformer.fit_transform(X_train_selected)\n",
        "X_val_trans = transformer.transform(X_val_selected)\n",
        "X_test_trans = transformer.transform(X_test_selected)"
      ]
    },
    {
      "cell_type": "markdown",
      "metadata": {
        "id": "39cKaWoOKdGs"
      },
      "source": [
        "**SAVE DATA PREPROCESSING**"
      ]
    },
    {
      "cell_type": "code",
      "execution_count": null,
      "metadata": {
        "colab": {
          "base_uri": "https://localhost:8080/"
        },
        "id": "yAK5VngdX9xh",
        "outputId": "1ea2311a-0f12-4862-d10f-567b1481cba3"
      },
      "outputs": [
        {
          "data": {
            "text/plain": [
              "['transformer.pkl']"
            ]
          },
          "execution_count": 146,
          "metadata": {},
          "output_type": "execute_result"
        }
      ],
      "source": [
        "joblib.dump(transformer, \"transformer.pkl\")"
      ]
    },
    {
      "cell_type": "markdown",
      "metadata": {
        "id": "Vhf-BjCuLM_Q"
      },
      "source": [
        "### Pipeline dengan TensorFlow"
      ]
    },
    {
      "cell_type": "code",
      "execution_count": null,
      "metadata": {
        "id": "iq0fbzPmNSXk"
      },
      "outputs": [],
      "source": [
        "train_dataset = tf.data.Dataset.from_tensor_slices((X_train_trans, y_train)).batch(64)\n",
        "val_dataset = tf.data.Dataset.from_tensor_slices((X_val_trans, y_val)).batch(64)\n",
        "test_dataset = tf.data.Dataset.from_tensor_slices((X_test_trans, y_test)).batch(64)"
      ]
    },
    {
      "cell_type": "markdown",
      "metadata": {
        "id": "1nqT-TiSOHwl"
      },
      "source": [
        "## 6 - Model Definition "
      ]
    },
    {
      "cell_type": "code",
      "execution_count": null,
      "metadata": {
        "colab": {
          "base_uri": "https://localhost:8080/"
        },
        "id": "zrFQ50zE0xJh",
        "outputId": "8a9c23a5-ecb7-45ca-a509-12ffe0820905"
      },
      "outputs": [
        {
          "data": {
            "text/plain": [
              "(3938, 30)"
            ]
          },
          "execution_count": 148,
          "metadata": {},
          "output_type": "execute_result"
        }
      ],
      "source": [
        "X_train_trans.shape"
      ]
    },
    {
      "cell_type": "markdown",
      "metadata": {
        "id": "UYYHz9uuicpH"
      },
      "source": [
        "**Sequential API**"
      ]
    },
    {
      "cell_type": "code",
      "execution_count": null,
      "metadata": {
        "colab": {
          "base_uri": "https://localhost:8080/"
        },
        "id": "ZSTzQPKi-6XT",
        "outputId": "ef17a8f1-fc61-45e6-d5ae-4fc4551d260b"
      },
      "outputs": [
        {
          "name": "stdout",
          "output_type": "stream",
          "text": [
            "Model: \"sequential_2\"\n",
            "_________________________________________________________________\n",
            " Layer (type)                Output Shape              Param #   \n",
            "=================================================================\n",
            " dense_12 (Dense)            (None, 20)                620       \n",
            "                                                                 \n",
            " dropout_8 (Dropout)         (None, 20)                0         \n",
            "                                                                 \n",
            " dense_13 (Dense)            (None, 10)                210       \n",
            "                                                                 \n",
            " dropout_9 (Dropout)         (None, 10)                0         \n",
            "                                                                 \n",
            " dense_14 (Dense)            (None, 1)                 11        \n",
            "                                                                 \n",
            "=================================================================\n",
            "Total params: 841\n",
            "Trainable params: 841\n",
            "Non-trainable params: 0\n",
            "_________________________________________________________________\n"
          ]
        }
      ],
      "source": [
        "model = keras.models.Sequential()\n",
        "\n",
        "model.add(keras.layers.Dense(20, input_shape=(30,), activation=\"relu\"))\n",
        "model.add(keras.layers.Dropout(0.5))\n",
        "model.add(keras.layers.Dense(10, activation=\"relu\"))\n",
        "model.add(keras.layers.Dropout(0.5))\n",
        "\n",
        "model.add(keras.layers.Dense(1, activation=\"sigmoid\"))\n",
        "model.compile(optimizer = 'adam',\n",
        "              loss = 'binary_crossentropy',\n",
        "              metrics = ['accuracy'])\n",
        "\n",
        "model.summary()"
      ]
    },
    {
      "cell_type": "markdown",
      "metadata": {
        "id": "cSrrbeQ5tObg"
      },
      "source": [
        "**Functional API**"
      ]
    },
    {
      "cell_type": "code",
      "execution_count": null,
      "metadata": {
        "colab": {
          "base_uri": "https://localhost:8080/"
        },
        "id": "Bu6OmmCUCMht",
        "outputId": "80962379-ad11-4eb6-8a14-d37ca76297d1"
      },
      "outputs": [
        {
          "name": "stdout",
          "output_type": "stream",
          "text": [
            "Model: \"model_2\"\n",
            "_________________________________________________________________\n",
            " Layer (type)                Output Shape              Param #   \n",
            "=================================================================\n",
            " input_3 (InputLayer)        [(None, 30)]              0         \n",
            "                                                                 \n",
            " dense_15 (Dense)            (None, 20)                620       \n",
            "                                                                 \n",
            " dropout_10 (Dropout)        (None, 20)                0         \n",
            "                                                                 \n",
            " dense_16 (Dense)            (None, 10)                210       \n",
            "                                                                 \n",
            " dropout_11 (Dropout)        (None, 10)                0         \n",
            "                                                                 \n",
            " dense_17 (Dense)            (None, 1)                 11        \n",
            "                                                                 \n",
            "=================================================================\n",
            "Total params: 841\n",
            "Trainable params: 841\n",
            "Non-trainable params: 0\n",
            "_________________________________________________________________\n"
          ]
        }
      ],
      "source": [
        "data_in = keras.layers.Input(shape=(30,))\n",
        "\n",
        "hidden_1 = keras.layers.Dense(20, activation='relu')(data_in)\n",
        "drop_1 = keras.layers.Dropout(0.5)(hidden_1)\n",
        "\n",
        "hidden_2 = keras.layers.Dense(10, activation='relu')(drop_1)\n",
        "drop_2 = keras.layers.Dropout(0.5)(hidden_2)\n",
        "\n",
        "out = keras.layers.Dense(1, activation='sigmoid')(drop_2)\n",
        "\n",
        "model1 = keras.models.Model(inputs=data_in, outputs=out)\n",
        "model1.compile(loss='binary_crossentropy',\n",
        "              optimizer=tf.keras.optimizers.Adam(),\n",
        "              metrics=[\"accuracy\"])\n",
        "model1.summary()"
      ]
    },
    {
      "cell_type": "markdown",
      "metadata": {
        "id": "sbUco6Y9V22y"
      },
      "source": [
        "## 7 - Model Training"
      ]
    },
    {
      "cell_type": "code",
      "execution_count": null,
      "metadata": {
        "colab": {
          "base_uri": "https://localhost:8080/"
        },
        "id": "CHZUDAG7S3OB",
        "outputId": "6a9eb833-1c12-4131-983f-7ef0dbd745ad"
      },
      "outputs": [
        {
          "name": "stdout",
          "output_type": "stream",
          "text": [
            "Epoch 1/200\n",
            "62/62 [==============================] - 1s 5ms/step - loss: 0.8444 - accuracy: 0.4865 - val_loss: 0.6173 - val_accuracy: 0.7014\n",
            "Epoch 2/200\n",
            "62/62 [==============================] - 0s 3ms/step - loss: 0.6415 - accuracy: 0.6366 - val_loss: 0.5508 - val_accuracy: 0.7435\n",
            "Epoch 3/200\n",
            "62/62 [==============================] - 0s 3ms/step - loss: 0.5884 - accuracy: 0.6938 - val_loss: 0.5012 - val_accuracy: 0.7435\n",
            "Epoch 4/200\n",
            "62/62 [==============================] - 0s 3ms/step - loss: 0.5563 - accuracy: 0.7153 - val_loss: 0.4760 - val_accuracy: 0.7435\n",
            "Epoch 5/200\n",
            "62/62 [==============================] - 0s 3ms/step - loss: 0.5298 - accuracy: 0.7270 - val_loss: 0.4621 - val_accuracy: 0.7435\n",
            "Epoch 6/200\n",
            "62/62 [==============================] - 0s 5ms/step - loss: 0.5257 - accuracy: 0.7390 - val_loss: 0.4570 - val_accuracy: 0.7453\n",
            "Epoch 7/200\n",
            "62/62 [==============================] - 0s 7ms/step - loss: 0.5121 - accuracy: 0.7379 - val_loss: 0.4515 - val_accuracy: 0.7453\n",
            "Epoch 8/200\n",
            "62/62 [==============================] - 0s 5ms/step - loss: 0.5110 - accuracy: 0.7504 - val_loss: 0.4509 - val_accuracy: 0.7547\n",
            "Epoch 9/200\n",
            "62/62 [==============================] - 0s 8ms/step - loss: 0.5096 - accuracy: 0.7514 - val_loss: 0.4466 - val_accuracy: 0.7666\n",
            "Epoch 10/200\n",
            "62/62 [==============================] - 0s 7ms/step - loss: 0.5007 - accuracy: 0.7517 - val_loss: 0.4436 - val_accuracy: 0.7589\n",
            "Epoch 11/200\n",
            "62/62 [==============================] - 0s 7ms/step - loss: 0.4973 - accuracy: 0.7570 - val_loss: 0.4406 - val_accuracy: 0.7767\n",
            "Epoch 12/200\n",
            "62/62 [==============================] - 0s 5ms/step - loss: 0.4962 - accuracy: 0.7590 - val_loss: 0.4395 - val_accuracy: 0.7761\n",
            "Epoch 13/200\n",
            "62/62 [==============================] - 0s 6ms/step - loss: 0.4857 - accuracy: 0.7651 - val_loss: 0.4391 - val_accuracy: 0.7719\n",
            "Epoch 14/200\n",
            "62/62 [==============================] - 0s 6ms/step - loss: 0.4868 - accuracy: 0.7580 - val_loss: 0.4392 - val_accuracy: 0.7749\n",
            "Epoch 15/200\n",
            "62/62 [==============================] - 0s 6ms/step - loss: 0.4761 - accuracy: 0.7679 - val_loss: 0.4380 - val_accuracy: 0.7767\n",
            "Epoch 16/200\n",
            "62/62 [==============================] - 0s 5ms/step - loss: 0.4830 - accuracy: 0.7730 - val_loss: 0.4390 - val_accuracy: 0.7755\n",
            "Epoch 17/200\n",
            "62/62 [==============================] - 0s 5ms/step - loss: 0.4818 - accuracy: 0.7699 - val_loss: 0.4374 - val_accuracy: 0.7838\n",
            "Epoch 18/200\n",
            "62/62 [==============================] - 0s 5ms/step - loss: 0.4800 - accuracy: 0.7712 - val_loss: 0.4381 - val_accuracy: 0.7755\n",
            "Epoch 19/200\n",
            "62/62 [==============================] - 0s 6ms/step - loss: 0.4789 - accuracy: 0.7720 - val_loss: 0.4389 - val_accuracy: 0.7761\n",
            "Epoch 20/200\n",
            "62/62 [==============================] - 0s 5ms/step - loss: 0.4701 - accuracy: 0.7717 - val_loss: 0.4382 - val_accuracy: 0.7743\n",
            "Epoch 21/200\n",
            "62/62 [==============================] - 0s 7ms/step - loss: 0.4639 - accuracy: 0.7768 - val_loss: 0.4368 - val_accuracy: 0.7808\n",
            "Epoch 22/200\n",
            "62/62 [==============================] - 0s 7ms/step - loss: 0.4752 - accuracy: 0.7783 - val_loss: 0.4367 - val_accuracy: 0.7814\n",
            "Epoch 23/200\n",
            "62/62 [==============================] - 0s 6ms/step - loss: 0.4689 - accuracy: 0.7791 - val_loss: 0.4372 - val_accuracy: 0.7832\n",
            "Epoch 24/200\n",
            "62/62 [==============================] - 0s 7ms/step - loss: 0.4676 - accuracy: 0.7768 - val_loss: 0.4351 - val_accuracy: 0.7850\n",
            "Epoch 25/200\n",
            "62/62 [==============================] - 0s 8ms/step - loss: 0.4663 - accuracy: 0.7727 - val_loss: 0.4362 - val_accuracy: 0.7826\n",
            "Epoch 26/200\n",
            "62/62 [==============================] - 0s 8ms/step - loss: 0.4728 - accuracy: 0.7745 - val_loss: 0.4380 - val_accuracy: 0.7814\n",
            "Epoch 27/200\n",
            "62/62 [==============================] - 1s 10ms/step - loss: 0.4673 - accuracy: 0.7732 - val_loss: 0.4378 - val_accuracy: 0.7844\n",
            "Epoch 28/200\n",
            "62/62 [==============================] - 1s 11ms/step - loss: 0.4666 - accuracy: 0.7809 - val_loss: 0.4363 - val_accuracy: 0.7855\n",
            "Epoch 29/200\n",
            "62/62 [==============================] - 1s 9ms/step - loss: 0.4640 - accuracy: 0.7791 - val_loss: 0.4368 - val_accuracy: 0.7861\n",
            "Epoch 30/200\n",
            "62/62 [==============================] - 1s 12ms/step - loss: 0.4703 - accuracy: 0.7743 - val_loss: 0.4375 - val_accuracy: 0.7855\n",
            "Epoch 31/200\n",
            "62/62 [==============================] - 1s 9ms/step - loss: 0.4639 - accuracy: 0.7814 - val_loss: 0.4370 - val_accuracy: 0.7873\n",
            "Epoch 32/200\n",
            "62/62 [==============================] - 1s 12ms/step - loss: 0.4652 - accuracy: 0.7753 - val_loss: 0.4368 - val_accuracy: 0.7885\n",
            "Epoch 33/200\n",
            "62/62 [==============================] - 1s 12ms/step - loss: 0.4688 - accuracy: 0.7801 - val_loss: 0.4382 - val_accuracy: 0.7826\n",
            "Epoch 34/200\n",
            "62/62 [==============================] - 1s 10ms/step - loss: 0.4600 - accuracy: 0.7748 - val_loss: 0.4385 - val_accuracy: 0.7832\n",
            "Epoch 35/200\n",
            "62/62 [==============================] - 1s 9ms/step - loss: 0.4668 - accuracy: 0.7776 - val_loss: 0.4366 - val_accuracy: 0.7832\n",
            "Epoch 36/200\n",
            "62/62 [==============================] - 1s 9ms/step - loss: 0.4659 - accuracy: 0.7740 - val_loss: 0.4364 - val_accuracy: 0.7826\n",
            "Epoch 37/200\n",
            "62/62 [==============================] - 0s 8ms/step - loss: 0.4594 - accuracy: 0.7755 - val_loss: 0.4352 - val_accuracy: 0.7855\n",
            "Epoch 38/200\n",
            "62/62 [==============================] - 1s 11ms/step - loss: 0.4649 - accuracy: 0.7776 - val_loss: 0.4368 - val_accuracy: 0.7861\n",
            "Epoch 39/200\n",
            "62/62 [==============================] - 1s 12ms/step - loss: 0.4537 - accuracy: 0.7875 - val_loss: 0.4333 - val_accuracy: 0.7891\n",
            "Epoch 40/200\n",
            "62/62 [==============================] - 0s 8ms/step - loss: 0.4599 - accuracy: 0.7854 - val_loss: 0.4351 - val_accuracy: 0.7873\n",
            "Epoch 41/200\n",
            "62/62 [==============================] - 0s 6ms/step - loss: 0.4576 - accuracy: 0.7773 - val_loss: 0.4366 - val_accuracy: 0.7832\n",
            "Epoch 42/200\n",
            "62/62 [==============================] - 1s 8ms/step - loss: 0.4578 - accuracy: 0.7755 - val_loss: 0.4359 - val_accuracy: 0.7855\n",
            "Epoch 43/200\n",
            "62/62 [==============================] - 1s 10ms/step - loss: 0.4574 - accuracy: 0.7839 - val_loss: 0.4344 - val_accuracy: 0.7861\n",
            "Epoch 44/200\n",
            "62/62 [==============================] - 0s 6ms/step - loss: 0.4569 - accuracy: 0.7803 - val_loss: 0.4345 - val_accuracy: 0.7873\n",
            "Epoch 45/200\n",
            "62/62 [==============================] - 1s 10ms/step - loss: 0.4609 - accuracy: 0.7753 - val_loss: 0.4375 - val_accuracy: 0.7838\n",
            "Epoch 46/200\n",
            "62/62 [==============================] - 1s 10ms/step - loss: 0.4587 - accuracy: 0.7765 - val_loss: 0.4378 - val_accuracy: 0.7850\n",
            "Epoch 47/200\n",
            "62/62 [==============================] - 0s 7ms/step - loss: 0.4580 - accuracy: 0.7842 - val_loss: 0.4360 - val_accuracy: 0.7861\n",
            "Epoch 48/200\n",
            "62/62 [==============================] - 1s 9ms/step - loss: 0.4564 - accuracy: 0.7783 - val_loss: 0.4357 - val_accuracy: 0.7861\n",
            "Epoch 49/200\n",
            "62/62 [==============================] - 0s 8ms/step - loss: 0.4633 - accuracy: 0.7760 - val_loss: 0.4357 - val_accuracy: 0.7873\n",
            "Epoch 50/200\n",
            "62/62 [==============================] - 0s 7ms/step - loss: 0.4597 - accuracy: 0.7770 - val_loss: 0.4359 - val_accuracy: 0.7861\n",
            "Epoch 51/200\n",
            "62/62 [==============================] - 1s 9ms/step - loss: 0.4510 - accuracy: 0.7801 - val_loss: 0.4340 - val_accuracy: 0.7891\n",
            "Epoch 52/200\n",
            "62/62 [==============================] - 1s 9ms/step - loss: 0.4605 - accuracy: 0.7781 - val_loss: 0.4356 - val_accuracy: 0.7879\n",
            "Epoch 53/200\n",
            "62/62 [==============================] - 1s 11ms/step - loss: 0.4561 - accuracy: 0.7842 - val_loss: 0.4354 - val_accuracy: 0.7885\n",
            "Epoch 54/200\n",
            "62/62 [==============================] - 1s 8ms/step - loss: 0.4586 - accuracy: 0.7783 - val_loss: 0.4370 - val_accuracy: 0.7826\n",
            "Epoch 55/200\n",
            "62/62 [==============================] - 1s 11ms/step - loss: 0.4607 - accuracy: 0.7768 - val_loss: 0.4354 - val_accuracy: 0.7891\n",
            "Epoch 56/200\n",
            "62/62 [==============================] - 1s 8ms/step - loss: 0.4527 - accuracy: 0.7819 - val_loss: 0.4371 - val_accuracy: 0.7826\n",
            "Epoch 57/200\n",
            "62/62 [==============================] - 1s 9ms/step - loss: 0.4536 - accuracy: 0.7842 - val_loss: 0.4379 - val_accuracy: 0.7850\n",
            "Epoch 58/200\n",
            "62/62 [==============================] - 0s 8ms/step - loss: 0.4575 - accuracy: 0.7773 - val_loss: 0.4370 - val_accuracy: 0.7844\n",
            "Epoch 59/200\n",
            "62/62 [==============================] - 1s 14ms/step - loss: 0.4547 - accuracy: 0.7811 - val_loss: 0.4355 - val_accuracy: 0.7873\n",
            "Epoch 60/200\n",
            "62/62 [==============================] - 1s 9ms/step - loss: 0.4557 - accuracy: 0.7793 - val_loss: 0.4355 - val_accuracy: 0.7903\n",
            "Epoch 61/200\n",
            "62/62 [==============================] - 0s 6ms/step - loss: 0.4520 - accuracy: 0.7814 - val_loss: 0.4352 - val_accuracy: 0.7903\n",
            "Epoch 62/200\n",
            "62/62 [==============================] - 1s 11ms/step - loss: 0.4596 - accuracy: 0.7798 - val_loss: 0.4357 - val_accuracy: 0.7885\n",
            "Epoch 63/200\n",
            "62/62 [==============================] - 1s 9ms/step - loss: 0.4566 - accuracy: 0.7847 - val_loss: 0.4325 - val_accuracy: 0.7903\n",
            "Epoch 64/200\n",
            "62/62 [==============================] - 1s 8ms/step - loss: 0.4592 - accuracy: 0.7781 - val_loss: 0.4342 - val_accuracy: 0.7897\n",
            "Epoch 65/200\n",
            "62/62 [==============================] - 1s 9ms/step - loss: 0.4581 - accuracy: 0.7788 - val_loss: 0.4334 - val_accuracy: 0.7909\n",
            "Epoch 66/200\n",
            "62/62 [==============================] - 1s 14ms/step - loss: 0.4575 - accuracy: 0.7811 - val_loss: 0.4340 - val_accuracy: 0.7915\n",
            "Epoch 67/200\n",
            "62/62 [==============================] - 1s 10ms/step - loss: 0.4508 - accuracy: 0.7842 - val_loss: 0.4338 - val_accuracy: 0.7927\n",
            "Epoch 68/200\n",
            "62/62 [==============================] - 1s 11ms/step - loss: 0.4427 - accuracy: 0.7890 - val_loss: 0.4306 - val_accuracy: 0.7974\n",
            "Epoch 69/200\n",
            "62/62 [==============================] - 0s 3ms/step - loss: 0.4605 - accuracy: 0.7788 - val_loss: 0.4328 - val_accuracy: 0.7932\n",
            "Epoch 70/200\n",
            "62/62 [==============================] - 0s 3ms/step - loss: 0.4507 - accuracy: 0.7867 - val_loss: 0.4310 - val_accuracy: 0.7974\n",
            "Epoch 71/200\n",
            "62/62 [==============================] - 0s 3ms/step - loss: 0.4532 - accuracy: 0.7806 - val_loss: 0.4327 - val_accuracy: 0.7932\n",
            "Epoch 72/200\n",
            "62/62 [==============================] - 0s 3ms/step - loss: 0.4560 - accuracy: 0.7753 - val_loss: 0.4321 - val_accuracy: 0.7944\n",
            "Epoch 73/200\n",
            "62/62 [==============================] - 0s 3ms/step - loss: 0.4522 - accuracy: 0.7869 - val_loss: 0.4317 - val_accuracy: 0.8004\n",
            "Epoch 74/200\n",
            "62/62 [==============================] - 0s 3ms/step - loss: 0.4510 - accuracy: 0.7796 - val_loss: 0.4326 - val_accuracy: 0.7986\n",
            "Epoch 75/200\n",
            "62/62 [==============================] - 0s 4ms/step - loss: 0.4478 - accuracy: 0.7864 - val_loss: 0.4327 - val_accuracy: 0.7974\n",
            "Epoch 76/200\n",
            "62/62 [==============================] - 0s 3ms/step - loss: 0.4500 - accuracy: 0.7829 - val_loss: 0.4319 - val_accuracy: 0.7962\n",
            "Epoch 77/200\n",
            "62/62 [==============================] - 0s 3ms/step - loss: 0.4463 - accuracy: 0.7877 - val_loss: 0.4319 - val_accuracy: 0.7998\n",
            "Epoch 78/200\n",
            "62/62 [==============================] - 0s 3ms/step - loss: 0.4496 - accuracy: 0.7803 - val_loss: 0.4339 - val_accuracy: 0.7915\n",
            "Epoch 79/200\n",
            "62/62 [==============================] - 0s 3ms/step - loss: 0.4527 - accuracy: 0.7806 - val_loss: 0.4322 - val_accuracy: 0.7968\n",
            "Epoch 80/200\n",
            "62/62 [==============================] - 0s 3ms/step - loss: 0.4533 - accuracy: 0.7798 - val_loss: 0.4332 - val_accuracy: 0.7944\n",
            "Epoch 81/200\n",
            "62/62 [==============================] - 0s 3ms/step - loss: 0.4474 - accuracy: 0.7809 - val_loss: 0.4345 - val_accuracy: 0.7921\n",
            "Epoch 82/200\n",
            "62/62 [==============================] - 0s 3ms/step - loss: 0.4414 - accuracy: 0.7900 - val_loss: 0.4327 - val_accuracy: 0.7962\n",
            "Epoch 83/200\n",
            "62/62 [==============================] - 0s 3ms/step - loss: 0.4519 - accuracy: 0.7786 - val_loss: 0.4331 - val_accuracy: 0.7956\n",
            "Epoch 84/200\n",
            "62/62 [==============================] - 0s 3ms/step - loss: 0.4537 - accuracy: 0.7776 - val_loss: 0.4352 - val_accuracy: 0.7915\n",
            "Epoch 85/200\n",
            "62/62 [==============================] - 0s 3ms/step - loss: 0.4554 - accuracy: 0.7839 - val_loss: 0.4350 - val_accuracy: 0.7903\n",
            "Epoch 86/200\n",
            "62/62 [==============================] - 0s 3ms/step - loss: 0.4484 - accuracy: 0.7842 - val_loss: 0.4329 - val_accuracy: 0.7986\n",
            "Epoch 87/200\n",
            "62/62 [==============================] - 0s 3ms/step - loss: 0.4548 - accuracy: 0.7758 - val_loss: 0.4329 - val_accuracy: 0.7980\n",
            "Epoch 88/200\n",
            "62/62 [==============================] - 0s 3ms/step - loss: 0.4502 - accuracy: 0.7867 - val_loss: 0.4336 - val_accuracy: 0.7915\n",
            "Epoch 89/200\n",
            "62/62 [==============================] - 0s 3ms/step - loss: 0.4495 - accuracy: 0.7811 - val_loss: 0.4326 - val_accuracy: 0.7950\n",
            "Epoch 90/200\n",
            "62/62 [==============================] - 0s 3ms/step - loss: 0.4424 - accuracy: 0.7864 - val_loss: 0.4325 - val_accuracy: 0.7944\n",
            "Epoch 91/200\n",
            "62/62 [==============================] - 0s 3ms/step - loss: 0.4480 - accuracy: 0.7824 - val_loss: 0.4325 - val_accuracy: 0.7938\n",
            "Epoch 92/200\n",
            "62/62 [==============================] - 0s 3ms/step - loss: 0.4518 - accuracy: 0.7842 - val_loss: 0.4326 - val_accuracy: 0.7962\n",
            "Epoch 93/200\n",
            "62/62 [==============================] - 0s 3ms/step - loss: 0.4507 - accuracy: 0.7791 - val_loss: 0.4330 - val_accuracy: 0.7956\n",
            "Epoch 94/200\n",
            "62/62 [==============================] - 0s 3ms/step - loss: 0.4512 - accuracy: 0.7849 - val_loss: 0.4327 - val_accuracy: 0.7968\n",
            "Epoch 95/200\n",
            "62/62 [==============================] - 0s 3ms/step - loss: 0.4453 - accuracy: 0.7839 - val_loss: 0.4345 - val_accuracy: 0.7938\n",
            "Epoch 96/200\n",
            "62/62 [==============================] - 0s 3ms/step - loss: 0.4391 - accuracy: 0.7923 - val_loss: 0.4323 - val_accuracy: 0.7974\n",
            "Epoch 97/200\n",
            "62/62 [==============================] - 0s 3ms/step - loss: 0.4551 - accuracy: 0.7806 - val_loss: 0.4330 - val_accuracy: 0.7956\n",
            "Epoch 98/200\n",
            "62/62 [==============================] - 0s 3ms/step - loss: 0.4419 - accuracy: 0.7809 - val_loss: 0.4324 - val_accuracy: 0.7986\n",
            "Epoch 99/200\n",
            "62/62 [==============================] - 0s 3ms/step - loss: 0.4488 - accuracy: 0.7798 - val_loss: 0.4333 - val_accuracy: 0.7962\n",
            "Epoch 100/200\n",
            "62/62 [==============================] - 0s 3ms/step - loss: 0.4525 - accuracy: 0.7811 - val_loss: 0.4333 - val_accuracy: 0.7938\n",
            "Epoch 101/200\n",
            "62/62 [==============================] - 0s 3ms/step - loss: 0.4446 - accuracy: 0.7839 - val_loss: 0.4335 - val_accuracy: 0.7968\n",
            "Epoch 102/200\n",
            "62/62 [==============================] - 0s 3ms/step - loss: 0.4436 - accuracy: 0.7900 - val_loss: 0.4342 - val_accuracy: 0.7968\n",
            "Epoch 103/200\n",
            "62/62 [==============================] - 0s 3ms/step - loss: 0.4452 - accuracy: 0.7778 - val_loss: 0.4337 - val_accuracy: 0.7956\n",
            "Epoch 104/200\n",
            "62/62 [==============================] - 0s 3ms/step - loss: 0.4498 - accuracy: 0.7854 - val_loss: 0.4337 - val_accuracy: 0.7998\n",
            "Epoch 105/200\n",
            "62/62 [==============================] - 0s 3ms/step - loss: 0.4377 - accuracy: 0.7882 - val_loss: 0.4321 - val_accuracy: 0.7998\n",
            "Epoch 106/200\n",
            "62/62 [==============================] - 0s 3ms/step - loss: 0.4443 - accuracy: 0.7862 - val_loss: 0.4347 - val_accuracy: 0.7950\n",
            "Epoch 107/200\n",
            "62/62 [==============================] - 0s 3ms/step - loss: 0.4370 - accuracy: 0.7913 - val_loss: 0.4330 - val_accuracy: 0.7974\n",
            "Epoch 108/200\n",
            "62/62 [==============================] - 0s 3ms/step - loss: 0.4425 - accuracy: 0.7885 - val_loss: 0.4335 - val_accuracy: 0.7962\n",
            "Epoch 109/200\n",
            "62/62 [==============================] - 0s 3ms/step - loss: 0.4456 - accuracy: 0.7877 - val_loss: 0.4336 - val_accuracy: 0.7950\n",
            "Epoch 110/200\n",
            "62/62 [==============================] - 0s 3ms/step - loss: 0.4439 - accuracy: 0.7819 - val_loss: 0.4345 - val_accuracy: 0.7927\n",
            "Epoch 111/200\n",
            "62/62 [==============================] - 0s 3ms/step - loss: 0.4375 - accuracy: 0.7831 - val_loss: 0.4338 - val_accuracy: 0.7932\n",
            "Epoch 112/200\n",
            "62/62 [==============================] - 0s 3ms/step - loss: 0.4386 - accuracy: 0.7839 - val_loss: 0.4337 - val_accuracy: 0.7992\n",
            "Epoch 113/200\n",
            "62/62 [==============================] - 0s 3ms/step - loss: 0.4439 - accuracy: 0.7831 - val_loss: 0.4339 - val_accuracy: 0.7962\n",
            "Epoch 114/200\n",
            "62/62 [==============================] - 0s 3ms/step - loss: 0.4469 - accuracy: 0.7809 - val_loss: 0.4342 - val_accuracy: 0.7986\n",
            "Epoch 115/200\n",
            "62/62 [==============================] - 0s 3ms/step - loss: 0.4381 - accuracy: 0.7862 - val_loss: 0.4331 - val_accuracy: 0.8045\n",
            "Epoch 116/200\n",
            "62/62 [==============================] - 0s 3ms/step - loss: 0.4469 - accuracy: 0.7869 - val_loss: 0.4331 - val_accuracy: 0.7986\n",
            "Epoch 117/200\n",
            "62/62 [==============================] - 0s 3ms/step - loss: 0.4445 - accuracy: 0.7776 - val_loss: 0.4330 - val_accuracy: 0.8015\n",
            "Epoch 118/200\n",
            "62/62 [==============================] - 0s 3ms/step - loss: 0.4462 - accuracy: 0.7900 - val_loss: 0.4329 - val_accuracy: 0.7980\n",
            "Epoch 119/200\n",
            "62/62 [==============================] - 0s 3ms/step - loss: 0.4420 - accuracy: 0.7847 - val_loss: 0.4335 - val_accuracy: 0.8004\n",
            "Epoch 120/200\n",
            "62/62 [==============================] - 0s 3ms/step - loss: 0.4420 - accuracy: 0.7834 - val_loss: 0.4329 - val_accuracy: 0.7998\n",
            "Epoch 121/200\n",
            "62/62 [==============================] - 0s 3ms/step - loss: 0.4445 - accuracy: 0.7819 - val_loss: 0.4347 - val_accuracy: 0.7956\n",
            "Epoch 122/200\n",
            "62/62 [==============================] - 0s 3ms/step - loss: 0.4395 - accuracy: 0.7867 - val_loss: 0.4336 - val_accuracy: 0.8004\n",
            "Epoch 123/200\n",
            "62/62 [==============================] - 0s 3ms/step - loss: 0.4508 - accuracy: 0.7806 - val_loss: 0.4346 - val_accuracy: 0.7950\n",
            "Epoch 124/200\n",
            "62/62 [==============================] - 0s 3ms/step - loss: 0.4452 - accuracy: 0.7869 - val_loss: 0.4328 - val_accuracy: 0.8004\n",
            "Epoch 125/200\n",
            "62/62 [==============================] - 0s 3ms/step - loss: 0.4460 - accuracy: 0.7831 - val_loss: 0.4342 - val_accuracy: 0.7986\n",
            "Epoch 126/200\n",
            "62/62 [==============================] - 0s 3ms/step - loss: 0.4490 - accuracy: 0.7770 - val_loss: 0.4351 - val_accuracy: 0.7956\n",
            "Epoch 127/200\n",
            "62/62 [==============================] - 0s 3ms/step - loss: 0.4429 - accuracy: 0.7811 - val_loss: 0.4340 - val_accuracy: 0.7974\n",
            "Epoch 128/200\n",
            "62/62 [==============================] - 0s 3ms/step - loss: 0.4394 - accuracy: 0.7819 - val_loss: 0.4343 - val_accuracy: 0.7992\n",
            "Epoch 129/200\n",
            "62/62 [==============================] - 0s 3ms/step - loss: 0.4490 - accuracy: 0.7806 - val_loss: 0.4342 - val_accuracy: 0.7998\n",
            "Epoch 130/200\n",
            "62/62 [==============================] - 0s 3ms/step - loss: 0.4457 - accuracy: 0.7819 - val_loss: 0.4348 - val_accuracy: 0.8004\n",
            "Epoch 131/200\n",
            "62/62 [==============================] - 0s 3ms/step - loss: 0.4383 - accuracy: 0.7877 - val_loss: 0.4336 - val_accuracy: 0.8009\n",
            "Epoch 132/200\n",
            "62/62 [==============================] - 0s 3ms/step - loss: 0.4435 - accuracy: 0.7826 - val_loss: 0.4348 - val_accuracy: 0.7968\n",
            "Epoch 133/200\n",
            "62/62 [==============================] - 0s 3ms/step - loss: 0.4422 - accuracy: 0.7831 - val_loss: 0.4333 - val_accuracy: 0.8004\n",
            "Epoch 134/200\n",
            "62/62 [==============================] - 0s 3ms/step - loss: 0.4387 - accuracy: 0.7877 - val_loss: 0.4331 - val_accuracy: 0.8039\n",
            "Epoch 135/200\n",
            "62/62 [==============================] - 0s 3ms/step - loss: 0.4382 - accuracy: 0.7897 - val_loss: 0.4340 - val_accuracy: 0.8004\n",
            "Epoch 136/200\n",
            "62/62 [==============================] - 0s 3ms/step - loss: 0.4482 - accuracy: 0.7816 - val_loss: 0.4352 - val_accuracy: 0.7956\n",
            "Epoch 137/200\n",
            "62/62 [==============================] - 0s 4ms/step - loss: 0.4424 - accuracy: 0.7786 - val_loss: 0.4356 - val_accuracy: 0.7962\n",
            "Epoch 138/200\n",
            "62/62 [==============================] - 0s 3ms/step - loss: 0.4432 - accuracy: 0.7783 - val_loss: 0.4349 - val_accuracy: 0.7968\n",
            "Epoch 139/200\n",
            "62/62 [==============================] - 0s 3ms/step - loss: 0.4412 - accuracy: 0.7854 - val_loss: 0.4333 - val_accuracy: 0.8045\n",
            "Epoch 140/200\n",
            "62/62 [==============================] - 0s 3ms/step - loss: 0.4443 - accuracy: 0.7831 - val_loss: 0.4343 - val_accuracy: 0.7998\n",
            "Epoch 141/200\n",
            "62/62 [==============================] - 0s 3ms/step - loss: 0.4327 - accuracy: 0.7882 - val_loss: 0.4343 - val_accuracy: 0.8021\n",
            "Epoch 142/200\n",
            "62/62 [==============================] - 0s 3ms/step - loss: 0.4364 - accuracy: 0.7844 - val_loss: 0.4343 - val_accuracy: 0.8039\n",
            "Epoch 143/200\n",
            "62/62 [==============================] - 0s 3ms/step - loss: 0.4461 - accuracy: 0.7826 - val_loss: 0.4334 - val_accuracy: 0.7998\n",
            "Epoch 144/200\n",
            "62/62 [==============================] - 0s 4ms/step - loss: 0.4395 - accuracy: 0.7801 - val_loss: 0.4357 - val_accuracy: 0.7938\n",
            "Epoch 145/200\n",
            "62/62 [==============================] - 0s 3ms/step - loss: 0.4374 - accuracy: 0.7930 - val_loss: 0.4336 - val_accuracy: 0.8027\n",
            "Epoch 146/200\n",
            "62/62 [==============================] - 0s 3ms/step - loss: 0.4407 - accuracy: 0.7826 - val_loss: 0.4347 - val_accuracy: 0.8021\n",
            "Epoch 147/200\n",
            "62/62 [==============================] - 0s 3ms/step - loss: 0.4411 - accuracy: 0.7887 - val_loss: 0.4341 - val_accuracy: 0.7980\n",
            "Epoch 148/200\n",
            "62/62 [==============================] - 0s 3ms/step - loss: 0.4410 - accuracy: 0.7867 - val_loss: 0.4334 - val_accuracy: 0.8021\n",
            "Epoch 149/200\n",
            "62/62 [==============================] - 0s 3ms/step - loss: 0.4439 - accuracy: 0.7788 - val_loss: 0.4345 - val_accuracy: 0.7998\n",
            "Epoch 150/200\n",
            "62/62 [==============================] - 0s 3ms/step - loss: 0.4443 - accuracy: 0.7847 - val_loss: 0.4344 - val_accuracy: 0.8009\n",
            "Epoch 151/200\n",
            "62/62 [==============================] - 0s 3ms/step - loss: 0.4327 - accuracy: 0.7941 - val_loss: 0.4337 - val_accuracy: 0.8033\n",
            "Epoch 152/200\n",
            "62/62 [==============================] - 0s 3ms/step - loss: 0.4414 - accuracy: 0.7869 - val_loss: 0.4331 - val_accuracy: 0.8045\n",
            "Epoch 153/200\n",
            "62/62 [==============================] - 0s 3ms/step - loss: 0.4388 - accuracy: 0.7839 - val_loss: 0.4351 - val_accuracy: 0.7974\n",
            "Epoch 154/200\n",
            "62/62 [==============================] - 0s 3ms/step - loss: 0.4405 - accuracy: 0.7852 - val_loss: 0.4348 - val_accuracy: 0.8027\n",
            "Epoch 155/200\n",
            "62/62 [==============================] - 0s 3ms/step - loss: 0.4361 - accuracy: 0.7854 - val_loss: 0.4359 - val_accuracy: 0.8033\n",
            "Epoch 156/200\n",
            "62/62 [==============================] - 0s 3ms/step - loss: 0.4445 - accuracy: 0.7803 - val_loss: 0.4352 - val_accuracy: 0.8009\n",
            "Epoch 157/200\n",
            "62/62 [==============================] - 0s 3ms/step - loss: 0.4446 - accuracy: 0.7773 - val_loss: 0.4365 - val_accuracy: 0.7974\n",
            "Epoch 158/200\n",
            "62/62 [==============================] - 0s 3ms/step - loss: 0.4354 - accuracy: 0.7925 - val_loss: 0.4348 - val_accuracy: 0.8021\n",
            "Epoch 159/200\n",
            "62/62 [==============================] - 0s 3ms/step - loss: 0.4380 - accuracy: 0.7877 - val_loss: 0.4350 - val_accuracy: 0.8015\n",
            "Epoch 160/200\n",
            "62/62 [==============================] - 0s 3ms/step - loss: 0.4355 - accuracy: 0.7844 - val_loss: 0.4344 - val_accuracy: 0.8027\n",
            "Epoch 161/200\n",
            "62/62 [==============================] - 0s 3ms/step - loss: 0.4366 - accuracy: 0.7857 - val_loss: 0.4370 - val_accuracy: 0.7962\n",
            "Epoch 162/200\n",
            "62/62 [==============================] - 0s 3ms/step - loss: 0.4366 - accuracy: 0.7869 - val_loss: 0.4363 - val_accuracy: 0.8021\n",
            "Epoch 163/200\n",
            "62/62 [==============================] - 0s 3ms/step - loss: 0.4394 - accuracy: 0.7951 - val_loss: 0.4342 - val_accuracy: 0.8027\n",
            "Epoch 164/200\n",
            "62/62 [==============================] - 0s 3ms/step - loss: 0.4373 - accuracy: 0.7867 - val_loss: 0.4351 - val_accuracy: 0.8015\n",
            "Epoch 165/200\n",
            "62/62 [==============================] - 0s 3ms/step - loss: 0.4386 - accuracy: 0.7836 - val_loss: 0.4354 - val_accuracy: 0.8015\n",
            "Epoch 166/200\n",
            "62/62 [==============================] - 0s 3ms/step - loss: 0.4368 - accuracy: 0.7829 - val_loss: 0.4361 - val_accuracy: 0.7968\n",
            "Epoch 167/200\n",
            "62/62 [==============================] - 0s 3ms/step - loss: 0.4375 - accuracy: 0.7854 - val_loss: 0.4356 - val_accuracy: 0.8004\n",
            "Epoch 168/200\n",
            "62/62 [==============================] - 0s 3ms/step - loss: 0.4431 - accuracy: 0.7849 - val_loss: 0.4359 - val_accuracy: 0.7950\n",
            "Epoch 169/200\n",
            "62/62 [==============================] - 0s 4ms/step - loss: 0.4477 - accuracy: 0.7788 - val_loss: 0.4363 - val_accuracy: 0.7938\n",
            "Epoch 170/200\n",
            "62/62 [==============================] - 0s 3ms/step - loss: 0.4313 - accuracy: 0.7816 - val_loss: 0.4355 - val_accuracy: 0.8033\n",
            "Epoch 171/200\n",
            "62/62 [==============================] - 0s 4ms/step - loss: 0.4368 - accuracy: 0.7826 - val_loss: 0.4352 - val_accuracy: 0.8015\n",
            "Epoch 172/200\n",
            "62/62 [==============================] - 0s 3ms/step - loss: 0.4380 - accuracy: 0.7859 - val_loss: 0.4350 - val_accuracy: 0.8009\n",
            "Epoch 173/200\n",
            "62/62 [==============================] - 0s 3ms/step - loss: 0.4374 - accuracy: 0.7862 - val_loss: 0.4350 - val_accuracy: 0.8027\n",
            "Epoch 174/200\n",
            "62/62 [==============================] - 0s 3ms/step - loss: 0.4368 - accuracy: 0.7811 - val_loss: 0.4349 - val_accuracy: 0.8033\n",
            "Epoch 175/200\n",
            "62/62 [==============================] - 0s 3ms/step - loss: 0.4403 - accuracy: 0.7885 - val_loss: 0.4343 - val_accuracy: 0.8015\n",
            "Epoch 176/200\n",
            "62/62 [==============================] - 0s 4ms/step - loss: 0.4425 - accuracy: 0.7765 - val_loss: 0.4347 - val_accuracy: 0.8004\n",
            "Epoch 177/200\n",
            "62/62 [==============================] - 0s 3ms/step - loss: 0.4329 - accuracy: 0.7869 - val_loss: 0.4338 - val_accuracy: 0.8027\n",
            "Epoch 178/200\n",
            "62/62 [==============================] - 0s 4ms/step - loss: 0.4440 - accuracy: 0.7791 - val_loss: 0.4353 - val_accuracy: 0.8021\n",
            "Epoch 179/200\n",
            "62/62 [==============================] - 0s 3ms/step - loss: 0.4374 - accuracy: 0.7887 - val_loss: 0.4359 - val_accuracy: 0.7968\n",
            "Epoch 180/200\n",
            "62/62 [==============================] - 0s 3ms/step - loss: 0.4440 - accuracy: 0.7811 - val_loss: 0.4349 - val_accuracy: 0.7968\n",
            "Epoch 181/200\n",
            "62/62 [==============================] - 0s 3ms/step - loss: 0.4400 - accuracy: 0.7847 - val_loss: 0.4340 - val_accuracy: 0.8004\n",
            "Epoch 182/200\n",
            "62/62 [==============================] - 0s 3ms/step - loss: 0.4334 - accuracy: 0.7882 - val_loss: 0.4343 - val_accuracy: 0.7980\n",
            "Epoch 183/200\n",
            "62/62 [==============================] - 0s 3ms/step - loss: 0.4433 - accuracy: 0.7763 - val_loss: 0.4338 - val_accuracy: 0.7980\n",
            "Epoch 184/200\n",
            "62/62 [==============================] - 0s 3ms/step - loss: 0.4311 - accuracy: 0.7864 - val_loss: 0.4340 - val_accuracy: 0.8033\n",
            "Epoch 185/200\n",
            "62/62 [==============================] - 0s 3ms/step - loss: 0.4403 - accuracy: 0.7869 - val_loss: 0.4348 - val_accuracy: 0.7992\n",
            "Epoch 186/200\n",
            "62/62 [==============================] - 0s 3ms/step - loss: 0.4398 - accuracy: 0.7806 - val_loss: 0.4347 - val_accuracy: 0.8009\n",
            "Epoch 187/200\n",
            "62/62 [==============================] - 0s 3ms/step - loss: 0.4385 - accuracy: 0.7819 - val_loss: 0.4337 - val_accuracy: 0.7992\n",
            "Epoch 188/200\n",
            "62/62 [==============================] - 0s 3ms/step - loss: 0.4326 - accuracy: 0.7859 - val_loss: 0.4351 - val_accuracy: 0.7998\n",
            "Epoch 189/200\n",
            "62/62 [==============================] - 0s 3ms/step - loss: 0.4441 - accuracy: 0.7803 - val_loss: 0.4354 - val_accuracy: 0.7974\n",
            "Epoch 190/200\n",
            "62/62 [==============================] - 0s 3ms/step - loss: 0.4359 - accuracy: 0.7890 - val_loss: 0.4334 - val_accuracy: 0.8004\n",
            "Epoch 191/200\n",
            "62/62 [==============================] - 0s 3ms/step - loss: 0.4408 - accuracy: 0.7834 - val_loss: 0.4342 - val_accuracy: 0.8004\n",
            "Epoch 192/200\n",
            "62/62 [==============================] - 0s 3ms/step - loss: 0.4358 - accuracy: 0.7819 - val_loss: 0.4341 - val_accuracy: 0.8004\n",
            "Epoch 193/200\n",
            "62/62 [==============================] - 0s 3ms/step - loss: 0.4378 - accuracy: 0.7882 - val_loss: 0.4353 - val_accuracy: 0.8004\n",
            "Epoch 194/200\n",
            "62/62 [==============================] - 0s 3ms/step - loss: 0.4431 - accuracy: 0.7809 - val_loss: 0.4351 - val_accuracy: 0.7980\n",
            "Epoch 195/200\n",
            "62/62 [==============================] - 0s 3ms/step - loss: 0.4411 - accuracy: 0.7849 - val_loss: 0.4345 - val_accuracy: 0.8039\n",
            "Epoch 196/200\n",
            "62/62 [==============================] - 0s 3ms/step - loss: 0.4409 - accuracy: 0.7862 - val_loss: 0.4346 - val_accuracy: 0.7986\n",
            "Epoch 197/200\n",
            "62/62 [==============================] - 0s 3ms/step - loss: 0.4423 - accuracy: 0.7864 - val_loss: 0.4345 - val_accuracy: 0.7992\n",
            "Epoch 198/200\n",
            "62/62 [==============================] - 0s 3ms/step - loss: 0.4407 - accuracy: 0.7811 - val_loss: 0.4345 - val_accuracy: 0.8009\n",
            "Epoch 199/200\n",
            "62/62 [==============================] - 0s 3ms/step - loss: 0.4362 - accuracy: 0.7847 - val_loss: 0.4330 - val_accuracy: 0.8009\n",
            "Epoch 200/200\n",
            "62/62 [==============================] - 0s 4ms/step - loss: 0.4416 - accuracy: 0.7842 - val_loss: 0.4342 - val_accuracy: 0.8027\n"
          ]
        }
      ],
      "source": [
        "# Sequential API\n",
        "history = model.fit(train_dataset, epochs=200, validation_data=(val_dataset))"
      ]
    },
    {
      "cell_type": "code",
      "execution_count": null,
      "metadata": {
        "colab": {
          "base_uri": "https://localhost:8080/"
        },
        "id": "LZbQOC1kV_n4",
        "outputId": "e8c0eaaf-197a-44c7-9708-ef6c7c7dced0"
      },
      "outputs": [
        {
          "name": "stdout",
          "output_type": "stream",
          "text": [
            "Epoch 1/200\n",
            "62/62 [==============================] - 1s 5ms/step - loss: 0.6090 - accuracy: 0.6917 - val_loss: 0.5123 - val_accuracy: 0.7678\n",
            "Epoch 2/200\n",
            "62/62 [==============================] - 0s 3ms/step - loss: 0.5627 - accuracy: 0.7263 - val_loss: 0.4801 - val_accuracy: 0.7790\n",
            "Epoch 3/200\n",
            "62/62 [==============================] - 0s 4ms/step - loss: 0.5404 - accuracy: 0.7329 - val_loss: 0.4654 - val_accuracy: 0.7796\n",
            "Epoch 4/200\n",
            "62/62 [==============================] - 0s 3ms/step - loss: 0.5193 - accuracy: 0.7357 - val_loss: 0.4550 - val_accuracy: 0.7826\n",
            "Epoch 5/200\n",
            "62/62 [==============================] - 0s 3ms/step - loss: 0.5122 - accuracy: 0.7412 - val_loss: 0.4523 - val_accuracy: 0.7873\n",
            "Epoch 6/200\n",
            "62/62 [==============================] - 0s 3ms/step - loss: 0.5076 - accuracy: 0.7544 - val_loss: 0.4461 - val_accuracy: 0.7879\n",
            "Epoch 7/200\n",
            "62/62 [==============================] - 0s 3ms/step - loss: 0.4930 - accuracy: 0.7580 - val_loss: 0.4418 - val_accuracy: 0.7932\n",
            "Epoch 8/200\n",
            "62/62 [==============================] - 0s 3ms/step - loss: 0.4964 - accuracy: 0.7550 - val_loss: 0.4421 - val_accuracy: 0.7915\n",
            "Epoch 9/200\n",
            "62/62 [==============================] - 0s 3ms/step - loss: 0.4895 - accuracy: 0.7511 - val_loss: 0.4400 - val_accuracy: 0.7885\n",
            "Epoch 10/200\n",
            "62/62 [==============================] - 0s 3ms/step - loss: 0.4847 - accuracy: 0.7628 - val_loss: 0.4379 - val_accuracy: 0.7927\n",
            "Epoch 11/200\n",
            "62/62 [==============================] - 0s 3ms/step - loss: 0.4896 - accuracy: 0.7671 - val_loss: 0.4392 - val_accuracy: 0.7921\n",
            "Epoch 12/200\n",
            "62/62 [==============================] - 0s 3ms/step - loss: 0.4834 - accuracy: 0.7633 - val_loss: 0.4361 - val_accuracy: 0.7956\n",
            "Epoch 13/200\n",
            "62/62 [==============================] - 0s 3ms/step - loss: 0.4796 - accuracy: 0.7689 - val_loss: 0.4350 - val_accuracy: 0.7986\n",
            "Epoch 14/200\n",
            "62/62 [==============================] - 0s 3ms/step - loss: 0.4806 - accuracy: 0.7628 - val_loss: 0.4349 - val_accuracy: 0.7938\n",
            "Epoch 15/200\n",
            "62/62 [==============================] - 0s 3ms/step - loss: 0.4736 - accuracy: 0.7725 - val_loss: 0.4330 - val_accuracy: 0.7974\n",
            "Epoch 16/200\n",
            "62/62 [==============================] - 0s 3ms/step - loss: 0.4756 - accuracy: 0.7730 - val_loss: 0.4337 - val_accuracy: 0.7950\n",
            "Epoch 17/200\n",
            "62/62 [==============================] - 0s 3ms/step - loss: 0.4835 - accuracy: 0.7628 - val_loss: 0.4330 - val_accuracy: 0.7921\n",
            "Epoch 18/200\n",
            "62/62 [==============================] - 0s 3ms/step - loss: 0.4784 - accuracy: 0.7654 - val_loss: 0.4335 - val_accuracy: 0.7897\n",
            "Epoch 19/200\n",
            "62/62 [==============================] - 0s 3ms/step - loss: 0.4671 - accuracy: 0.7585 - val_loss: 0.4330 - val_accuracy: 0.7897\n",
            "Epoch 20/200\n",
            "62/62 [==============================] - 0s 3ms/step - loss: 0.4716 - accuracy: 0.7732 - val_loss: 0.4315 - val_accuracy: 0.7962\n",
            "Epoch 21/200\n",
            "62/62 [==============================] - 0s 3ms/step - loss: 0.4711 - accuracy: 0.7661 - val_loss: 0.4329 - val_accuracy: 0.7992\n",
            "Epoch 22/200\n",
            "62/62 [==============================] - 0s 3ms/step - loss: 0.4675 - accuracy: 0.7722 - val_loss: 0.4310 - val_accuracy: 0.8009\n",
            "Epoch 23/200\n",
            "62/62 [==============================] - 0s 3ms/step - loss: 0.4643 - accuracy: 0.7768 - val_loss: 0.4301 - val_accuracy: 0.8009\n",
            "Epoch 24/200\n",
            "62/62 [==============================] - 0s 3ms/step - loss: 0.4603 - accuracy: 0.7750 - val_loss: 0.4289 - val_accuracy: 0.8015\n",
            "Epoch 25/200\n",
            "62/62 [==============================] - 0s 3ms/step - loss: 0.4535 - accuracy: 0.7831 - val_loss: 0.4286 - val_accuracy: 0.8009\n",
            "Epoch 26/200\n",
            "62/62 [==============================] - 0s 3ms/step - loss: 0.4653 - accuracy: 0.7722 - val_loss: 0.4297 - val_accuracy: 0.7998\n",
            "Epoch 27/200\n",
            "62/62 [==============================] - 0s 3ms/step - loss: 0.4692 - accuracy: 0.7666 - val_loss: 0.4309 - val_accuracy: 0.8004\n",
            "Epoch 28/200\n",
            "62/62 [==============================] - 0s 3ms/step - loss: 0.4557 - accuracy: 0.7758 - val_loss: 0.4284 - val_accuracy: 0.7992\n",
            "Epoch 29/200\n",
            "62/62 [==============================] - 0s 3ms/step - loss: 0.4596 - accuracy: 0.7793 - val_loss: 0.4282 - val_accuracy: 0.8045\n",
            "Epoch 30/200\n",
            "62/62 [==============================] - 0s 3ms/step - loss: 0.4574 - accuracy: 0.7730 - val_loss: 0.4292 - val_accuracy: 0.8027\n",
            "Epoch 31/200\n",
            "62/62 [==============================] - 0s 3ms/step - loss: 0.4569 - accuracy: 0.7758 - val_loss: 0.4289 - val_accuracy: 0.8004\n",
            "Epoch 32/200\n",
            "62/62 [==============================] - 0s 3ms/step - loss: 0.4653 - accuracy: 0.7689 - val_loss: 0.4298 - val_accuracy: 0.8027\n",
            "Epoch 33/200\n",
            "62/62 [==============================] - 0s 3ms/step - loss: 0.4683 - accuracy: 0.7750 - val_loss: 0.4300 - val_accuracy: 0.8021\n",
            "Epoch 34/200\n",
            "62/62 [==============================] - 0s 3ms/step - loss: 0.4561 - accuracy: 0.7702 - val_loss: 0.4300 - val_accuracy: 0.8021\n",
            "Epoch 35/200\n",
            "62/62 [==============================] - 0s 3ms/step - loss: 0.4620 - accuracy: 0.7768 - val_loss: 0.4288 - val_accuracy: 0.8045\n",
            "Epoch 36/200\n",
            "62/62 [==============================] - 0s 3ms/step - loss: 0.4623 - accuracy: 0.7689 - val_loss: 0.4290 - val_accuracy: 0.8027\n",
            "Epoch 37/200\n",
            "62/62 [==============================] - 0s 3ms/step - loss: 0.4596 - accuracy: 0.7725 - val_loss: 0.4281 - val_accuracy: 0.8039\n",
            "Epoch 38/200\n",
            "62/62 [==============================] - 0s 3ms/step - loss: 0.4565 - accuracy: 0.7778 - val_loss: 0.4282 - val_accuracy: 0.7980\n",
            "Epoch 39/200\n",
            "62/62 [==============================] - 0s 3ms/step - loss: 0.4579 - accuracy: 0.7765 - val_loss: 0.4291 - val_accuracy: 0.8021\n",
            "Epoch 40/200\n",
            "62/62 [==============================] - 0s 3ms/step - loss: 0.4632 - accuracy: 0.7725 - val_loss: 0.4307 - val_accuracy: 0.8033\n",
            "Epoch 41/200\n",
            "62/62 [==============================] - 0s 3ms/step - loss: 0.4576 - accuracy: 0.7793 - val_loss: 0.4288 - val_accuracy: 0.8021\n",
            "Epoch 42/200\n",
            "62/62 [==============================] - 0s 3ms/step - loss: 0.4579 - accuracy: 0.7715 - val_loss: 0.4290 - val_accuracy: 0.8027\n",
            "Epoch 43/200\n",
            "62/62 [==============================] - 0s 3ms/step - loss: 0.4531 - accuracy: 0.7786 - val_loss: 0.4283 - val_accuracy: 0.8021\n",
            "Epoch 44/200\n",
            "62/62 [==============================] - 0s 3ms/step - loss: 0.4575 - accuracy: 0.7811 - val_loss: 0.4281 - val_accuracy: 0.8009\n",
            "Epoch 45/200\n",
            "62/62 [==============================] - 0s 3ms/step - loss: 0.4514 - accuracy: 0.7824 - val_loss: 0.4277 - val_accuracy: 0.8045\n",
            "Epoch 46/200\n",
            "62/62 [==============================] - 0s 3ms/step - loss: 0.4549 - accuracy: 0.7803 - val_loss: 0.4288 - val_accuracy: 0.8027\n",
            "Epoch 47/200\n",
            "62/62 [==============================] - 0s 3ms/step - loss: 0.4577 - accuracy: 0.7862 - val_loss: 0.4285 - val_accuracy: 0.8045\n",
            "Epoch 48/200\n",
            "62/62 [==============================] - 0s 3ms/step - loss: 0.4532 - accuracy: 0.7829 - val_loss: 0.4276 - val_accuracy: 0.8039\n",
            "Epoch 49/200\n",
            "62/62 [==============================] - 0s 3ms/step - loss: 0.4519 - accuracy: 0.7849 - val_loss: 0.4275 - val_accuracy: 0.8063\n",
            "Epoch 50/200\n",
            "62/62 [==============================] - 0s 3ms/step - loss: 0.4513 - accuracy: 0.7806 - val_loss: 0.4270 - val_accuracy: 0.8045\n",
            "Epoch 51/200\n",
            "62/62 [==============================] - 0s 3ms/step - loss: 0.4483 - accuracy: 0.7854 - val_loss: 0.4266 - val_accuracy: 0.8039\n",
            "Epoch 52/200\n",
            "62/62 [==============================] - 0s 3ms/step - loss: 0.4500 - accuracy: 0.7798 - val_loss: 0.4284 - val_accuracy: 0.8039\n",
            "Epoch 53/200\n",
            "62/62 [==============================] - 0s 3ms/step - loss: 0.4579 - accuracy: 0.7737 - val_loss: 0.4294 - val_accuracy: 0.8033\n",
            "Epoch 54/200\n",
            "62/62 [==============================] - 0s 3ms/step - loss: 0.4539 - accuracy: 0.7814 - val_loss: 0.4283 - val_accuracy: 0.8039\n",
            "Epoch 55/200\n",
            "62/62 [==============================] - 0s 3ms/step - loss: 0.4479 - accuracy: 0.7796 - val_loss: 0.4281 - val_accuracy: 0.8051\n",
            "Epoch 56/200\n",
            "62/62 [==============================] - 0s 3ms/step - loss: 0.4573 - accuracy: 0.7725 - val_loss: 0.4294 - val_accuracy: 0.8033\n",
            "Epoch 57/200\n",
            "62/62 [==============================] - 0s 3ms/step - loss: 0.4533 - accuracy: 0.7796 - val_loss: 0.4290 - val_accuracy: 0.8039\n",
            "Epoch 58/200\n",
            "62/62 [==============================] - 0s 3ms/step - loss: 0.4598 - accuracy: 0.7788 - val_loss: 0.4281 - val_accuracy: 0.8021\n",
            "Epoch 59/200\n",
            "62/62 [==============================] - 0s 3ms/step - loss: 0.4544 - accuracy: 0.7791 - val_loss: 0.4296 - val_accuracy: 0.8021\n",
            "Epoch 60/200\n",
            "62/62 [==============================] - 0s 3ms/step - loss: 0.4557 - accuracy: 0.7842 - val_loss: 0.4275 - val_accuracy: 0.8027\n",
            "Epoch 61/200\n",
            "62/62 [==============================] - 0s 3ms/step - loss: 0.4511 - accuracy: 0.7847 - val_loss: 0.4276 - val_accuracy: 0.8051\n",
            "Epoch 62/200\n",
            "62/62 [==============================] - 0s 4ms/step - loss: 0.4490 - accuracy: 0.7798 - val_loss: 0.4281 - val_accuracy: 0.8027\n",
            "Epoch 63/200\n",
            "62/62 [==============================] - 0s 3ms/step - loss: 0.4435 - accuracy: 0.7902 - val_loss: 0.4272 - val_accuracy: 0.8021\n",
            "Epoch 64/200\n",
            "62/62 [==============================] - 0s 3ms/step - loss: 0.4560 - accuracy: 0.7806 - val_loss: 0.4279 - val_accuracy: 0.8033\n",
            "Epoch 65/200\n",
            "62/62 [==============================] - 0s 3ms/step - loss: 0.4576 - accuracy: 0.7768 - val_loss: 0.4277 - val_accuracy: 0.8015\n",
            "Epoch 66/200\n",
            "62/62 [==============================] - 0s 3ms/step - loss: 0.4509 - accuracy: 0.7809 - val_loss: 0.4280 - val_accuracy: 0.8051\n",
            "Epoch 67/200\n",
            "62/62 [==============================] - 0s 3ms/step - loss: 0.4485 - accuracy: 0.7793 - val_loss: 0.4276 - val_accuracy: 0.8045\n",
            "Epoch 68/200\n",
            "62/62 [==============================] - 0s 3ms/step - loss: 0.4418 - accuracy: 0.7859 - val_loss: 0.4271 - val_accuracy: 0.8051\n",
            "Epoch 69/200\n",
            "62/62 [==============================] - 0s 3ms/step - loss: 0.4491 - accuracy: 0.7887 - val_loss: 0.4279 - val_accuracy: 0.8051\n",
            "Epoch 70/200\n",
            "62/62 [==============================] - 0s 3ms/step - loss: 0.4480 - accuracy: 0.7783 - val_loss: 0.4285 - val_accuracy: 0.8039\n",
            "Epoch 71/200\n",
            "62/62 [==============================] - 0s 3ms/step - loss: 0.4526 - accuracy: 0.7760 - val_loss: 0.4293 - val_accuracy: 0.8045\n",
            "Epoch 72/200\n",
            "62/62 [==============================] - 0s 3ms/step - loss: 0.4524 - accuracy: 0.7791 - val_loss: 0.4289 - val_accuracy: 0.8057\n",
            "Epoch 73/200\n",
            "62/62 [==============================] - 0s 4ms/step - loss: 0.4505 - accuracy: 0.7834 - val_loss: 0.4276 - val_accuracy: 0.8063\n",
            "Epoch 74/200\n",
            "62/62 [==============================] - 0s 3ms/step - loss: 0.4452 - accuracy: 0.7791 - val_loss: 0.4285 - val_accuracy: 0.8051\n",
            "Epoch 75/200\n",
            "62/62 [==============================] - 0s 3ms/step - loss: 0.4492 - accuracy: 0.7811 - val_loss: 0.4288 - val_accuracy: 0.8057\n",
            "Epoch 76/200\n",
            "62/62 [==============================] - 0s 3ms/step - loss: 0.4439 - accuracy: 0.7826 - val_loss: 0.4287 - val_accuracy: 0.8086\n",
            "Epoch 77/200\n",
            "62/62 [==============================] - 0s 3ms/step - loss: 0.4479 - accuracy: 0.7872 - val_loss: 0.4286 - val_accuracy: 0.8063\n",
            "Epoch 78/200\n",
            "62/62 [==============================] - 0s 3ms/step - loss: 0.4473 - accuracy: 0.7819 - val_loss: 0.4276 - val_accuracy: 0.8069\n",
            "Epoch 79/200\n",
            "62/62 [==============================] - 0s 3ms/step - loss: 0.4510 - accuracy: 0.7854 - val_loss: 0.4287 - val_accuracy: 0.8045\n",
            "Epoch 80/200\n",
            "62/62 [==============================] - 0s 3ms/step - loss: 0.4420 - accuracy: 0.7864 - val_loss: 0.4291 - val_accuracy: 0.8027\n",
            "Epoch 81/200\n",
            "62/62 [==============================] - 0s 3ms/step - loss: 0.4463 - accuracy: 0.7834 - val_loss: 0.4287 - val_accuracy: 0.8045\n",
            "Epoch 82/200\n",
            "62/62 [==============================] - 0s 3ms/step - loss: 0.4454 - accuracy: 0.7836 - val_loss: 0.4285 - val_accuracy: 0.8063\n",
            "Epoch 83/200\n",
            "62/62 [==============================] - 0s 3ms/step - loss: 0.4518 - accuracy: 0.7781 - val_loss: 0.4285 - val_accuracy: 0.8075\n",
            "Epoch 84/200\n",
            "62/62 [==============================] - 0s 3ms/step - loss: 0.4478 - accuracy: 0.7809 - val_loss: 0.4294 - val_accuracy: 0.8057\n",
            "Epoch 85/200\n",
            "62/62 [==============================] - 0s 3ms/step - loss: 0.4448 - accuracy: 0.7803 - val_loss: 0.4292 - val_accuracy: 0.8063\n",
            "Epoch 86/200\n",
            "62/62 [==============================] - 0s 3ms/step - loss: 0.4482 - accuracy: 0.7869 - val_loss: 0.4289 - val_accuracy: 0.8063\n",
            "Epoch 87/200\n",
            "62/62 [==============================] - 0s 3ms/step - loss: 0.4485 - accuracy: 0.7831 - val_loss: 0.4286 - val_accuracy: 0.8063\n",
            "Epoch 88/200\n",
            "62/62 [==============================] - 0s 3ms/step - loss: 0.4454 - accuracy: 0.7814 - val_loss: 0.4281 - val_accuracy: 0.8063\n",
            "Epoch 89/200\n",
            "62/62 [==============================] - 0s 3ms/step - loss: 0.4510 - accuracy: 0.7768 - val_loss: 0.4289 - val_accuracy: 0.8051\n",
            "Epoch 90/200\n",
            "62/62 [==============================] - 0s 3ms/step - loss: 0.4509 - accuracy: 0.7831 - val_loss: 0.4284 - val_accuracy: 0.8051\n",
            "Epoch 91/200\n",
            "62/62 [==============================] - 0s 3ms/step - loss: 0.4430 - accuracy: 0.7890 - val_loss: 0.4290 - val_accuracy: 0.8063\n",
            "Epoch 92/200\n",
            "62/62 [==============================] - 0s 3ms/step - loss: 0.4436 - accuracy: 0.7839 - val_loss: 0.4285 - val_accuracy: 0.8069\n",
            "Epoch 93/200\n",
            "62/62 [==============================] - 0s 3ms/step - loss: 0.4524 - accuracy: 0.7854 - val_loss: 0.4287 - val_accuracy: 0.8063\n",
            "Epoch 94/200\n",
            "62/62 [==============================] - 0s 3ms/step - loss: 0.4493 - accuracy: 0.7798 - val_loss: 0.4295 - val_accuracy: 0.8057\n",
            "Epoch 95/200\n",
            "62/62 [==============================] - 0s 3ms/step - loss: 0.4439 - accuracy: 0.7819 - val_loss: 0.4283 - val_accuracy: 0.8086\n",
            "Epoch 96/200\n",
            "62/62 [==============================] - 0s 3ms/step - loss: 0.4372 - accuracy: 0.7836 - val_loss: 0.4276 - val_accuracy: 0.8033\n",
            "Epoch 97/200\n",
            "62/62 [==============================] - 0s 3ms/step - loss: 0.4417 - accuracy: 0.7854 - val_loss: 0.4284 - val_accuracy: 0.8051\n",
            "Epoch 98/200\n",
            "62/62 [==============================] - 0s 3ms/step - loss: 0.4493 - accuracy: 0.7798 - val_loss: 0.4288 - val_accuracy: 0.8063\n",
            "Epoch 99/200\n",
            "62/62 [==============================] - 0s 3ms/step - loss: 0.4403 - accuracy: 0.7862 - val_loss: 0.4283 - val_accuracy: 0.8039\n",
            "Epoch 100/200\n",
            "62/62 [==============================] - 0s 3ms/step - loss: 0.4377 - accuracy: 0.7890 - val_loss: 0.4275 - val_accuracy: 0.8051\n",
            "Epoch 101/200\n",
            "62/62 [==============================] - 0s 3ms/step - loss: 0.4447 - accuracy: 0.7872 - val_loss: 0.4276 - val_accuracy: 0.8063\n",
            "Epoch 102/200\n",
            "62/62 [==============================] - 0s 3ms/step - loss: 0.4344 - accuracy: 0.7872 - val_loss: 0.4286 - val_accuracy: 0.8045\n",
            "Epoch 103/200\n",
            "62/62 [==============================] - 0s 3ms/step - loss: 0.4415 - accuracy: 0.7877 - val_loss: 0.4286 - val_accuracy: 0.8051\n",
            "Epoch 104/200\n",
            "62/62 [==============================] - 0s 3ms/step - loss: 0.4477 - accuracy: 0.7783 - val_loss: 0.4291 - val_accuracy: 0.8075\n",
            "Epoch 105/200\n",
            "62/62 [==============================] - 0s 3ms/step - loss: 0.4433 - accuracy: 0.7831 - val_loss: 0.4297 - val_accuracy: 0.8069\n",
            "Epoch 106/200\n",
            "62/62 [==============================] - 0s 3ms/step - loss: 0.4365 - accuracy: 0.7842 - val_loss: 0.4299 - val_accuracy: 0.8075\n",
            "Epoch 107/200\n",
            "62/62 [==============================] - 0s 3ms/step - loss: 0.4402 - accuracy: 0.7862 - val_loss: 0.4304 - val_accuracy: 0.8051\n",
            "Epoch 108/200\n",
            "62/62 [==============================] - 0s 3ms/step - loss: 0.4428 - accuracy: 0.7826 - val_loss: 0.4298 - val_accuracy: 0.8063\n",
            "Epoch 109/200\n",
            "62/62 [==============================] - 0s 3ms/step - loss: 0.4418 - accuracy: 0.7895 - val_loss: 0.4296 - val_accuracy: 0.8086\n",
            "Epoch 110/200\n",
            "62/62 [==============================] - 0s 3ms/step - loss: 0.4361 - accuracy: 0.7928 - val_loss: 0.4299 - val_accuracy: 0.8081\n",
            "Epoch 111/200\n",
            "62/62 [==============================] - 0s 3ms/step - loss: 0.4492 - accuracy: 0.7862 - val_loss: 0.4303 - val_accuracy: 0.8057\n",
            "Epoch 112/200\n",
            "62/62 [==============================] - 0s 3ms/step - loss: 0.4404 - accuracy: 0.7887 - val_loss: 0.4289 - val_accuracy: 0.8045\n",
            "Epoch 113/200\n",
            "62/62 [==============================] - 0s 3ms/step - loss: 0.4428 - accuracy: 0.7862 - val_loss: 0.4293 - val_accuracy: 0.8086\n",
            "Epoch 114/200\n",
            "62/62 [==============================] - 0s 3ms/step - loss: 0.4463 - accuracy: 0.7836 - val_loss: 0.4298 - val_accuracy: 0.8039\n",
            "Epoch 115/200\n",
            "62/62 [==============================] - 0s 3ms/step - loss: 0.4455 - accuracy: 0.7803 - val_loss: 0.4294 - val_accuracy: 0.8069\n",
            "Epoch 116/200\n",
            "62/62 [==============================] - 0s 3ms/step - loss: 0.4442 - accuracy: 0.7819 - val_loss: 0.4289 - val_accuracy: 0.8092\n",
            "Epoch 117/200\n",
            "62/62 [==============================] - 0s 3ms/step - loss: 0.4368 - accuracy: 0.7928 - val_loss: 0.4290 - val_accuracy: 0.8069\n",
            "Epoch 118/200\n",
            "62/62 [==============================] - 0s 3ms/step - loss: 0.4431 - accuracy: 0.7869 - val_loss: 0.4295 - val_accuracy: 0.8051\n",
            "Epoch 119/200\n",
            "62/62 [==============================] - 0s 3ms/step - loss: 0.4416 - accuracy: 0.7895 - val_loss: 0.4294 - val_accuracy: 0.8063\n",
            "Epoch 120/200\n",
            "62/62 [==============================] - 0s 3ms/step - loss: 0.4428 - accuracy: 0.7847 - val_loss: 0.4300 - val_accuracy: 0.8069\n",
            "Epoch 121/200\n",
            "62/62 [==============================] - 0s 4ms/step - loss: 0.4370 - accuracy: 0.7925 - val_loss: 0.4312 - val_accuracy: 0.8075\n",
            "Epoch 122/200\n",
            "62/62 [==============================] - 0s 3ms/step - loss: 0.4482 - accuracy: 0.7844 - val_loss: 0.4301 - val_accuracy: 0.8057\n",
            "Epoch 123/200\n",
            "62/62 [==============================] - 0s 3ms/step - loss: 0.4443 - accuracy: 0.7821 - val_loss: 0.4298 - val_accuracy: 0.8063\n",
            "Epoch 124/200\n",
            "62/62 [==============================] - 0s 3ms/step - loss: 0.4416 - accuracy: 0.7882 - val_loss: 0.4294 - val_accuracy: 0.8075\n",
            "Epoch 125/200\n",
            "62/62 [==============================] - 0s 3ms/step - loss: 0.4440 - accuracy: 0.7869 - val_loss: 0.4304 - val_accuracy: 0.8057\n",
            "Epoch 126/200\n",
            "62/62 [==============================] - 0s 3ms/step - loss: 0.4376 - accuracy: 0.7900 - val_loss: 0.4303 - val_accuracy: 0.8075\n",
            "Epoch 127/200\n",
            "62/62 [==============================] - 0s 3ms/step - loss: 0.4449 - accuracy: 0.7902 - val_loss: 0.4295 - val_accuracy: 0.8075\n",
            "Epoch 128/200\n",
            "62/62 [==============================] - 0s 3ms/step - loss: 0.4392 - accuracy: 0.7872 - val_loss: 0.4303 - val_accuracy: 0.8075\n",
            "Epoch 129/200\n",
            "62/62 [==============================] - 0s 3ms/step - loss: 0.4392 - accuracy: 0.7920 - val_loss: 0.4296 - val_accuracy: 0.8081\n",
            "Epoch 130/200\n",
            "62/62 [==============================] - 0s 3ms/step - loss: 0.4375 - accuracy: 0.7910 - val_loss: 0.4304 - val_accuracy: 0.8069\n",
            "Epoch 131/200\n",
            "62/62 [==============================] - 0s 3ms/step - loss: 0.4354 - accuracy: 0.7890 - val_loss: 0.4313 - val_accuracy: 0.8069\n",
            "Epoch 132/200\n",
            "62/62 [==============================] - 0s 3ms/step - loss: 0.4410 - accuracy: 0.7862 - val_loss: 0.4313 - val_accuracy: 0.8075\n",
            "Epoch 133/200\n",
            "62/62 [==============================] - 0s 3ms/step - loss: 0.4360 - accuracy: 0.7946 - val_loss: 0.4299 - val_accuracy: 0.8051\n",
            "Epoch 134/200\n",
            "62/62 [==============================] - 0s 3ms/step - loss: 0.4413 - accuracy: 0.7859 - val_loss: 0.4302 - val_accuracy: 0.8063\n",
            "Epoch 135/200\n",
            "62/62 [==============================] - 0s 3ms/step - loss: 0.4347 - accuracy: 0.7892 - val_loss: 0.4301 - val_accuracy: 0.8063\n",
            "Epoch 136/200\n",
            "62/62 [==============================] - 0s 3ms/step - loss: 0.4431 - accuracy: 0.7857 - val_loss: 0.4288 - val_accuracy: 0.8057\n",
            "Epoch 137/200\n",
            "62/62 [==============================] - 0s 3ms/step - loss: 0.4324 - accuracy: 0.7905 - val_loss: 0.4299 - val_accuracy: 0.8122\n",
            "Epoch 138/200\n",
            "62/62 [==============================] - 0s 3ms/step - loss: 0.4400 - accuracy: 0.7923 - val_loss: 0.4299 - val_accuracy: 0.8081\n",
            "Epoch 139/200\n",
            "62/62 [==============================] - 0s 3ms/step - loss: 0.4481 - accuracy: 0.7882 - val_loss: 0.4302 - val_accuracy: 0.8092\n",
            "Epoch 140/200\n",
            "62/62 [==============================] - 0s 3ms/step - loss: 0.4427 - accuracy: 0.7892 - val_loss: 0.4301 - val_accuracy: 0.8069\n",
            "Epoch 141/200\n",
            "62/62 [==============================] - 0s 3ms/step - loss: 0.4376 - accuracy: 0.7844 - val_loss: 0.4308 - val_accuracy: 0.8104\n",
            "Epoch 142/200\n",
            "62/62 [==============================] - 0s 3ms/step - loss: 0.4414 - accuracy: 0.7905 - val_loss: 0.4289 - val_accuracy: 0.8075\n",
            "Epoch 143/200\n",
            "62/62 [==============================] - 0s 4ms/step - loss: 0.4404 - accuracy: 0.7910 - val_loss: 0.4294 - val_accuracy: 0.8092\n",
            "Epoch 144/200\n",
            "62/62 [==============================] - 0s 3ms/step - loss: 0.4429 - accuracy: 0.7857 - val_loss: 0.4296 - val_accuracy: 0.8075\n",
            "Epoch 145/200\n",
            "62/62 [==============================] - 0s 3ms/step - loss: 0.4382 - accuracy: 0.7844 - val_loss: 0.4305 - val_accuracy: 0.8069\n",
            "Epoch 146/200\n",
            "62/62 [==============================] - 0s 3ms/step - loss: 0.4394 - accuracy: 0.7864 - val_loss: 0.4303 - val_accuracy: 0.8063\n",
            "Epoch 147/200\n",
            "62/62 [==============================] - 0s 3ms/step - loss: 0.4378 - accuracy: 0.7895 - val_loss: 0.4306 - val_accuracy: 0.8081\n",
            "Epoch 148/200\n",
            "62/62 [==============================] - 0s 3ms/step - loss: 0.4450 - accuracy: 0.7915 - val_loss: 0.4306 - val_accuracy: 0.8039\n",
            "Epoch 149/200\n",
            "62/62 [==============================] - 0s 3ms/step - loss: 0.4450 - accuracy: 0.7897 - val_loss: 0.4304 - val_accuracy: 0.8063\n",
            "Epoch 150/200\n",
            "62/62 [==============================] - 0s 3ms/step - loss: 0.4330 - accuracy: 0.7930 - val_loss: 0.4302 - val_accuracy: 0.8057\n",
            "Epoch 151/200\n",
            "62/62 [==============================] - 0s 3ms/step - loss: 0.4440 - accuracy: 0.7918 - val_loss: 0.4288 - val_accuracy: 0.8051\n",
            "Epoch 152/200\n",
            "62/62 [==============================] - 0s 3ms/step - loss: 0.4368 - accuracy: 0.7913 - val_loss: 0.4293 - val_accuracy: 0.8063\n",
            "Epoch 153/200\n",
            "62/62 [==============================] - 0s 3ms/step - loss: 0.4372 - accuracy: 0.7908 - val_loss: 0.4300 - val_accuracy: 0.8069\n",
            "Epoch 154/200\n",
            "62/62 [==============================] - 0s 3ms/step - loss: 0.4483 - accuracy: 0.7880 - val_loss: 0.4304 - val_accuracy: 0.8081\n",
            "Epoch 155/200\n",
            "62/62 [==============================] - 0s 3ms/step - loss: 0.4420 - accuracy: 0.7890 - val_loss: 0.4311 - val_accuracy: 0.8081\n",
            "Epoch 156/200\n",
            "62/62 [==============================] - 0s 3ms/step - loss: 0.4391 - accuracy: 0.7915 - val_loss: 0.4292 - val_accuracy: 0.8075\n",
            "Epoch 157/200\n",
            "62/62 [==============================] - 0s 3ms/step - loss: 0.4351 - accuracy: 0.7910 - val_loss: 0.4296 - val_accuracy: 0.8063\n",
            "Epoch 158/200\n",
            "62/62 [==============================] - 0s 3ms/step - loss: 0.4416 - accuracy: 0.7826 - val_loss: 0.4300 - val_accuracy: 0.8075\n",
            "Epoch 159/200\n",
            "62/62 [==============================] - 0s 3ms/step - loss: 0.4366 - accuracy: 0.7875 - val_loss: 0.4313 - val_accuracy: 0.8069\n",
            "Epoch 160/200\n",
            "62/62 [==============================] - 1s 12ms/step - loss: 0.4361 - accuracy: 0.7819 - val_loss: 0.4311 - val_accuracy: 0.8057\n",
            "Epoch 161/200\n",
            "62/62 [==============================] - 0s 3ms/step - loss: 0.4419 - accuracy: 0.7816 - val_loss: 0.4302 - val_accuracy: 0.8063\n",
            "Epoch 162/200\n",
            "62/62 [==============================] - 0s 3ms/step - loss: 0.4380 - accuracy: 0.7885 - val_loss: 0.4302 - val_accuracy: 0.8057\n",
            "Epoch 163/200\n",
            "62/62 [==============================] - 0s 3ms/step - loss: 0.4390 - accuracy: 0.7925 - val_loss: 0.4313 - val_accuracy: 0.8045\n",
            "Epoch 164/200\n",
            "62/62 [==============================] - 0s 3ms/step - loss: 0.4396 - accuracy: 0.7882 - val_loss: 0.4314 - val_accuracy: 0.8075\n",
            "Epoch 165/200\n",
            "62/62 [==============================] - 0s 4ms/step - loss: 0.4398 - accuracy: 0.7895 - val_loss: 0.4314 - val_accuracy: 0.8069\n",
            "Epoch 166/200\n",
            "62/62 [==============================] - 0s 3ms/step - loss: 0.4393 - accuracy: 0.7842 - val_loss: 0.4313 - val_accuracy: 0.8086\n",
            "Epoch 167/200\n",
            "62/62 [==============================] - 0s 3ms/step - loss: 0.4402 - accuracy: 0.7801 - val_loss: 0.4304 - val_accuracy: 0.8069\n",
            "Epoch 168/200\n",
            "62/62 [==============================] - 0s 3ms/step - loss: 0.4368 - accuracy: 0.7908 - val_loss: 0.4303 - val_accuracy: 0.8063\n",
            "Epoch 169/200\n",
            "62/62 [==============================] - 0s 4ms/step - loss: 0.4413 - accuracy: 0.7887 - val_loss: 0.4315 - val_accuracy: 0.8069\n",
            "Epoch 170/200\n",
            "62/62 [==============================] - 0s 3ms/step - loss: 0.4399 - accuracy: 0.7895 - val_loss: 0.4302 - val_accuracy: 0.8057\n",
            "Epoch 171/200\n",
            "62/62 [==============================] - 0s 3ms/step - loss: 0.4379 - accuracy: 0.7930 - val_loss: 0.4299 - val_accuracy: 0.8075\n",
            "Epoch 172/200\n",
            "62/62 [==============================] - 0s 3ms/step - loss: 0.4352 - accuracy: 0.7943 - val_loss: 0.4301 - val_accuracy: 0.8045\n",
            "Epoch 173/200\n",
            "62/62 [==============================] - 0s 3ms/step - loss: 0.4402 - accuracy: 0.7902 - val_loss: 0.4306 - val_accuracy: 0.8081\n",
            "Epoch 174/200\n",
            "62/62 [==============================] - 0s 3ms/step - loss: 0.4408 - accuracy: 0.7844 - val_loss: 0.4306 - val_accuracy: 0.8086\n",
            "Epoch 175/200\n",
            "62/62 [==============================] - 0s 3ms/step - loss: 0.4403 - accuracy: 0.7839 - val_loss: 0.4299 - val_accuracy: 0.8057\n",
            "Epoch 176/200\n",
            "62/62 [==============================] - 0s 3ms/step - loss: 0.4417 - accuracy: 0.7806 - val_loss: 0.4304 - val_accuracy: 0.8069\n",
            "Epoch 177/200\n",
            "62/62 [==============================] - 0s 4ms/step - loss: 0.4361 - accuracy: 0.7811 - val_loss: 0.4311 - val_accuracy: 0.8057\n",
            "Epoch 178/200\n",
            "62/62 [==============================] - 0s 3ms/step - loss: 0.4416 - accuracy: 0.7882 - val_loss: 0.4310 - val_accuracy: 0.8063\n",
            "Epoch 179/200\n",
            "62/62 [==============================] - 0s 3ms/step - loss: 0.4328 - accuracy: 0.7908 - val_loss: 0.4313 - val_accuracy: 0.8039\n",
            "Epoch 180/200\n",
            "62/62 [==============================] - 0s 3ms/step - loss: 0.4326 - accuracy: 0.7933 - val_loss: 0.4305 - val_accuracy: 0.8063\n",
            "Epoch 181/200\n",
            "62/62 [==============================] - 0s 3ms/step - loss: 0.4365 - accuracy: 0.7862 - val_loss: 0.4305 - val_accuracy: 0.8069\n",
            "Epoch 182/200\n",
            "62/62 [==============================] - 0s 3ms/step - loss: 0.4387 - accuracy: 0.7867 - val_loss: 0.4311 - val_accuracy: 0.8039\n",
            "Epoch 183/200\n",
            "62/62 [==============================] - 0s 3ms/step - loss: 0.4412 - accuracy: 0.7915 - val_loss: 0.4310 - val_accuracy: 0.8051\n",
            "Epoch 184/200\n",
            "62/62 [==============================] - 0s 3ms/step - loss: 0.4393 - accuracy: 0.7880 - val_loss: 0.4312 - val_accuracy: 0.8075\n",
            "Epoch 185/200\n",
            "62/62 [==============================] - 0s 3ms/step - loss: 0.4364 - accuracy: 0.7918 - val_loss: 0.4318 - val_accuracy: 0.8063\n",
            "Epoch 186/200\n",
            "62/62 [==============================] - 0s 3ms/step - loss: 0.4414 - accuracy: 0.7892 - val_loss: 0.4330 - val_accuracy: 0.8051\n",
            "Epoch 187/200\n",
            "62/62 [==============================] - 0s 3ms/step - loss: 0.4375 - accuracy: 0.7885 - val_loss: 0.4323 - val_accuracy: 0.8039\n",
            "Epoch 188/200\n",
            "62/62 [==============================] - 0s 3ms/step - loss: 0.4378 - accuracy: 0.7885 - val_loss: 0.4334 - val_accuracy: 0.8039\n",
            "Epoch 189/200\n",
            "62/62 [==============================] - 0s 3ms/step - loss: 0.4389 - accuracy: 0.7958 - val_loss: 0.4333 - val_accuracy: 0.8063\n",
            "Epoch 190/200\n",
            "62/62 [==============================] - 0s 3ms/step - loss: 0.4445 - accuracy: 0.7829 - val_loss: 0.4330 - val_accuracy: 0.8075\n",
            "Epoch 191/200\n",
            "62/62 [==============================] - 0s 3ms/step - loss: 0.4385 - accuracy: 0.7877 - val_loss: 0.4329 - val_accuracy: 0.8081\n",
            "Epoch 192/200\n",
            "62/62 [==============================] - 0s 3ms/step - loss: 0.4338 - accuracy: 0.7905 - val_loss: 0.4327 - val_accuracy: 0.8092\n",
            "Epoch 193/200\n",
            "62/62 [==============================] - 0s 3ms/step - loss: 0.4410 - accuracy: 0.7842 - val_loss: 0.4325 - val_accuracy: 0.8086\n",
            "Epoch 194/200\n",
            "62/62 [==============================] - 0s 3ms/step - loss: 0.4412 - accuracy: 0.7859 - val_loss: 0.4332 - val_accuracy: 0.8075\n",
            "Epoch 195/200\n",
            "62/62 [==============================] - 0s 4ms/step - loss: 0.4312 - accuracy: 0.7892 - val_loss: 0.4335 - val_accuracy: 0.8039\n",
            "Epoch 196/200\n",
            "62/62 [==============================] - 0s 4ms/step - loss: 0.4326 - accuracy: 0.7895 - val_loss: 0.4328 - val_accuracy: 0.8051\n",
            "Epoch 197/200\n",
            "62/62 [==============================] - 0s 3ms/step - loss: 0.4403 - accuracy: 0.7923 - val_loss: 0.4313 - val_accuracy: 0.8075\n",
            "Epoch 198/200\n",
            "62/62 [==============================] - 0s 3ms/step - loss: 0.4424 - accuracy: 0.7834 - val_loss: 0.4321 - val_accuracy: 0.8069\n",
            "Epoch 199/200\n",
            "62/62 [==============================] - 0s 3ms/step - loss: 0.4327 - accuracy: 0.7951 - val_loss: 0.4322 - val_accuracy: 0.8063\n",
            "Epoch 200/200\n",
            "62/62 [==============================] - 0s 3ms/step - loss: 0.4369 - accuracy: 0.7849 - val_loss: 0.4337 - val_accuracy: 0.8092\n"
          ]
        }
      ],
      "source": [
        "# functional API\n",
        "history1 = model1.fit(train_dataset, epochs=200, validation_data=(val_dataset))"
      ]
    },
    {
      "cell_type": "markdown",
      "metadata": {
        "id": "5cWHvOoxEYLc"
      },
      "source": [
        "## 8 - Model Evaluation"
      ]
    },
    {
      "cell_type": "markdown",
      "metadata": {
        "id": "hHnZ0_WxGTrJ"
      },
      "source": [
        "Sequential API"
      ]
    },
    {
      "cell_type": "code",
      "execution_count": null,
      "metadata": {
        "colab": {
          "base_uri": "https://localhost:8080/",
          "height": 298
        },
        "id": "LzRIxywgEfl8",
        "outputId": "3ba6265a-0e71-4097-b569-316491a7abb8"
      },
      "outputs": [
        {
          "data": {
            "text/plain": [
              "Text(0.5, 1.0, 'Dengan Dropout')"
            ]
          },
          "execution_count": 153,
          "metadata": {},
          "output_type": "execute_result"
        },
        {
          "data": {
            "image/png": "[encoded data removed]",
            "text/plain": [
              "<Figure size 432x288 with 1 Axes>"
            ]
          },
          "metadata": {
            "needs_background": "light"
          },
          "output_type": "display_data"
        }
      ],
      "source": [
        "metrics = pd.DataFrame(history.history)\n",
        "metrics[['loss', 'val_loss']].plot();"
      ]
    },
    {
      "cell_type": "markdown",
      "metadata": {
        "id": "8nhPcnNvKw6N"
      },
      "source": [
        "Berdasarkan grafik diatas:\n",
        "- Nilai loss ada dibawah 0.5\n",
        "- Setelah epoch ke 150 nilai loss dan val loss mulai mendekati satu sama lain sehingga model tidak overfit"
      ]
    },
    {
      "cell_type": "code",
      "execution_count": null,
      "metadata": {
        "colab": {
          "base_uri": "https://localhost:8080/"
        },
        "id": "oNG1CRp1EmD9",
        "outputId": "0bddd5f4-4704-45d1-aea7-88f2b52d447a"
      },
      "outputs": [
        {
          "name": "stdout",
          "output_type": "stream",
          "text": [
            "              precision    recall  f1-score   support\n",
            "\n",
            "           0       0.82      0.92      0.87      1035\n",
            "           1       0.66      0.44      0.53       372\n",
            "\n",
            "    accuracy                           0.79      1407\n",
            "   macro avg       0.74      0.68      0.70      1407\n",
            "weighted avg       0.78      0.79      0.78      1407\n",
            "\n"
          ]
        }
      ],
      "source": [
        "y_pred = model.predict(X_test_trans)\n",
        "y_pred = np.where(y_pred >= 0.5, 1, 0)\n",
        "print(classification_report(y_test, y_pred))"
      ]
    },
    {
      "cell_type": "markdown",
      "metadata": {
        "id": "KdvmzqsZLP1Z"
      },
      "source": [
        "Berdasarkan Classification Report:\n",
        "- Nilai akurasi dari model adalah 0.79\n",
        "- Model cenderung dapat menebak customer yang tidak churn (0) dikarenakan sample yang dimiliki lebih banyak untuk customer tidak churn\n",
        "- Hasil recall rendah (dibawah 50% atau 44%) menunjukkan bahwa hasil False Negative tinggi yang artinya banyak customer churn yang tidak terdeteksi\n",
        "- Hasil precision tinggi (diatas 60% atau 66%) menunjukkan jika False Positive rendah yang artinya customer yang seharusnya tidak churn tapi dideteksi churn jumlahnya sedikit."
      ]
    },
    {
      "cell_type": "code",
      "execution_count": 190,
      "metadata": {
        "colab": {
          "base_uri": "https://localhost:8080/",
          "height": 282
        },
        "id": "Ceff_0nBKQNR",
        "outputId": "3ffe39b3-bea3-47e8-b024-ed8a23dae6a4"
      },
      "outputs": [
        {
          "data": {
            "text/plain": [
              "<matplotlib.axes._subplots.AxesSubplot at 0x7f84f3a262d0>"
            ]
          },
          "execution_count": 190,
          "metadata": {},
          "output_type": "execute_result"
        },
        {
          "data": {
            "image/png": "[encoded data removed]",
            "text/plain": [
              "<Figure size 432x288 with 2 Axes>"
            ]
          },
          "metadata": {
            "needs_background": "light"
          },
          "output_type": "display_data"
        }
      ],
      "source": [
        "cf_matrix = confusion_matrix(y_test, y_pred)\n",
        "\n",
        "group_names = ['True Neg', 'False Pos', 'False Neg', 'True Pos']\n",
        "group_count = ['{0:0.0f}'.format(value) for value in\n",
        "                cf_matrix.flatten()]\n",
        "\n",
        "labels = [f'{v1}\\n{v2}' for v1, v2 in\n",
        "          zip(group_names,group_count)]\n",
        "\n",
        "labels = np.asarray(labels).reshape(2,2)\n",
        "\n",
        "sns.heatmap(cf_matrix, annot=labels, fmt='')"
      ]
    },
    {
      "cell_type": "markdown",
      "metadata": {
        "id": "JMeunKfMNrP5"
      },
      "source": [
        "Berdasarkan confusion matrix:\n",
        "- Confusion matrix membuktikan pernyataan sebelumnya dimana:\n",
        "  - False Negative tinggi yang artinya banyak orang churn tapi tidak terdeteksi\n",
        "  - Flase Positive rendah yang artinya orang tidak churn tapi terdeteksi churn jumlah nya sedikit"
      ]
    },
    {
      "cell_type": "markdown",
      "metadata": {
        "id": "1LG4hbJYLl7E"
      },
      "source": [
        "Functional API"
      ]
    },
    {
      "cell_type": "code",
      "execution_count": null,
      "metadata": {
        "colab": {
          "base_uri": "https://localhost:8080/",
          "height": 265
        },
        "id": "6O5Qk6XvcQvV",
        "outputId": "ec297893-160a-4671-d09c-94bae8903ce8"
      },
      "outputs": [
        {
          "data": {
            "image/png": "[encoded data removed]",
            "text/plain": [
              "<Figure size 432x288 with 1 Axes>"
            ]
          },
          "metadata": {
            "needs_background": "light"
          },
          "output_type": "display_data"
        }
      ],
      "source": [
        "metrics1 = pd.DataFrame(history1.history)\n",
        "metrics1[['loss', 'val_loss']].plot();"
      ]
    },
    {
      "cell_type": "markdown",
      "metadata": {
        "id": "uby2BwrROgwF"
      },
      "source": [
        "Berdasarkan grafik diatas:\n",
        "- Nilai loss ada dibawah 0.45\n",
        "- Pada epoch ke 200 nilai loss dan val loss mendekati satu sama lain sehingga model tidak overfit"
      ]
    },
    {
      "cell_type": "code",
      "execution_count": null,
      "metadata": {
        "colab": {
          "base_uri": "https://localhost:8080/"
        },
        "id": "90vO4ElqjCFw",
        "outputId": "e1bcba44-cdd8-41f8-a1aa-a3dca324a646"
      },
      "outputs": [
        {
          "name": "stdout",
          "output_type": "stream",
          "text": [
            "              precision    recall  f1-score   support\n",
            "\n",
            "           0       0.82      0.92      0.87      1035\n",
            "           1       0.66      0.44      0.53       372\n",
            "\n",
            "    accuracy                           0.79      1407\n",
            "   macro avg       0.74      0.68      0.70      1407\n",
            "weighted avg       0.78      0.79      0.78      1407\n",
            "\n"
          ]
        }
      ],
      "source": [
        "y_pred1 = model1.predict(X_test_trans)\n",
        "y_pred1 = np.where(y_pred > 0.5, 1, 0)\n",
        "print(classification_report(y_test, y_pred1))"
      ]
    },
    {
      "cell_type": "markdown",
      "metadata": {
        "id": "3SwGx5xcO3wu"
      },
      "source": [
        "Berdasarkan Classification Report:\n",
        "- Nilai akurasi dari model adalah 0.79\n",
        "- Model cenderung dapat menebak customer yang tidak churn (0) dikarenakan sample yang dimiliki lebih banyak untuk customer tidak churn\n",
        "- Hasil recall rendah (dibawah 50% atau 44%) menunjukkan bahwa hasil False Negative tinggi yang artinya banyak customer churn yang tidak terdeteksi\n",
        "- Hasil precision tinggi (diatas 60% atau 66%) menunjukkan jika False Positive rendah yang artinya customer yang seharusnya tidak churn tapi dideteksi churn jumlahnya sedikit."
      ]
    },
    {
      "cell_type": "code",
      "execution_count": 192,
      "metadata": {
        "colab": {
          "base_uri": "https://localhost:8080/",
          "height": 282
        },
        "id": "nt9wh-f6KeQx",
        "outputId": "35ac7fa8-4462-4129-eb5f-e6ead109c257"
      },
      "outputs": [
        {
          "data": {
            "text/plain": [
              "<matplotlib.axes._subplots.AxesSubplot at 0x7f84ed9f2310>"
            ]
          },
          "execution_count": 192,
          "metadata": {},
          "output_type": "execute_result"
        },
        {
          "data": {
            "image/png": "[encoded data removed]",
            "text/plain": [
              "<Figure size 432x288 with 2 Axes>"
            ]
          },
          "metadata": {
            "needs_background": "light"
          },
          "output_type": "display_data"
        }
      ],
      "source": [
        "cf_matrix = confusion_matrix(y_test, y_pred1)\n",
        "\n",
        "group_names = ['True Neg', 'False Pos', 'False Neg', 'True Pos']\n",
        "group_count = ['{0:0.0f}'.format(value) for value in\n",
        "                cf_matrix.flatten()]\n",
        "\n",
        "labels = [f'{v1}\\n{v2}' for v1, v2 in\n",
        "          zip(group_names,group_count)]\n",
        "\n",
        "labels = np.asarray(labels).reshape(2,2)\n",
        "\n",
        "sns.heatmap(cf_matrix, annot=labels, fmt='')"
      ]
    },
    {
      "cell_type": "markdown",
      "metadata": {
        "id": "ahEql8SkPMQ8"
      },
      "source": [
        "Berdasarkan confusion matrix:\n",
        "- COnfusion matrix membuktikan pernyataan sebelumnya dimana:\n",
        "  - False Negative tinggi yang artinya banyak orang churn tapi tidak terdeteksi\n",
        "  - Flase Positive rendah yang artinya orang tidak churn tapi terdeteksi churn jumlah nya sedikit"
      ]
    },
    {
      "cell_type": "markdown",
      "metadata": {
        "id": "IfYWUfvBPVPN"
      },
      "source": [
        "### Summary\n",
        "- Tidak ada perbedaan yang signifikan dari grafik loss dan val loss antara Sequential API dan Functional API\n",
        "- Grafik loss dan val loss menunjukkan jika saat epoch ke 200 kedua model tidaklah overfit\n",
        "- Jika dilihat dari Classification report, nilai dari tiap metriksnya di kedua API sama\n",
        "- Akurasi dikedua model adalah 79%\n",
        "- Model lebih cenderung memprediksi customer tidak churn dikarenakan datanya imbalance\n",
        "- Dari nilai Recall dan False Negative dapat dikatakan bila model ini tidak dapat memprediksi churn rate\n",
        "- Berdasarkan keseluruhan hasil metriks, bisa dikatakan bila penulisan API (sequential atau functional) tidak mempengaruhi hasil atau hasil yang didapatkan adalah sama antar satu sama lain\n",
        "- Model yang akan disave adalah model sequential tetapi tidak ada alasan tertentu untuk masalah penggunaannya"
      ]
    },
    {
      "cell_type": "code",
      "execution_count": null,
      "metadata": {
        "id": "b17lk5dHHRCa"
      },
      "outputs": [],
      "source": [
        "model.save(\"modelque.h5\")"
      ]
    },
    {
      "cell_type": "markdown",
      "metadata": {
        "id": "K92sJXzuND-y"
      },
      "source": [
        "## 9 - Model Inference"
      ]
    },
    {
      "cell_type": "code",
      "execution_count": null,
      "metadata": {
        "id": "i3veF6K0Qire"
      },
      "outputs": [],
      "source": [
        "model_inf = keras.models.load_model(\"modelque.h5\")\n",
        "transformer = joblib.load(\"transformer.pkl\")"
      ]
    },
    {
      "cell_type": "code",
      "execution_count": null,
      "metadata": {
        "colab": {
          "base_uri": "https://localhost:8080/",
          "height": 386
        },
        "id": "iY3gnCbEM8uV",
        "outputId": "58da1474-919f-49d3-e0e2-2227ff993402"
      },
      "outputs": [
        {
          "data": {
            "text/html": [
              "\n",
              "  <div id=\"df-4d8846a4-5f17-4e96-a082-5d22c24a40f1\">\n",
              "    <div class=\"colab-df-container\">\n",
              "      <div>\n",
              "<style scoped>\n",
              "    .dataframe tbody tr th:only-of-type {\n",
              "        vertical-align: middle;\n",
              "    }\n",
              "\n",
              "    .dataframe tbody tr th {\n",
              "        vertical-align: top;\n",
              "    }\n",
              "\n",
              "    .dataframe thead th {\n",
              "        text-align: right;\n",
              "    }\n",
              "</style>\n",
              "<table border=\"1\" class=\"dataframe\">\n",
              "  <thead>\n",
              "    <tr style=\"text-align: right;\">\n",
              "      <th></th>\n",
              "      <th>customerID</th>\n",
              "      <th>gender</th>\n",
              "      <th>SeniorCitizen</th>\n",
              "      <th>Partner</th>\n",
              "      <th>Dependents</th>\n",
              "      <th>tenure</th>\n",
              "      <th>PhoneService</th>\n",
              "      <th>MultipleLines</th>\n",
              "      <th>InternetService</th>\n",
              "      <th>OnlineSecurity</th>\n",
              "      <th>...</th>\n",
              "      <th>DeviceProtection</th>\n",
              "      <th>TechSupport</th>\n",
              "      <th>StreamingTV</th>\n",
              "      <th>StreamingMovies</th>\n",
              "      <th>Contract</th>\n",
              "      <th>PaperlessBilling</th>\n",
              "      <th>PaymentMethod</th>\n",
              "      <th>MonthlyCharges</th>\n",
              "      <th>TotalCharges</th>\n",
              "      <th>Churn</th>\n",
              "    </tr>\n",
              "  </thead>\n",
              "  <tbody>\n",
              "    <tr>\n",
              "      <th>0</th>\n",
              "      <td>2486-WYVVE</td>\n",
              "      <td>Male</td>\n",
              "      <td>no</td>\n",
              "      <td>Yes</td>\n",
              "      <td>No</td>\n",
              "      <td>31</td>\n",
              "      <td>Yes</td>\n",
              "      <td>Yes</td>\n",
              "      <td>DSL</td>\n",
              "      <td>No</td>\n",
              "      <td>...</td>\n",
              "      <td>Yes</td>\n",
              "      <td>Yes</td>\n",
              "      <td>Yes</td>\n",
              "      <td>Yes</td>\n",
              "      <td>One year</td>\n",
              "      <td>Yes</td>\n",
              "      <td>Mailed check</td>\n",
              "      <td>79.30</td>\n",
              "      <td>2484.00</td>\n",
              "      <td>0</td>\n",
              "    </tr>\n",
              "    <tr>\n",
              "      <th>1</th>\n",
              "      <td>8183-ONMXC</td>\n",
              "      <td>Female</td>\n",
              "      <td>no</td>\n",
              "      <td>No</td>\n",
              "      <td>No</td>\n",
              "      <td>2</td>\n",
              "      <td>Yes</td>\n",
              "      <td>No</td>\n",
              "      <td>Fiber optic</td>\n",
              "      <td>No</td>\n",
              "      <td>...</td>\n",
              "      <td>No</td>\n",
              "      <td>No</td>\n",
              "      <td>No</td>\n",
              "      <td>Yes</td>\n",
              "      <td>Month-to-month</td>\n",
              "      <td>No</td>\n",
              "      <td>Electronic check</td>\n",
              "      <td>80.75</td>\n",
              "      <td>159.45</td>\n",
              "      <td>1</td>\n",
              "    </tr>\n",
              "    <tr>\n",
              "      <th>2</th>\n",
              "      <td>0575-CUQOV</td>\n",
              "      <td>Male</td>\n",
              "      <td>yes</td>\n",
              "      <td>Yes</td>\n",
              "      <td>No</td>\n",
              "      <td>60</td>\n",
              "      <td>Yes</td>\n",
              "      <td>No</td>\n",
              "      <td>Fiber optic</td>\n",
              "      <td>No</td>\n",
              "      <td>...</td>\n",
              "      <td>Yes</td>\n",
              "      <td>No</td>\n",
              "      <td>Yes</td>\n",
              "      <td>Yes</td>\n",
              "      <td>One year</td>\n",
              "      <td>Yes</td>\n",
              "      <td>Electronic check</td>\n",
              "      <td>97.95</td>\n",
              "      <td>5867.00</td>\n",
              "      <td>0</td>\n",
              "    </tr>\n",
              "    <tr>\n",
              "      <th>3</th>\n",
              "      <td>8627-ZYGSZ</td>\n",
              "      <td>Male</td>\n",
              "      <td>no</td>\n",
              "      <td>Yes</td>\n",
              "      <td>No</td>\n",
              "      <td>47</td>\n",
              "      <td>Yes</td>\n",
              "      <td>Yes</td>\n",
              "      <td>Fiber optic</td>\n",
              "      <td>No</td>\n",
              "      <td>...</td>\n",
              "      <td>No</td>\n",
              "      <td>No</td>\n",
              "      <td>No</td>\n",
              "      <td>No</td>\n",
              "      <td>One year</td>\n",
              "      <td>Yes</td>\n",
              "      <td>Electronic check</td>\n",
              "      <td>78.90</td>\n",
              "      <td>3650.35</td>\n",
              "      <td>0</td>\n",
              "    </tr>\n",
              "    <tr>\n",
              "      <th>4</th>\n",
              "      <td>4918-FYJNT</td>\n",
              "      <td>Female</td>\n",
              "      <td>yes</td>\n",
              "      <td>Yes</td>\n",
              "      <td>No</td>\n",
              "      <td>55</td>\n",
              "      <td>Yes</td>\n",
              "      <td>Yes</td>\n",
              "      <td>Fiber optic</td>\n",
              "      <td>No</td>\n",
              "      <td>...</td>\n",
              "      <td>Yes</td>\n",
              "      <td>Yes</td>\n",
              "      <td>No</td>\n",
              "      <td>No</td>\n",
              "      <td>Month-to-month</td>\n",
              "      <td>No</td>\n",
              "      <td>Electronic check</td>\n",
              "      <td>90.45</td>\n",
              "      <td>5044.80</td>\n",
              "      <td>0</td>\n",
              "    </tr>\n",
              "  </tbody>\n",
              "</table>\n",
              "<p>5 rows × 21 columns</p>\n",
              "</div>\n",
              "      <button class=\"colab-df-convert\" onclick=\"convertToInteractive('df-4d8846a4-5f17-4e96-a082-5d22c24a40f1')\"\n",
              "              title=\"Convert this dataframe to an interactive table.\"\n",
              "              style=\"display:none;\">\n",
              "        \n",
              "  <svg xmlns=\"http://www.w3.org/2000/svg\" height=\"24px\"viewBox=\"0 0 24 24\"\n",
              "       width=\"24px\">\n",
              "    <path d=\"M0 0h24v24H0V0z\" fill=\"none\"/>\n",
              "    <path d=\"M18.56 5.44l.94 2.06.94-2.06 2.06-.94-2.06-.94-.94-2.06-.94 2.06-2.06.94zm-11 1L8.5 8.5l.94-2.06 2.06-.94-2.06-.94L8.5 2.5l-.94 2.06-2.06.94zm10 10l.94 2.06.94-2.06 2.06-.94-2.06-.94-.94-2.06-.94 2.06-2.06.94z\"/><path d=\"M17.41 7.96l-1.37-1.37c-.4-.4-.92-.59-1.43-.59-.52 0-1.04.2-1.43.59L10.3 9.45l-7.72 7.72c-.78.78-.78 2.05 0 2.83L4 21.41c.39.39.9.59 1.41.59.51 0 1.02-.2 1.41-.59l7.78-7.78 2.81-2.81c.8-.78.8-2.07 0-2.86zM5.41 20L4 18.59l7.72-7.72 1.47 1.35L5.41 20z\"/>\n",
              "  </svg>\n",
              "      </button>\n",
              "      \n",
              "  <style>\n",
              "    .colab-df-container {\n",
              "      display:flex;\n",
              "      flex-wrap:wrap;\n",
              "      gap: 12px;\n",
              "    }\n",
              "\n",
              "    .colab-df-convert {\n",
              "      background-color: #E8F0FE;\n",
              "      border: none;\n",
              "      border-radius: 50%;\n",
              "      cursor: pointer;\n",
              "      display: none;\n",
              "      fill: #1967D2;\n",
              "      height: 32px;\n",
              "      padding: 0 0 0 0;\n",
              "      width: 32px;\n",
              "    }\n",
              "\n",
              "    .colab-df-convert:hover {\n",
              "      background-color: #E2EBFA;\n",
              "      box-shadow: 0px 1px 2px rgba(60, 64, 67, 0.3), 0px 1px 3px 1px rgba(60, 64, 67, 0.15);\n",
              "      fill: #174EA6;\n",
              "    }\n",
              "\n",
              "    [theme=dark] .colab-df-convert {\n",
              "      background-color: #3B4455;\n",
              "      fill: #D2E3FC;\n",
              "    }\n",
              "\n",
              "    [theme=dark] .colab-df-convert:hover {\n",
              "      background-color: #434B5C;\n",
              "      box-shadow: 0px 1px 3px 1px rgba(0, 0, 0, 0.15);\n",
              "      filter: drop-shadow(0px 1px 2px rgba(0, 0, 0, 0.3));\n",
              "      fill: #FFFFFF;\n",
              "    }\n",
              "  </style>\n",
              "\n",
              "      <script>\n",
              "        const buttonEl =\n",
              "          document.querySelector('#df-4d8846a4-5f17-4e96-a082-5d22c24a40f1 button.colab-df-convert');\n",
              "        buttonEl.style.display =\n",
              "          google.colab.kernel.accessAllowed ? 'block' : 'none';\n",
              "\n",
              "        async function convertToInteractive(key) {\n",
              "          const element = document.querySelector('#df-4d8846a4-5f17-4e96-a082-5d22c24a40f1');\n",
              "          const dataTable =\n",
              "            await google.colab.kernel.invokeFunction('convertToInteractive',\n",
              "                                                     [key], {});\n",
              "          if (!dataTable) return;\n",
              "\n",
              "          const docLinkHtml = 'Like what you see? Visit the ' +\n",
              "            '<a target=\"_blank\" href=https://colab.research.google.com/notebooks/data_table.ipynb>data table notebook</a>'\n",
              "            + ' to learn more about interactive tables.';\n",
              "          element.innerHTML = '';\n",
              "          dataTable['output_type'] = 'display_data';\n",
              "          await google.colab.output.renderOutput(dataTable, element);\n",
              "          const docLink = document.createElement('div');\n",
              "          docLink.innerHTML = docLinkHtml;\n",
              "          element.appendChild(docLink);\n",
              "        }\n",
              "      </script>\n",
              "    </div>\n",
              "  </div>\n",
              "  "
            ],
            "text/plain": [
              "   customerID  gender SeniorCitizen Partner Dependents  tenure PhoneService  \\\n",
              "0  2486-WYVVE    Male            no     Yes         No      31          Yes   \n",
              "1  8183-ONMXC  Female            no      No         No       2          Yes   \n",
              "2  0575-CUQOV    Male           yes     Yes         No      60          Yes   \n",
              "3  8627-ZYGSZ    Male            no     Yes         No      47          Yes   \n",
              "4  4918-FYJNT  Female           yes     Yes         No      55          Yes   \n",
              "\n",
              "  MultipleLines InternetService OnlineSecurity  ... DeviceProtection  \\\n",
              "0           Yes             DSL             No  ...              Yes   \n",
              "1            No     Fiber optic             No  ...               No   \n",
              "2            No     Fiber optic             No  ...              Yes   \n",
              "3           Yes     Fiber optic             No  ...               No   \n",
              "4           Yes     Fiber optic             No  ...              Yes   \n",
              "\n",
              "  TechSupport StreamingTV StreamingMovies        Contract PaperlessBilling  \\\n",
              "0         Yes         Yes             Yes        One year              Yes   \n",
              "1          No          No             Yes  Month-to-month               No   \n",
              "2          No         Yes             Yes        One year              Yes   \n",
              "3          No          No              No        One year              Yes   \n",
              "4         Yes          No              No  Month-to-month               No   \n",
              "\n",
              "      PaymentMethod MonthlyCharges  TotalCharges  Churn  \n",
              "0      Mailed check          79.30       2484.00      0  \n",
              "1  Electronic check          80.75        159.45      1  \n",
              "2  Electronic check          97.95       5867.00      0  \n",
              "3  Electronic check          78.90       3650.35      0  \n",
              "4  Electronic check          90.45       5044.80      0  \n",
              "\n",
              "[5 rows x 21 columns]"
            ]
          },
          "execution_count": 167,
          "metadata": {},
          "output_type": "execute_result"
        }
      ],
      "source": [
        "data_inf.head()"
      ]
    },
    {
      "cell_type": "code",
      "execution_count": null,
      "metadata": {
        "id": "p0Ajo7N6OalE"
      },
      "outputs": [],
      "source": [
        "y = data_inf['Churn']"
      ]
    },
    {
      "cell_type": "code",
      "execution_count": null,
      "metadata": {
        "colab": {
          "base_uri": "https://localhost:8080/",
          "height": 206
        },
        "id": "Do0DEPGiNmVa",
        "outputId": "517f85c3-e5e9-46e8-f01c-28cc492794e1"
      },
      "outputs": [
        {
          "data": {
            "text/html": [
              "\n",
              "  <div id=\"df-eab0b3d9-e6ba-46ff-92ce-838eac80f6fe\">\n",
              "    <div class=\"colab-df-container\">\n",
              "      <div>\n",
              "<style scoped>\n",
              "    .dataframe tbody tr th:only-of-type {\n",
              "        vertical-align: middle;\n",
              "    }\n",
              "\n",
              "    .dataframe tbody tr th {\n",
              "        vertical-align: top;\n",
              "    }\n",
              "\n",
              "    .dataframe thead th {\n",
              "        text-align: right;\n",
              "    }\n",
              "</style>\n",
              "<table border=\"1\" class=\"dataframe\">\n",
              "  <thead>\n",
              "    <tr style=\"text-align: right;\">\n",
              "      <th></th>\n",
              "      <th>SeniorCitizen</th>\n",
              "      <th>Partner</th>\n",
              "      <th>Dependents</th>\n",
              "      <th>tenure</th>\n",
              "      <th>OnlineSecurity</th>\n",
              "      <th>OnlineBackup</th>\n",
              "      <th>DeviceProtection</th>\n",
              "      <th>TechSupport</th>\n",
              "      <th>Contract</th>\n",
              "      <th>PaperlessBilling</th>\n",
              "      <th>PaymentMethod</th>\n",
              "      <th>MonthlyCharges</th>\n",
              "      <th>TotalCharges</th>\n",
              "    </tr>\n",
              "  </thead>\n",
              "  <tbody>\n",
              "    <tr>\n",
              "      <th>0</th>\n",
              "      <td>no</td>\n",
              "      <td>Yes</td>\n",
              "      <td>No</td>\n",
              "      <td>31</td>\n",
              "      <td>No</td>\n",
              "      <td>No</td>\n",
              "      <td>Yes</td>\n",
              "      <td>Yes</td>\n",
              "      <td>One year</td>\n",
              "      <td>Yes</td>\n",
              "      <td>Mailed check</td>\n",
              "      <td>79.30</td>\n",
              "      <td>2484.00</td>\n",
              "    </tr>\n",
              "    <tr>\n",
              "      <th>1</th>\n",
              "      <td>no</td>\n",
              "      <td>No</td>\n",
              "      <td>No</td>\n",
              "      <td>2</td>\n",
              "      <td>No</td>\n",
              "      <td>No</td>\n",
              "      <td>No</td>\n",
              "      <td>No</td>\n",
              "      <td>Month-to-month</td>\n",
              "      <td>No</td>\n",
              "      <td>Electronic check</td>\n",
              "      <td>80.75</td>\n",
              "      <td>159.45</td>\n",
              "    </tr>\n",
              "    <tr>\n",
              "      <th>2</th>\n",
              "      <td>yes</td>\n",
              "      <td>Yes</td>\n",
              "      <td>No</td>\n",
              "      <td>60</td>\n",
              "      <td>No</td>\n",
              "      <td>Yes</td>\n",
              "      <td>Yes</td>\n",
              "      <td>No</td>\n",
              "      <td>One year</td>\n",
              "      <td>Yes</td>\n",
              "      <td>Electronic check</td>\n",
              "      <td>97.95</td>\n",
              "      <td>5867.00</td>\n",
              "    </tr>\n",
              "    <tr>\n",
              "      <th>3</th>\n",
              "      <td>no</td>\n",
              "      <td>Yes</td>\n",
              "      <td>No</td>\n",
              "      <td>47</td>\n",
              "      <td>No</td>\n",
              "      <td>Yes</td>\n",
              "      <td>No</td>\n",
              "      <td>No</td>\n",
              "      <td>One year</td>\n",
              "      <td>Yes</td>\n",
              "      <td>Electronic check</td>\n",
              "      <td>78.90</td>\n",
              "      <td>3650.35</td>\n",
              "    </tr>\n",
              "    <tr>\n",
              "      <th>4</th>\n",
              "      <td>yes</td>\n",
              "      <td>Yes</td>\n",
              "      <td>No</td>\n",
              "      <td>55</td>\n",
              "      <td>No</td>\n",
              "      <td>Yes</td>\n",
              "      <td>Yes</td>\n",
              "      <td>Yes</td>\n",
              "      <td>Month-to-month</td>\n",
              "      <td>No</td>\n",
              "      <td>Electronic check</td>\n",
              "      <td>90.45</td>\n",
              "      <td>5044.80</td>\n",
              "    </tr>\n",
              "  </tbody>\n",
              "</table>\n",
              "</div>\n",
              "      <button class=\"colab-df-convert\" onclick=\"convertToInteractive('df-eab0b3d9-e6ba-46ff-92ce-838eac80f6fe')\"\n",
              "              title=\"Convert this dataframe to an interactive table.\"\n",
              "              style=\"display:none;\">\n",
              "        \n",
              "  <svg xmlns=\"http://www.w3.org/2000/svg\" height=\"24px\"viewBox=\"0 0 24 24\"\n",
              "       width=\"24px\">\n",
              "    <path d=\"M0 0h24v24H0V0z\" fill=\"none\"/>\n",
              "    <path d=\"M18.56 5.44l.94 2.06.94-2.06 2.06-.94-2.06-.94-.94-2.06-.94 2.06-2.06.94zm-11 1L8.5 8.5l.94-2.06 2.06-.94-2.06-.94L8.5 2.5l-.94 2.06-2.06.94zm10 10l.94 2.06.94-2.06 2.06-.94-2.06-.94-.94-2.06-.94 2.06-2.06.94z\"/><path d=\"M17.41 7.96l-1.37-1.37c-.4-.4-.92-.59-1.43-.59-.52 0-1.04.2-1.43.59L10.3 9.45l-7.72 7.72c-.78.78-.78 2.05 0 2.83L4 21.41c.39.39.9.59 1.41.59.51 0 1.02-.2 1.41-.59l7.78-7.78 2.81-2.81c.8-.78.8-2.07 0-2.86zM5.41 20L4 18.59l7.72-7.72 1.47 1.35L5.41 20z\"/>\n",
              "  </svg>\n",
              "      </button>\n",
              "      \n",
              "  <style>\n",
              "    .colab-df-container {\n",
              "      display:flex;\n",
              "      flex-wrap:wrap;\n",
              "      gap: 12px;\n",
              "    }\n",
              "\n",
              "    .colab-df-convert {\n",
              "      background-color: #E8F0FE;\n",
              "      border: none;\n",
              "      border-radius: 50%;\n",
              "      cursor: pointer;\n",
              "      display: none;\n",
              "      fill: #1967D2;\n",
              "      height: 32px;\n",
              "      padding: 0 0 0 0;\n",
              "      width: 32px;\n",
              "    }\n",
              "\n",
              "    .colab-df-convert:hover {\n",
              "      background-color: #E2EBFA;\n",
              "      box-shadow: 0px 1px 2px rgba(60, 64, 67, 0.3), 0px 1px 3px 1px rgba(60, 64, 67, 0.15);\n",
              "      fill: #174EA6;\n",
              "    }\n",
              "\n",
              "    [theme=dark] .colab-df-convert {\n",
              "      background-color: #3B4455;\n",
              "      fill: #D2E3FC;\n",
              "    }\n",
              "\n",
              "    [theme=dark] .colab-df-convert:hover {\n",
              "      background-color: #434B5C;\n",
              "      box-shadow: 0px 1px 3px 1px rgba(0, 0, 0, 0.15);\n",
              "      filter: drop-shadow(0px 1px 2px rgba(0, 0, 0, 0.3));\n",
              "      fill: #FFFFFF;\n",
              "    }\n",
              "  </style>\n",
              "\n",
              "      <script>\n",
              "        const buttonEl =\n",
              "          document.querySelector('#df-eab0b3d9-e6ba-46ff-92ce-838eac80f6fe button.colab-df-convert');\n",
              "        buttonEl.style.display =\n",
              "          google.colab.kernel.accessAllowed ? 'block' : 'none';\n",
              "\n",
              "        async function convertToInteractive(key) {\n",
              "          const element = document.querySelector('#df-eab0b3d9-e6ba-46ff-92ce-838eac80f6fe');\n",
              "          const dataTable =\n",
              "            await google.colab.kernel.invokeFunction('convertToInteractive',\n",
              "                                                     [key], {});\n",
              "          if (!dataTable) return;\n",
              "\n",
              "          const docLinkHtml = 'Like what you see? Visit the ' +\n",
              "            '<a target=\"_blank\" href=https://colab.research.google.com/notebooks/data_table.ipynb>data table notebook</a>'\n",
              "            + ' to learn more about interactive tables.';\n",
              "          element.innerHTML = '';\n",
              "          dataTable['output_type'] = 'display_data';\n",
              "          await google.colab.output.renderOutput(dataTable, element);\n",
              "          const docLink = document.createElement('div');\n",
              "          docLink.innerHTML = docLinkHtml;\n",
              "          element.appendChild(docLink);\n",
              "        }\n",
              "      </script>\n",
              "    </div>\n",
              "  </div>\n",
              "  "
            ],
            "text/plain": [
              "  SeniorCitizen Partner Dependents  tenure OnlineSecurity OnlineBackup  \\\n",
              "0            no     Yes         No      31             No           No   \n",
              "1            no      No         No       2             No           No   \n",
              "2           yes     Yes         No      60             No          Yes   \n",
              "3            no     Yes         No      47             No          Yes   \n",
              "4           yes     Yes         No      55             No          Yes   \n",
              "\n",
              "  DeviceProtection TechSupport        Contract PaperlessBilling  \\\n",
              "0              Yes         Yes        One year              Yes   \n",
              "1               No          No  Month-to-month               No   \n",
              "2              Yes          No        One year              Yes   \n",
              "3               No          No        One year              Yes   \n",
              "4              Yes         Yes  Month-to-month               No   \n",
              "\n",
              "      PaymentMethod  MonthlyCharges  TotalCharges  \n",
              "0      Mailed check           79.30       2484.00  \n",
              "1  Electronic check           80.75        159.45  \n",
              "2  Electronic check           97.95       5867.00  \n",
              "3  Electronic check           78.90       3650.35  \n",
              "4  Electronic check           90.45       5044.80  "
            ]
          },
          "execution_count": 169,
          "metadata": {},
          "output_type": "execute_result"
        }
      ],
      "source": [
        "data_inf_selected = data_inf[features]\n",
        "\n",
        "data_inf_selected.head()"
      ]
    },
    {
      "cell_type": "code",
      "execution_count": null,
      "metadata": {
        "id": "fKsXfWGKNR7U"
      },
      "outputs": [],
      "source": [
        "inf_scaled = transformer.transform(data_inf_selected)\n",
        "y_inf = model_inf.predict(inf_scaled)\n",
        "y_inf = np.where(y_inf > 0.5, 1, 0)\n"
      ]
    },
    {
      "cell_type": "code",
      "execution_count": null,
      "metadata": {
        "id": "vSB1XDIxVvJg"
      },
      "outputs": [],
      "source": [
        "result = y_inf.flatten()"
      ]
    },
    {
      "cell_type": "code",
      "execution_count": null,
      "metadata": {
        "colab": {
          "base_uri": "https://localhost:8080/",
          "height": 363
        },
        "id": "8s2xXfFTV6kA",
        "outputId": "29a470a3-1ee5-4058-f75b-cf13dab2f9d2"
      },
      "outputs": [
        {
          "data": {
            "text/html": [
              "\n",
              "  <div id=\"df-7c9fa5fb-e7af-4b8f-a0e3-7dfb1b9b23fd\">\n",
              "    <div class=\"colab-df-container\">\n",
              "      <div>\n",
              "<style scoped>\n",
              "    .dataframe tbody tr th:only-of-type {\n",
              "        vertical-align: middle;\n",
              "    }\n",
              "\n",
              "    .dataframe tbody tr th {\n",
              "        vertical-align: top;\n",
              "    }\n",
              "\n",
              "    .dataframe thead th {\n",
              "        text-align: right;\n",
              "    }\n",
              "</style>\n",
              "<table border=\"1\" class=\"dataframe\">\n",
              "  <thead>\n",
              "    <tr style=\"text-align: right;\">\n",
              "      <th></th>\n",
              "      <th>SeniorCitizen</th>\n",
              "      <th>Partner</th>\n",
              "      <th>Dependents</th>\n",
              "      <th>tenure</th>\n",
              "      <th>OnlineSecurity</th>\n",
              "      <th>OnlineBackup</th>\n",
              "      <th>DeviceProtection</th>\n",
              "      <th>TechSupport</th>\n",
              "      <th>Contract</th>\n",
              "      <th>PaperlessBilling</th>\n",
              "      <th>PaymentMethod</th>\n",
              "      <th>MonthlyCharges</th>\n",
              "      <th>TotalCharges</th>\n",
              "      <th>Churn</th>\n",
              "      <th>Churn pred</th>\n",
              "    </tr>\n",
              "  </thead>\n",
              "  <tbody>\n",
              "    <tr>\n",
              "      <th>0</th>\n",
              "      <td>no</td>\n",
              "      <td>Yes</td>\n",
              "      <td>No</td>\n",
              "      <td>31</td>\n",
              "      <td>No</td>\n",
              "      <td>No</td>\n",
              "      <td>Yes</td>\n",
              "      <td>Yes</td>\n",
              "      <td>One year</td>\n",
              "      <td>Yes</td>\n",
              "      <td>Mailed check</td>\n",
              "      <td>79.30</td>\n",
              "      <td>2484.00</td>\n",
              "      <td>0</td>\n",
              "      <td>0</td>\n",
              "    </tr>\n",
              "    <tr>\n",
              "      <th>1</th>\n",
              "      <td>no</td>\n",
              "      <td>No</td>\n",
              "      <td>No</td>\n",
              "      <td>2</td>\n",
              "      <td>No</td>\n",
              "      <td>No</td>\n",
              "      <td>No</td>\n",
              "      <td>No</td>\n",
              "      <td>Month-to-month</td>\n",
              "      <td>No</td>\n",
              "      <td>Electronic check</td>\n",
              "      <td>80.75</td>\n",
              "      <td>159.45</td>\n",
              "      <td>1</td>\n",
              "      <td>1</td>\n",
              "    </tr>\n",
              "    <tr>\n",
              "      <th>2</th>\n",
              "      <td>yes</td>\n",
              "      <td>Yes</td>\n",
              "      <td>No</td>\n",
              "      <td>60</td>\n",
              "      <td>No</td>\n",
              "      <td>Yes</td>\n",
              "      <td>Yes</td>\n",
              "      <td>No</td>\n",
              "      <td>One year</td>\n",
              "      <td>Yes</td>\n",
              "      <td>Electronic check</td>\n",
              "      <td>97.95</td>\n",
              "      <td>5867.00</td>\n",
              "      <td>0</td>\n",
              "      <td>0</td>\n",
              "    </tr>\n",
              "    <tr>\n",
              "      <th>3</th>\n",
              "      <td>no</td>\n",
              "      <td>Yes</td>\n",
              "      <td>No</td>\n",
              "      <td>47</td>\n",
              "      <td>No</td>\n",
              "      <td>Yes</td>\n",
              "      <td>No</td>\n",
              "      <td>No</td>\n",
              "      <td>One year</td>\n",
              "      <td>Yes</td>\n",
              "      <td>Electronic check</td>\n",
              "      <td>78.90</td>\n",
              "      <td>3650.35</td>\n",
              "      <td>0</td>\n",
              "      <td>0</td>\n",
              "    </tr>\n",
              "    <tr>\n",
              "      <th>4</th>\n",
              "      <td>yes</td>\n",
              "      <td>Yes</td>\n",
              "      <td>No</td>\n",
              "      <td>55</td>\n",
              "      <td>No</td>\n",
              "      <td>Yes</td>\n",
              "      <td>Yes</td>\n",
              "      <td>Yes</td>\n",
              "      <td>Month-to-month</td>\n",
              "      <td>No</td>\n",
              "      <td>Electronic check</td>\n",
              "      <td>90.45</td>\n",
              "      <td>5044.80</td>\n",
              "      <td>0</td>\n",
              "      <td>0</td>\n",
              "    </tr>\n",
              "    <tr>\n",
              "      <th>5</th>\n",
              "      <td>yes</td>\n",
              "      <td>No</td>\n",
              "      <td>No</td>\n",
              "      <td>22</td>\n",
              "      <td>Yes</td>\n",
              "      <td>Yes</td>\n",
              "      <td>No</td>\n",
              "      <td>No</td>\n",
              "      <td>Month-to-month</td>\n",
              "      <td>No</td>\n",
              "      <td>Electronic check</td>\n",
              "      <td>81.70</td>\n",
              "      <td>1820.90</td>\n",
              "      <td>0</td>\n",
              "      <td>0</td>\n",
              "    </tr>\n",
              "    <tr>\n",
              "      <th>6</th>\n",
              "      <td>no</td>\n",
              "      <td>Yes</td>\n",
              "      <td>Yes</td>\n",
              "      <td>16</td>\n",
              "      <td>No</td>\n",
              "      <td>No</td>\n",
              "      <td>No</td>\n",
              "      <td>No</td>\n",
              "      <td>Month-to-month</td>\n",
              "      <td>Yes</td>\n",
              "      <td>Credit card (automatic)</td>\n",
              "      <td>35.50</td>\n",
              "      <td>552.70</td>\n",
              "      <td>0</td>\n",
              "      <td>0</td>\n",
              "    </tr>\n",
              "    <tr>\n",
              "      <th>7</th>\n",
              "      <td>no</td>\n",
              "      <td>Yes</td>\n",
              "      <td>No</td>\n",
              "      <td>62</td>\n",
              "      <td>Yes</td>\n",
              "      <td>Yes</td>\n",
              "      <td>No</td>\n",
              "      <td>Yes</td>\n",
              "      <td>Two year</td>\n",
              "      <td>Yes</td>\n",
              "      <td>Electronic check</td>\n",
              "      <td>84.95</td>\n",
              "      <td>5150.55</td>\n",
              "      <td>0</td>\n",
              "      <td>0</td>\n",
              "    </tr>\n",
              "    <tr>\n",
              "      <th>8</th>\n",
              "      <td>no</td>\n",
              "      <td>Yes</td>\n",
              "      <td>Yes</td>\n",
              "      <td>18</td>\n",
              "      <td>No internet service</td>\n",
              "      <td>No internet service</td>\n",
              "      <td>No internet service</td>\n",
              "      <td>No internet service</td>\n",
              "      <td>Month-to-month</td>\n",
              "      <td>No</td>\n",
              "      <td>Mailed check</td>\n",
              "      <td>20.45</td>\n",
              "      <td>357.00</td>\n",
              "      <td>0</td>\n",
              "      <td>0</td>\n",
              "    </tr>\n",
              "    <tr>\n",
              "      <th>9</th>\n",
              "      <td>yes</td>\n",
              "      <td>No</td>\n",
              "      <td>No</td>\n",
              "      <td>57</td>\n",
              "      <td>Yes</td>\n",
              "      <td>No</td>\n",
              "      <td>Yes</td>\n",
              "      <td>Yes</td>\n",
              "      <td>Two year</td>\n",
              "      <td>No</td>\n",
              "      <td>Credit card (automatic)</td>\n",
              "      <td>101.30</td>\n",
              "      <td>5779.60</td>\n",
              "      <td>0</td>\n",
              "      <td>0</td>\n",
              "    </tr>\n",
              "  </tbody>\n",
              "</table>\n",
              "</div>\n",
              "      <button class=\"colab-df-convert\" onclick=\"convertToInteractive('df-7c9fa5fb-e7af-4b8f-a0e3-7dfb1b9b23fd')\"\n",
              "              title=\"Convert this dataframe to an interactive table.\"\n",
              "              style=\"display:none;\">\n",
              "        \n",
              "  <svg xmlns=\"http://www.w3.org/2000/svg\" height=\"24px\"viewBox=\"0 0 24 24\"\n",
              "       width=\"24px\">\n",
              "    <path d=\"M0 0h24v24H0V0z\" fill=\"none\"/>\n",
              "    <path d=\"M18.56 5.44l.94 2.06.94-2.06 2.06-.94-2.06-.94-.94-2.06-.94 2.06-2.06.94zm-11 1L8.5 8.5l.94-2.06 2.06-.94-2.06-.94L8.5 2.5l-.94 2.06-2.06.94zm10 10l.94 2.06.94-2.06 2.06-.94-2.06-.94-.94-2.06-.94 2.06-2.06.94z\"/><path d=\"M17.41 7.96l-1.37-1.37c-.4-.4-.92-.59-1.43-.59-.52 0-1.04.2-1.43.59L10.3 9.45l-7.72 7.72c-.78.78-.78 2.05 0 2.83L4 21.41c.39.39.9.59 1.41.59.51 0 1.02-.2 1.41-.59l7.78-7.78 2.81-2.81c.8-.78.8-2.07 0-2.86zM5.41 20L4 18.59l7.72-7.72 1.47 1.35L5.41 20z\"/>\n",
              "  </svg>\n",
              "      </button>\n",
              "      \n",
              "  <style>\n",
              "    .colab-df-container {\n",
              "      display:flex;\n",
              "      flex-wrap:wrap;\n",
              "      gap: 12px;\n",
              "    }\n",
              "\n",
              "    .colab-df-convert {\n",
              "      background-color: #E8F0FE;\n",
              "      border: none;\n",
              "      border-radius: 50%;\n",
              "      cursor: pointer;\n",
              "      display: none;\n",
              "      fill: #1967D2;\n",
              "      height: 32px;\n",
              "      padding: 0 0 0 0;\n",
              "      width: 32px;\n",
              "    }\n",
              "\n",
              "    .colab-df-convert:hover {\n",
              "      background-color: #E2EBFA;\n",
              "      box-shadow: 0px 1px 2px rgba(60, 64, 67, 0.3), 0px 1px 3px 1px rgba(60, 64, 67, 0.15);\n",
              "      fill: #174EA6;\n",
              "    }\n",
              "\n",
              "    [theme=dark] .colab-df-convert {\n",
              "      background-color: #3B4455;\n",
              "      fill: #D2E3FC;\n",
              "    }\n",
              "\n",
              "    [theme=dark] .colab-df-convert:hover {\n",
              "      background-color: #434B5C;\n",
              "      box-shadow: 0px 1px 3px 1px rgba(0, 0, 0, 0.15);\n",
              "      filter: drop-shadow(0px 1px 2px rgba(0, 0, 0, 0.3));\n",
              "      fill: #FFFFFF;\n",
              "    }\n",
              "  </style>\n",
              "\n",
              "      <script>\n",
              "        const buttonEl =\n",
              "          document.querySelector('#df-7c9fa5fb-e7af-4b8f-a0e3-7dfb1b9b23fd button.colab-df-convert');\n",
              "        buttonEl.style.display =\n",
              "          google.colab.kernel.accessAllowed ? 'block' : 'none';\n",
              "\n",
              "        async function convertToInteractive(key) {\n",
              "          const element = document.querySelector('#df-7c9fa5fb-e7af-4b8f-a0e3-7dfb1b9b23fd');\n",
              "          const dataTable =\n",
              "            await google.colab.kernel.invokeFunction('convertToInteractive',\n",
              "                                                     [key], {});\n",
              "          if (!dataTable) return;\n",
              "\n",
              "          const docLinkHtml = 'Like what you see? Visit the ' +\n",
              "            '<a target=\"_blank\" href=https://colab.research.google.com/notebooks/data_table.ipynb>data table notebook</a>'\n",
              "            + ' to learn more about interactive tables.';\n",
              "          element.innerHTML = '';\n",
              "          dataTable['output_type'] = 'display_data';\n",
              "          await google.colab.output.renderOutput(dataTable, element);\n",
              "          const docLink = document.createElement('div');\n",
              "          docLink.innerHTML = docLinkHtml;\n",
              "          element.appendChild(docLink);\n",
              "        }\n",
              "      </script>\n",
              "    </div>\n",
              "  </div>\n",
              "  "
            ],
            "text/plain": [
              "  SeniorCitizen Partner Dependents  tenure       OnlineSecurity  \\\n",
              "0            no     Yes         No      31                   No   \n",
              "1            no      No         No       2                   No   \n",
              "2           yes     Yes         No      60                   No   \n",
              "3            no     Yes         No      47                   No   \n",
              "4           yes     Yes         No      55                   No   \n",
              "5           yes      No         No      22                  Yes   \n",
              "6            no     Yes        Yes      16                   No   \n",
              "7            no     Yes         No      62                  Yes   \n",
              "8            no     Yes        Yes      18  No internet service   \n",
              "9           yes      No         No      57                  Yes   \n",
              "\n",
              "          OnlineBackup     DeviceProtection          TechSupport  \\\n",
              "0                   No                  Yes                  Yes   \n",
              "1                   No                   No                   No   \n",
              "2                  Yes                  Yes                   No   \n",
              "3                  Yes                   No                   No   \n",
              "4                  Yes                  Yes                  Yes   \n",
              "5                  Yes                   No                   No   \n",
              "6                   No                   No                   No   \n",
              "7                  Yes                   No                  Yes   \n",
              "8  No internet service  No internet service  No internet service   \n",
              "9                   No                  Yes                  Yes   \n",
              "\n",
              "         Contract PaperlessBilling            PaymentMethod  MonthlyCharges  \\\n",
              "0        One year              Yes             Mailed check           79.30   \n",
              "1  Month-to-month               No         Electronic check           80.75   \n",
              "2        One year              Yes         Electronic check           97.95   \n",
              "3        One year              Yes         Electronic check           78.90   \n",
              "4  Month-to-month               No         Electronic check           90.45   \n",
              "5  Month-to-month               No         Electronic check           81.70   \n",
              "6  Month-to-month              Yes  Credit card (automatic)           35.50   \n",
              "7        Two year              Yes         Electronic check           84.95   \n",
              "8  Month-to-month               No             Mailed check           20.45   \n",
              "9        Two year               No  Credit card (automatic)          101.30   \n",
              "\n",
              "   TotalCharges  Churn  Churn pred  \n",
              "0       2484.00      0           0  \n",
              "1        159.45      1           1  \n",
              "2       5867.00      0           0  \n",
              "3       3650.35      0           0  \n",
              "4       5044.80      0           0  \n",
              "5       1820.90      0           0  \n",
              "6        552.70      0           0  \n",
              "7       5150.55      0           0  \n",
              "8        357.00      0           0  \n",
              "9       5779.60      0           0  "
            ]
          },
          "execution_count": 172,
          "metadata": {},
          "output_type": "execute_result"
        }
      ],
      "source": [
        "pred = {'Churn pred': result}\n",
        "pred = pd.DataFrame(data=pred)\n",
        "concat = pd.concat([data_inf_selected, y, pred],axis=1)\n",
        "concat"
      ]
    },
    {
      "cell_type": "markdown",
      "metadata": {
        "id": "YdpnXo2ARATa"
      },
      "source": [
        "Berdasarkan model inference, data inference dapat diprediksi menggunakan model yang telah dibuat. Dimana, dari 10 model semuanya terdeteksi dengan benar"
      ]
    },
    {
      "cell_type": "markdown",
      "metadata": {
        "id": "qDsfBdK9bQoY"
      },
      "source": [
        "## 10 - Kesimpulan"
      ]
    },
    {
      "cell_type": "markdown",
      "metadata": {
        "id": "D_kt4oo7R9S8"
      },
      "source": [
        "- Terdapat 11 missing values di kolom TotalCharges, sehingga diimputasi dengan median\n",
        "- Tidak ada outliers didalam dataset\n",
        "- Datanya Imbalace dengan perbandingan No:Yes yaitu 5:2\n",
        "- Analisa hasil EDA:\n",
        "  - Kolom yang tidak memiliki pengaruh terhadap target adalah kategorik:\n",
        " `['StreamingTV', 'StreamingMovies', 'Gender', 'PhoneService', 'MultipleLines']`\n",
        "  - Semua kolom numerik menunjukkan ada keterkaitan terhadap target\n",
        "  - Selain kolom Kategorik yang disebutkan sebelumnya, semuanya memiliki kaitan terhadap target\n",
        "  - jika seseorang tidak memiliki pengamanan seperti `'OnlineBackup', 'OnlineSecurity', 'DeviceProtection', 'TechSupport'` maka kemungkinan churn lebih tinggi\n",
        "\n",
        "- Menggunakan pearson correlation, dimana korelasi diatas 0.1 terhadap target adalah feature yang terpilih, yaitu: \n",
        "\n",
        "`['SeniorCitizen', 'Partner', 'Dependents', 'tenure', 'OnlineSecurity',\n",
        "       'OnlineBackup', 'DeviceProtection', 'TechSupport', 'Contract',\n",
        "       'PaperlessBilling', 'PaymentMethod', 'MonthlyCharges', 'TotalCharges']`\n",
        "- Pada ANN, struktur-nya adalah:\n",
        "  - 2 hidden layer yang terdiri dari 20 dan 10 layer yang dimana activation function yang digunakan adalah relu dan dropout(0.5)\n",
        "  - Optimizer yang digunakan adalah adam\n",
        "- Pada Model Evaluation:\n",
        "  - Tidak ada perbedaan yang signifikan antara Sequential API dan Functional API\n",
        "  - Grafik loss dan val loss menunjukkan jika saat epoch ke 200 kedua model tidaklah overfit, dimana akurasinya adalah 79%\n",
        "  - Model lebih cenderung memprediksi customer tidak churn dikarenakan datanya imbalance\n",
        "  - Dari nilai Recall dan False Negative yang tidak baik, dapat dikatakan bila model ini tidak dapat memprediksi churn rate"
      ]
    },
    {
      "cell_type": "code",
      "execution_count": null,
      "metadata": {
        "id": "4miWNon_WMyh"
      },
      "outputs": [],
      "source": []
    }
  ],
  "metadata": {
    "accelerator": "GPU",
    "colab": {
      "name": "h8dsft_Milestone1P2_Fadhil_Muhammad_Irfan.ipynb",
      "provenance": []
    },
    "kernelspec": {
      "display_name": "Python 3",
      "name": "python3"
    },
    "language_info": {
      "name": "python"
    }
  },
  "nbformat": 4,
  "nbformat_minor": 0
}
